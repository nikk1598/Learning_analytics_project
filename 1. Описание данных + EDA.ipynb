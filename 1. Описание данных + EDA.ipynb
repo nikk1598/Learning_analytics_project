{
  "cells": [
    {
      "cell_type": "markdown",
      "source": [
        "# Подключение гугл диска"
      ],
      "metadata": {
        "id": "OAjqFZSx4Si-"
      },
      "id": "OAjqFZSx4Si-"
    },
    {
      "cell_type": "code",
      "execution_count": 31,
      "id": "PpyibtTGf4xg",
      "metadata": {
        "id": "PpyibtTGf4xg",
        "outputId": "7af875eb-e052-4c7b-8e63-470ef770e786",
        "colab": {
          "base_uri": "https://localhost:8080/"
        }
      },
      "outputs": [
        {
          "output_type": "stream",
          "name": "stdout",
          "text": [
            "Drive already mounted at /content/drive; to attempt to forcibly remount, call drive.mount(\"/content/drive\", force_remount=True).\n"
          ]
        }
      ],
      "source": [
        "from google.colab import drive\n",
        "drive.mount('/content/drive')"
      ]
    },
    {
      "cell_type": "markdown",
      "id": "067080e7",
      "metadata": {
        "id": "067080e7"
      },
      "source": [
        "# Импорт библиотек"
      ]
    },
    {
      "cell_type": "code",
      "execution_count": 32,
      "id": "4e7aafb0",
      "metadata": {
        "id": "4e7aafb0"
      },
      "outputs": [],
      "source": [
        "import pandas as pd\n",
        "import seaborn as sns\n",
        "import matplotlib.pyplot as plt\n",
        "from matplotlib import rcParams"
      ]
    },
    {
      "cell_type": "markdown",
      "id": "5175ed6f",
      "metadata": {
        "id": "5175ed6f"
      },
      "source": [
        "# Считывание данных"
      ]
    },
    {
      "cell_type": "markdown",
      "id": "a0bed179",
      "metadata": {
        "id": "a0bed179"
      },
      "source": [
        "## train.csv"
      ]
    },
    {
      "cell_type": "code",
      "execution_count": 33,
      "id": "6aba0a0b",
      "metadata": {
        "colab": {
          "base_uri": "https://localhost:8080/",
          "height": 206
        },
        "id": "6aba0a0b",
        "outputId": "51c2d614-6a0d-4b33-9389-e8dcfd3dd517"
      },
      "outputs": [
        {
          "output_type": "execute_result",
          "data": {
            "text/plain": [
              "                    ISU  ST_YEAR  SEMESTER               DISC_ID TYPE_NAME  \\\n",
              "0  17623928044460629977     2020         1  10502311854018326223     Зачет   \n",
              "1  17623928044460629977     2020         1   1601392918367593206     Зачет   \n",
              "2  17623928044460629977     2020         1   9559803959325174929     Зачет   \n",
              "3  17623928044460629977     2020         1   8955667882044263414     Зачет   \n",
              "4  17623928044460629977     2020         1  17741967398854095262   Экзамен   \n",
              "\n",
              "   DEBT  \n",
              "0     0  \n",
              "1     0  \n",
              "2     0  \n",
              "3     0  \n",
              "4     0  "
            ],
            "text/html": [
              "\n",
              "  <div id=\"df-3ab2f9d4-02df-4a58-ae03-6a1f9e3b5782\">\n",
              "    <div class=\"colab-df-container\">\n",
              "      <div>\n",
              "<style scoped>\n",
              "    .dataframe tbody tr th:only-of-type {\n",
              "        vertical-align: middle;\n",
              "    }\n",
              "\n",
              "    .dataframe tbody tr th {\n",
              "        vertical-align: top;\n",
              "    }\n",
              "\n",
              "    .dataframe thead th {\n",
              "        text-align: right;\n",
              "    }\n",
              "</style>\n",
              "<table border=\"1\" class=\"dataframe\">\n",
              "  <thead>\n",
              "    <tr style=\"text-align: right;\">\n",
              "      <th></th>\n",
              "      <th>ISU</th>\n",
              "      <th>ST_YEAR</th>\n",
              "      <th>SEMESTER</th>\n",
              "      <th>DISC_ID</th>\n",
              "      <th>TYPE_NAME</th>\n",
              "      <th>DEBT</th>\n",
              "    </tr>\n",
              "  </thead>\n",
              "  <tbody>\n",
              "    <tr>\n",
              "      <th>0</th>\n",
              "      <td>17623928044460629977</td>\n",
              "      <td>2020</td>\n",
              "      <td>1</td>\n",
              "      <td>10502311854018326223</td>\n",
              "      <td>Зачет</td>\n",
              "      <td>0</td>\n",
              "    </tr>\n",
              "    <tr>\n",
              "      <th>1</th>\n",
              "      <td>17623928044460629977</td>\n",
              "      <td>2020</td>\n",
              "      <td>1</td>\n",
              "      <td>1601392918367593206</td>\n",
              "      <td>Зачет</td>\n",
              "      <td>0</td>\n",
              "    </tr>\n",
              "    <tr>\n",
              "      <th>2</th>\n",
              "      <td>17623928044460629977</td>\n",
              "      <td>2020</td>\n",
              "      <td>1</td>\n",
              "      <td>9559803959325174929</td>\n",
              "      <td>Зачет</td>\n",
              "      <td>0</td>\n",
              "    </tr>\n",
              "    <tr>\n",
              "      <th>3</th>\n",
              "      <td>17623928044460629977</td>\n",
              "      <td>2020</td>\n",
              "      <td>1</td>\n",
              "      <td>8955667882044263414</td>\n",
              "      <td>Зачет</td>\n",
              "      <td>0</td>\n",
              "    </tr>\n",
              "    <tr>\n",
              "      <th>4</th>\n",
              "      <td>17623928044460629977</td>\n",
              "      <td>2020</td>\n",
              "      <td>1</td>\n",
              "      <td>17741967398854095262</td>\n",
              "      <td>Экзамен</td>\n",
              "      <td>0</td>\n",
              "    </tr>\n",
              "  </tbody>\n",
              "</table>\n",
              "</div>\n",
              "      <button class=\"colab-df-convert\" onclick=\"convertToInteractive('df-3ab2f9d4-02df-4a58-ae03-6a1f9e3b5782')\"\n",
              "              title=\"Convert this dataframe to an interactive table.\"\n",
              "              style=\"display:none;\">\n",
              "        \n",
              "  <svg xmlns=\"http://www.w3.org/2000/svg\" height=\"24px\"viewBox=\"0 0 24 24\"\n",
              "       width=\"24px\">\n",
              "    <path d=\"M0 0h24v24H0V0z\" fill=\"none\"/>\n",
              "    <path d=\"M18.56 5.44l.94 2.06.94-2.06 2.06-.94-2.06-.94-.94-2.06-.94 2.06-2.06.94zm-11 1L8.5 8.5l.94-2.06 2.06-.94-2.06-.94L8.5 2.5l-.94 2.06-2.06.94zm10 10l.94 2.06.94-2.06 2.06-.94-2.06-.94-.94-2.06-.94 2.06-2.06.94z\"/><path d=\"M17.41 7.96l-1.37-1.37c-.4-.4-.92-.59-1.43-.59-.52 0-1.04.2-1.43.59L10.3 9.45l-7.72 7.72c-.78.78-.78 2.05 0 2.83L4 21.41c.39.39.9.59 1.41.59.51 0 1.02-.2 1.41-.59l7.78-7.78 2.81-2.81c.8-.78.8-2.07 0-2.86zM5.41 20L4 18.59l7.72-7.72 1.47 1.35L5.41 20z\"/>\n",
              "  </svg>\n",
              "      </button>\n",
              "      \n",
              "  <style>\n",
              "    .colab-df-container {\n",
              "      display:flex;\n",
              "      flex-wrap:wrap;\n",
              "      gap: 12px;\n",
              "    }\n",
              "\n",
              "    .colab-df-convert {\n",
              "      background-color: #E8F0FE;\n",
              "      border: none;\n",
              "      border-radius: 50%;\n",
              "      cursor: pointer;\n",
              "      display: none;\n",
              "      fill: #1967D2;\n",
              "      height: 32px;\n",
              "      padding: 0 0 0 0;\n",
              "      width: 32px;\n",
              "    }\n",
              "\n",
              "    .colab-df-convert:hover {\n",
              "      background-color: #E2EBFA;\n",
              "      box-shadow: 0px 1px 2px rgba(60, 64, 67, 0.3), 0px 1px 3px 1px rgba(60, 64, 67, 0.15);\n",
              "      fill: #174EA6;\n",
              "    }\n",
              "\n",
              "    [theme=dark] .colab-df-convert {\n",
              "      background-color: #3B4455;\n",
              "      fill: #D2E3FC;\n",
              "    }\n",
              "\n",
              "    [theme=dark] .colab-df-convert:hover {\n",
              "      background-color: #434B5C;\n",
              "      box-shadow: 0px 1px 3px 1px rgba(0, 0, 0, 0.15);\n",
              "      filter: drop-shadow(0px 1px 2px rgba(0, 0, 0, 0.3));\n",
              "      fill: #FFFFFF;\n",
              "    }\n",
              "  </style>\n",
              "\n",
              "      <script>\n",
              "        const buttonEl =\n",
              "          document.querySelector('#df-3ab2f9d4-02df-4a58-ae03-6a1f9e3b5782 button.colab-df-convert');\n",
              "        buttonEl.style.display =\n",
              "          google.colab.kernel.accessAllowed ? 'block' : 'none';\n",
              "\n",
              "        async function convertToInteractive(key) {\n",
              "          const element = document.querySelector('#df-3ab2f9d4-02df-4a58-ae03-6a1f9e3b5782');\n",
              "          const dataTable =\n",
              "            await google.colab.kernel.invokeFunction('convertToInteractive',\n",
              "                                                     [key], {});\n",
              "          if (!dataTable) return;\n",
              "\n",
              "          const docLinkHtml = 'Like what you see? Visit the ' +\n",
              "            '<a target=\"_blank\" href=https://colab.research.google.com/notebooks/data_table.ipynb>data table notebook</a>'\n",
              "            + ' to learn more about interactive tables.';\n",
              "          element.innerHTML = '';\n",
              "          dataTable['output_type'] = 'display_data';\n",
              "          await google.colab.output.renderOutput(dataTable, element);\n",
              "          const docLink = document.createElement('div');\n",
              "          docLink.innerHTML = docLinkHtml;\n",
              "          element.appendChild(docLink);\n",
              "        }\n",
              "      </script>\n",
              "    </div>\n",
              "  </div>\n",
              "  "
            ]
          },
          "metadata": {},
          "execution_count": 33
        }
      ],
      "source": [
        "train = pd.read_csv('/content/drive/MyDrive/train1.csv')\n",
        "train.head()"
      ]
    },
    {
      "cell_type": "markdown",
      "id": "de0cf6ee",
      "metadata": {
        "id": "de0cf6ee"
      },
      "source": [
        "Таргет для обучения с оценками и количеством долгов студентов\n",
        "\n",
        "- ISU - UID студента\n",
        "- ST_YEAR - год получения оценки\n",
        "- SEMESTER - семестр получения оценки\n",
        "- DISC_ID - UID дисциплины\n",
        "- TYPE_NAME - форма отчётности\n",
        "- DEBT - факт наличия долга (0 - отсутствие, 1 - наличие) - таргет"
      ]
    },
    {
      "cell_type": "code",
      "execution_count": 34,
      "id": "eafe8d00",
      "metadata": {
        "colab": {
          "base_uri": "https://localhost:8080/"
        },
        "id": "eafe8d00",
        "outputId": "288dc3ac-e3ed-43f5-cacc-dd7b052144d4"
      },
      "outputs": [
        {
          "output_type": "stream",
          "name": "stdout",
          "text": [
            "<class 'pandas.core.frame.DataFrame'>\n",
            "RangeIndex: 178899 entries, 0 to 178898\n",
            "Data columns (total 6 columns):\n",
            " #   Column     Non-Null Count   Dtype \n",
            "---  ------     --------------   ----- \n",
            " 0   ISU        178899 non-null  uint64\n",
            " 1   ST_YEAR    178899 non-null  int64 \n",
            " 2   SEMESTER   178899 non-null  int64 \n",
            " 3   DISC_ID    178899 non-null  uint64\n",
            " 4   TYPE_NAME  178899 non-null  object\n",
            " 5   DEBT       178899 non-null  int64 \n",
            "dtypes: int64(3), object(1), uint64(2)\n",
            "memory usage: 8.2+ MB\n"
          ]
        }
      ],
      "source": [
        "train.info()"
      ]
    },
    {
      "cell_type": "code",
      "execution_count": 35,
      "id": "5cfd6798",
      "metadata": {
        "colab": {
          "base_uri": "https://localhost:8080/"
        },
        "id": "5cfd6798",
        "outputId": "4adff50a-1fb4-4e0d-f01c-7ba0d2443cad"
      },
      "outputs": [
        {
          "output_type": "execute_result",
          "data": {
            "text/plain": [
              "(178899, 6)"
            ]
          },
          "metadata": {},
          "execution_count": 35
        }
      ],
      "source": [
        "train.shape"
      ]
    },
    {
      "cell_type": "markdown",
      "id": "7a226ce7",
      "metadata": {
        "id": "7a226ce7"
      },
      "source": [
        "## comp_portrait.csv"
      ]
    },
    {
      "cell_type": "code",
      "execution_count": 36,
      "id": "341ec0ff",
      "metadata": {
        "colab": {
          "base_uri": "https://localhost:8080/",
          "height": 206
        },
        "id": "341ec0ff",
        "outputId": "b5315c18-d4e6-476b-b741-4232055fabd7"
      },
      "outputs": [
        {
          "output_type": "execute_result",
          "data": {
            "text/plain": [
              "                    ISU GENDER           CITIZENSHIP EXAM_TYPE  \\\n",
              "0   8746993777733478780      Ж  15601729049989747827       ЕГЭ   \n",
              "1  18279003839105282485      М  15601729049989747827        ВИ   \n",
              "2  17601399077733331421      М  15601729049989747827        ВИ   \n",
              "3   4111128904589594590      М  15601729049989747827        ВИ   \n",
              "4   5943608672516320930      М  15601729049989747827        ВИ   \n",
              "\n",
              "      EXAM_SUBJECT_1       EXAM_SUBJECT_2       EXAM_SUBJECT_3  \\\n",
              "0  70786669040476600  5533732657842394915  8388269026169219461   \n",
              "1  70786669040476600  5533732657842394915  8388269026169219461   \n",
              "2  70786669040476600  5533732657842394915  8388269026169219461   \n",
              "3  70786669040476600  5533732657842394915  8388269026169219461   \n",
              "4  70786669040476600  5533732657842394915  8388269026169219461   \n",
              "\n",
              "   ADMITTED_EXAM_1  ADMITTED_EXAM_2  ADMITTED_EXAM_3  \\\n",
              "0             88.0             91.0             81.0   \n",
              "1             84.0             89.0             96.0   \n",
              "2             66.0             78.0             93.0   \n",
              "3            100.0             89.0             80.0   \n",
              "4             84.0             86.0             91.0   \n",
              "\n",
              "  ADMITTED_SUBJECT_PRIZE_LEVEL            REGION_ID  \n",
              "0                          ЕГЭ  4877310761925081124  \n",
              "1                          ЕГЭ  4877310761925081124  \n",
              "2                          ЕГЭ  4877310761925081124  \n",
              "3                          ЕГЭ  4877310761925081124  \n",
              "4                          ЕГЭ  4877310761925081124  "
            ],
            "text/html": [
              "\n",
              "  <div id=\"df-851f3402-966a-4b56-bc5b-5f39417891e0\">\n",
              "    <div class=\"colab-df-container\">\n",
              "      <div>\n",
              "<style scoped>\n",
              "    .dataframe tbody tr th:only-of-type {\n",
              "        vertical-align: middle;\n",
              "    }\n",
              "\n",
              "    .dataframe tbody tr th {\n",
              "        vertical-align: top;\n",
              "    }\n",
              "\n",
              "    .dataframe thead th {\n",
              "        text-align: right;\n",
              "    }\n",
              "</style>\n",
              "<table border=\"1\" class=\"dataframe\">\n",
              "  <thead>\n",
              "    <tr style=\"text-align: right;\">\n",
              "      <th></th>\n",
              "      <th>ISU</th>\n",
              "      <th>GENDER</th>\n",
              "      <th>CITIZENSHIP</th>\n",
              "      <th>EXAM_TYPE</th>\n",
              "      <th>EXAM_SUBJECT_1</th>\n",
              "      <th>EXAM_SUBJECT_2</th>\n",
              "      <th>EXAM_SUBJECT_3</th>\n",
              "      <th>ADMITTED_EXAM_1</th>\n",
              "      <th>ADMITTED_EXAM_2</th>\n",
              "      <th>ADMITTED_EXAM_3</th>\n",
              "      <th>ADMITTED_SUBJECT_PRIZE_LEVEL</th>\n",
              "      <th>REGION_ID</th>\n",
              "    </tr>\n",
              "  </thead>\n",
              "  <tbody>\n",
              "    <tr>\n",
              "      <th>0</th>\n",
              "      <td>8746993777733478780</td>\n",
              "      <td>Ж</td>\n",
              "      <td>15601729049989747827</td>\n",
              "      <td>ЕГЭ</td>\n",
              "      <td>70786669040476600</td>\n",
              "      <td>5533732657842394915</td>\n",
              "      <td>8388269026169219461</td>\n",
              "      <td>88.0</td>\n",
              "      <td>91.0</td>\n",
              "      <td>81.0</td>\n",
              "      <td>ЕГЭ</td>\n",
              "      <td>4877310761925081124</td>\n",
              "    </tr>\n",
              "    <tr>\n",
              "      <th>1</th>\n",
              "      <td>18279003839105282485</td>\n",
              "      <td>М</td>\n",
              "      <td>15601729049989747827</td>\n",
              "      <td>ВИ</td>\n",
              "      <td>70786669040476600</td>\n",
              "      <td>5533732657842394915</td>\n",
              "      <td>8388269026169219461</td>\n",
              "      <td>84.0</td>\n",
              "      <td>89.0</td>\n",
              "      <td>96.0</td>\n",
              "      <td>ЕГЭ</td>\n",
              "      <td>4877310761925081124</td>\n",
              "    </tr>\n",
              "    <tr>\n",
              "      <th>2</th>\n",
              "      <td>17601399077733331421</td>\n",
              "      <td>М</td>\n",
              "      <td>15601729049989747827</td>\n",
              "      <td>ВИ</td>\n",
              "      <td>70786669040476600</td>\n",
              "      <td>5533732657842394915</td>\n",
              "      <td>8388269026169219461</td>\n",
              "      <td>66.0</td>\n",
              "      <td>78.0</td>\n",
              "      <td>93.0</td>\n",
              "      <td>ЕГЭ</td>\n",
              "      <td>4877310761925081124</td>\n",
              "    </tr>\n",
              "    <tr>\n",
              "      <th>3</th>\n",
              "      <td>4111128904589594590</td>\n",
              "      <td>М</td>\n",
              "      <td>15601729049989747827</td>\n",
              "      <td>ВИ</td>\n",
              "      <td>70786669040476600</td>\n",
              "      <td>5533732657842394915</td>\n",
              "      <td>8388269026169219461</td>\n",
              "      <td>100.0</td>\n",
              "      <td>89.0</td>\n",
              "      <td>80.0</td>\n",
              "      <td>ЕГЭ</td>\n",
              "      <td>4877310761925081124</td>\n",
              "    </tr>\n",
              "    <tr>\n",
              "      <th>4</th>\n",
              "      <td>5943608672516320930</td>\n",
              "      <td>М</td>\n",
              "      <td>15601729049989747827</td>\n",
              "      <td>ВИ</td>\n",
              "      <td>70786669040476600</td>\n",
              "      <td>5533732657842394915</td>\n",
              "      <td>8388269026169219461</td>\n",
              "      <td>84.0</td>\n",
              "      <td>86.0</td>\n",
              "      <td>91.0</td>\n",
              "      <td>ЕГЭ</td>\n",
              "      <td>4877310761925081124</td>\n",
              "    </tr>\n",
              "  </tbody>\n",
              "</table>\n",
              "</div>\n",
              "      <button class=\"colab-df-convert\" onclick=\"convertToInteractive('df-851f3402-966a-4b56-bc5b-5f39417891e0')\"\n",
              "              title=\"Convert this dataframe to an interactive table.\"\n",
              "              style=\"display:none;\">\n",
              "        \n",
              "  <svg xmlns=\"http://www.w3.org/2000/svg\" height=\"24px\"viewBox=\"0 0 24 24\"\n",
              "       width=\"24px\">\n",
              "    <path d=\"M0 0h24v24H0V0z\" fill=\"none\"/>\n",
              "    <path d=\"M18.56 5.44l.94 2.06.94-2.06 2.06-.94-2.06-.94-.94-2.06-.94 2.06-2.06.94zm-11 1L8.5 8.5l.94-2.06 2.06-.94-2.06-.94L8.5 2.5l-.94 2.06-2.06.94zm10 10l.94 2.06.94-2.06 2.06-.94-2.06-.94-.94-2.06-.94 2.06-2.06.94z\"/><path d=\"M17.41 7.96l-1.37-1.37c-.4-.4-.92-.59-1.43-.59-.52 0-1.04.2-1.43.59L10.3 9.45l-7.72 7.72c-.78.78-.78 2.05 0 2.83L4 21.41c.39.39.9.59 1.41.59.51 0 1.02-.2 1.41-.59l7.78-7.78 2.81-2.81c.8-.78.8-2.07 0-2.86zM5.41 20L4 18.59l7.72-7.72 1.47 1.35L5.41 20z\"/>\n",
              "  </svg>\n",
              "      </button>\n",
              "      \n",
              "  <style>\n",
              "    .colab-df-container {\n",
              "      display:flex;\n",
              "      flex-wrap:wrap;\n",
              "      gap: 12px;\n",
              "    }\n",
              "\n",
              "    .colab-df-convert {\n",
              "      background-color: #E8F0FE;\n",
              "      border: none;\n",
              "      border-radius: 50%;\n",
              "      cursor: pointer;\n",
              "      display: none;\n",
              "      fill: #1967D2;\n",
              "      height: 32px;\n",
              "      padding: 0 0 0 0;\n",
              "      width: 32px;\n",
              "    }\n",
              "\n",
              "    .colab-df-convert:hover {\n",
              "      background-color: #E2EBFA;\n",
              "      box-shadow: 0px 1px 2px rgba(60, 64, 67, 0.3), 0px 1px 3px 1px rgba(60, 64, 67, 0.15);\n",
              "      fill: #174EA6;\n",
              "    }\n",
              "\n",
              "    [theme=dark] .colab-df-convert {\n",
              "      background-color: #3B4455;\n",
              "      fill: #D2E3FC;\n",
              "    }\n",
              "\n",
              "    [theme=dark] .colab-df-convert:hover {\n",
              "      background-color: #434B5C;\n",
              "      box-shadow: 0px 1px 3px 1px rgba(0, 0, 0, 0.15);\n",
              "      filter: drop-shadow(0px 1px 2px rgba(0, 0, 0, 0.3));\n",
              "      fill: #FFFFFF;\n",
              "    }\n",
              "  </style>\n",
              "\n",
              "      <script>\n",
              "        const buttonEl =\n",
              "          document.querySelector('#df-851f3402-966a-4b56-bc5b-5f39417891e0 button.colab-df-convert');\n",
              "        buttonEl.style.display =\n",
              "          google.colab.kernel.accessAllowed ? 'block' : 'none';\n",
              "\n",
              "        async function convertToInteractive(key) {\n",
              "          const element = document.querySelector('#df-851f3402-966a-4b56-bc5b-5f39417891e0');\n",
              "          const dataTable =\n",
              "            await google.colab.kernel.invokeFunction('convertToInteractive',\n",
              "                                                     [key], {});\n",
              "          if (!dataTable) return;\n",
              "\n",
              "          const docLinkHtml = 'Like what you see? Visit the ' +\n",
              "            '<a target=\"_blank\" href=https://colab.research.google.com/notebooks/data_table.ipynb>data table notebook</a>'\n",
              "            + ' to learn more about interactive tables.';\n",
              "          element.innerHTML = '';\n",
              "          dataTable['output_type'] = 'display_data';\n",
              "          await google.colab.output.renderOutput(dataTable, element);\n",
              "          const docLink = document.createElement('div');\n",
              "          docLink.innerHTML = docLinkHtml;\n",
              "          element.appendChild(docLink);\n",
              "        }\n",
              "      </script>\n",
              "    </div>\n",
              "  </div>\n",
              "  "
            ]
          },
          "metadata": {},
          "execution_count": 36
        }
      ],
      "source": [
        "comp_portrait = pd.read_csv('/content/drive/MyDrive/comp_portrait.csv')\n",
        "comp_portrait.head()"
      ]
    },
    {
      "cell_type": "markdown",
      "id": "c2aa73e0",
      "metadata": {
        "id": "c2aa73e0"
      },
      "source": [
        "- ISU - UID студента\n",
        "- GENDER - пол\n",
        "- CITIZENSHIP - гражданство\n",
        "- EXAM_TYPE - форма зачисления (ЕГЭ, олимпиада, ВИ - вступительные испытания)\n",
        "- EXAM_SUBJECT_1 - первый экзамен ЕГЭ\n",
        "- EXAM_SUBJECT_2 - второй экзамен ЕГЭ\n",
        "- EXAM_SUBJECT_3 - третий экзамен ЕГЭ\n",
        "- ADMITTED_EXAM_1 - баллы за 1 экзамен ЕГЭ\n",
        "- ADMITTED_EXAM_2 - баллы за 2 экзамен ЕГЭ\n",
        "- ADMITTED_EXAM_3 - баллы за 3 экзамен ЕГЭ\n",
        "- ADMITTED_SUBJECT_PRIZE_LEVEL - уровень олимпиады (если есть)\n",
        "- REGION_ID - номер региона"
      ]
    },
    {
      "cell_type": "code",
      "execution_count": 37,
      "id": "3209bee1",
      "metadata": {
        "colab": {
          "base_uri": "https://localhost:8080/"
        },
        "id": "3209bee1",
        "outputId": "22093fe0-0d7a-49cf-9c05-7474ad5dbd56"
      },
      "outputs": [
        {
          "output_type": "stream",
          "name": "stdout",
          "text": [
            "<class 'pandas.core.frame.DataFrame'>\n",
            "RangeIndex: 8583 entries, 0 to 8582\n",
            "Data columns (total 12 columns):\n",
            " #   Column                        Non-Null Count  Dtype  \n",
            "---  ------                        --------------  -----  \n",
            " 0   ISU                           8583 non-null   uint64 \n",
            " 1   GENDER                        8583 non-null   object \n",
            " 2   CITIZENSHIP                   8583 non-null   uint64 \n",
            " 3   EXAM_TYPE                     8582 non-null   object \n",
            " 4   EXAM_SUBJECT_1                8583 non-null   uint64 \n",
            " 5   EXAM_SUBJECT_2                8583 non-null   uint64 \n",
            " 6   EXAM_SUBJECT_3                8583 non-null   uint64 \n",
            " 7   ADMITTED_EXAM_1               7404 non-null   float64\n",
            " 8   ADMITTED_EXAM_2               7404 non-null   float64\n",
            " 9   ADMITTED_EXAM_3               7404 non-null   float64\n",
            " 10  ADMITTED_SUBJECT_PRIZE_LEVEL  8583 non-null   object \n",
            " 11  REGION_ID                     8583 non-null   uint64 \n",
            "dtypes: float64(3), object(3), uint64(6)\n",
            "memory usage: 804.8+ KB\n"
          ]
        }
      ],
      "source": [
        "comp_portrait.info()"
      ]
    },
    {
      "cell_type": "markdown",
      "id": "32284158",
      "metadata": {
        "id": "32284158"
      },
      "source": [
        "Видим пропущенные значения, обработаем их позже"
      ]
    },
    {
      "cell_type": "code",
      "execution_count": 38,
      "id": "b3a2d747",
      "metadata": {
        "colab": {
          "base_uri": "https://localhost:8080/"
        },
        "id": "b3a2d747",
        "outputId": "8faeed5d-758f-4164-c06a-a11bc3a645d1"
      },
      "outputs": [
        {
          "output_type": "execute_result",
          "data": {
            "text/plain": [
              "(8583, 12)"
            ]
          },
          "metadata": {},
          "execution_count": 38
        }
      ],
      "source": [
        "comp_portrait.shape"
      ]
    },
    {
      "cell_type": "markdown",
      "id": "888b6559",
      "metadata": {
        "id": "888b6559"
      },
      "source": [
        "Присоединим comp_portrait к df"
      ]
    },
    {
      "cell_type": "code",
      "execution_count": 39,
      "id": "69ffd39e",
      "metadata": {
        "colab": {
          "base_uri": "https://localhost:8080/",
          "height": 270
        },
        "id": "69ffd39e",
        "outputId": "c53b05df-dfb4-4aca-9eeb-e4c79fc219bc"
      },
      "outputs": [
        {
          "output_type": "execute_result",
          "data": {
            "text/plain": [
              "                    ISU  ST_YEAR  SEMESTER               DISC_ID TYPE_NAME  \\\n",
              "0  17623928044460629977     2020         1  10502311854018326223     Зачет   \n",
              "1  17623928044460629977     2020         1   1601392918367593206     Зачет   \n",
              "2  17623928044460629977     2020         1   9559803959325174929     Зачет   \n",
              "3  17623928044460629977     2020         1   8955667882044263414     Зачет   \n",
              "4  17623928044460629977     2020         1  17741967398854095262   Экзамен   \n",
              "\n",
              "   DEBT GENDER           CITIZENSHIP EXAM_TYPE     EXAM_SUBJECT_1  \\\n",
              "0     0      М  15601729049989747827       ЕГЭ  70786669040476600   \n",
              "1     0      М  15601729049989747827       ЕГЭ  70786669040476600   \n",
              "2     0      М  15601729049989747827       ЕГЭ  70786669040476600   \n",
              "3     0      М  15601729049989747827       ЕГЭ  70786669040476600   \n",
              "4     0      М  15601729049989747827       ЕГЭ  70786669040476600   \n",
              "\n",
              "        EXAM_SUBJECT_2       EXAM_SUBJECT_3  ADMITTED_EXAM_1  ADMITTED_EXAM_2  \\\n",
              "0  5533732657842394915  8388269026169219461             78.0             79.0   \n",
              "1  5533732657842394915  8388269026169219461             78.0             79.0   \n",
              "2  5533732657842394915  8388269026169219461             78.0             79.0   \n",
              "3  5533732657842394915  8388269026169219461             78.0             79.0   \n",
              "4  5533732657842394915  8388269026169219461             78.0             79.0   \n",
              "\n",
              "   ADMITTED_EXAM_3 ADMITTED_SUBJECT_PRIZE_LEVEL            REGION_ID  \n",
              "0             91.0                          ЕГЭ  7805492244297918082  \n",
              "1             91.0                          ЕГЭ  7805492244297918082  \n",
              "2             91.0                          ЕГЭ  7805492244297918082  \n",
              "3             91.0                          ЕГЭ  7805492244297918082  \n",
              "4             91.0                          ЕГЭ  7805492244297918082  "
            ],
            "text/html": [
              "\n",
              "  <div id=\"df-6deba88f-a215-42b5-8ec0-f8f8c5f73459\">\n",
              "    <div class=\"colab-df-container\">\n",
              "      <div>\n",
              "<style scoped>\n",
              "    .dataframe tbody tr th:only-of-type {\n",
              "        vertical-align: middle;\n",
              "    }\n",
              "\n",
              "    .dataframe tbody tr th {\n",
              "        vertical-align: top;\n",
              "    }\n",
              "\n",
              "    .dataframe thead th {\n",
              "        text-align: right;\n",
              "    }\n",
              "</style>\n",
              "<table border=\"1\" class=\"dataframe\">\n",
              "  <thead>\n",
              "    <tr style=\"text-align: right;\">\n",
              "      <th></th>\n",
              "      <th>ISU</th>\n",
              "      <th>ST_YEAR</th>\n",
              "      <th>SEMESTER</th>\n",
              "      <th>DISC_ID</th>\n",
              "      <th>TYPE_NAME</th>\n",
              "      <th>DEBT</th>\n",
              "      <th>GENDER</th>\n",
              "      <th>CITIZENSHIP</th>\n",
              "      <th>EXAM_TYPE</th>\n",
              "      <th>EXAM_SUBJECT_1</th>\n",
              "      <th>EXAM_SUBJECT_2</th>\n",
              "      <th>EXAM_SUBJECT_3</th>\n",
              "      <th>ADMITTED_EXAM_1</th>\n",
              "      <th>ADMITTED_EXAM_2</th>\n",
              "      <th>ADMITTED_EXAM_3</th>\n",
              "      <th>ADMITTED_SUBJECT_PRIZE_LEVEL</th>\n",
              "      <th>REGION_ID</th>\n",
              "    </tr>\n",
              "  </thead>\n",
              "  <tbody>\n",
              "    <tr>\n",
              "      <th>0</th>\n",
              "      <td>17623928044460629977</td>\n",
              "      <td>2020</td>\n",
              "      <td>1</td>\n",
              "      <td>10502311854018326223</td>\n",
              "      <td>Зачет</td>\n",
              "      <td>0</td>\n",
              "      <td>М</td>\n",
              "      <td>15601729049989747827</td>\n",
              "      <td>ЕГЭ</td>\n",
              "      <td>70786669040476600</td>\n",
              "      <td>5533732657842394915</td>\n",
              "      <td>8388269026169219461</td>\n",
              "      <td>78.0</td>\n",
              "      <td>79.0</td>\n",
              "      <td>91.0</td>\n",
              "      <td>ЕГЭ</td>\n",
              "      <td>7805492244297918082</td>\n",
              "    </tr>\n",
              "    <tr>\n",
              "      <th>1</th>\n",
              "      <td>17623928044460629977</td>\n",
              "      <td>2020</td>\n",
              "      <td>1</td>\n",
              "      <td>1601392918367593206</td>\n",
              "      <td>Зачет</td>\n",
              "      <td>0</td>\n",
              "      <td>М</td>\n",
              "      <td>15601729049989747827</td>\n",
              "      <td>ЕГЭ</td>\n",
              "      <td>70786669040476600</td>\n",
              "      <td>5533732657842394915</td>\n",
              "      <td>8388269026169219461</td>\n",
              "      <td>78.0</td>\n",
              "      <td>79.0</td>\n",
              "      <td>91.0</td>\n",
              "      <td>ЕГЭ</td>\n",
              "      <td>7805492244297918082</td>\n",
              "    </tr>\n",
              "    <tr>\n",
              "      <th>2</th>\n",
              "      <td>17623928044460629977</td>\n",
              "      <td>2020</td>\n",
              "      <td>1</td>\n",
              "      <td>9559803959325174929</td>\n",
              "      <td>Зачет</td>\n",
              "      <td>0</td>\n",
              "      <td>М</td>\n",
              "      <td>15601729049989747827</td>\n",
              "      <td>ЕГЭ</td>\n",
              "      <td>70786669040476600</td>\n",
              "      <td>5533732657842394915</td>\n",
              "      <td>8388269026169219461</td>\n",
              "      <td>78.0</td>\n",
              "      <td>79.0</td>\n",
              "      <td>91.0</td>\n",
              "      <td>ЕГЭ</td>\n",
              "      <td>7805492244297918082</td>\n",
              "    </tr>\n",
              "    <tr>\n",
              "      <th>3</th>\n",
              "      <td>17623928044460629977</td>\n",
              "      <td>2020</td>\n",
              "      <td>1</td>\n",
              "      <td>8955667882044263414</td>\n",
              "      <td>Зачет</td>\n",
              "      <td>0</td>\n",
              "      <td>М</td>\n",
              "      <td>15601729049989747827</td>\n",
              "      <td>ЕГЭ</td>\n",
              "      <td>70786669040476600</td>\n",
              "      <td>5533732657842394915</td>\n",
              "      <td>8388269026169219461</td>\n",
              "      <td>78.0</td>\n",
              "      <td>79.0</td>\n",
              "      <td>91.0</td>\n",
              "      <td>ЕГЭ</td>\n",
              "      <td>7805492244297918082</td>\n",
              "    </tr>\n",
              "    <tr>\n",
              "      <th>4</th>\n",
              "      <td>17623928044460629977</td>\n",
              "      <td>2020</td>\n",
              "      <td>1</td>\n",
              "      <td>17741967398854095262</td>\n",
              "      <td>Экзамен</td>\n",
              "      <td>0</td>\n",
              "      <td>М</td>\n",
              "      <td>15601729049989747827</td>\n",
              "      <td>ЕГЭ</td>\n",
              "      <td>70786669040476600</td>\n",
              "      <td>5533732657842394915</td>\n",
              "      <td>8388269026169219461</td>\n",
              "      <td>78.0</td>\n",
              "      <td>79.0</td>\n",
              "      <td>91.0</td>\n",
              "      <td>ЕГЭ</td>\n",
              "      <td>7805492244297918082</td>\n",
              "    </tr>\n",
              "  </tbody>\n",
              "</table>\n",
              "</div>\n",
              "      <button class=\"colab-df-convert\" onclick=\"convertToInteractive('df-6deba88f-a215-42b5-8ec0-f8f8c5f73459')\"\n",
              "              title=\"Convert this dataframe to an interactive table.\"\n",
              "              style=\"display:none;\">\n",
              "        \n",
              "  <svg xmlns=\"http://www.w3.org/2000/svg\" height=\"24px\"viewBox=\"0 0 24 24\"\n",
              "       width=\"24px\">\n",
              "    <path d=\"M0 0h24v24H0V0z\" fill=\"none\"/>\n",
              "    <path d=\"M18.56 5.44l.94 2.06.94-2.06 2.06-.94-2.06-.94-.94-2.06-.94 2.06-2.06.94zm-11 1L8.5 8.5l.94-2.06 2.06-.94-2.06-.94L8.5 2.5l-.94 2.06-2.06.94zm10 10l.94 2.06.94-2.06 2.06-.94-2.06-.94-.94-2.06-.94 2.06-2.06.94z\"/><path d=\"M17.41 7.96l-1.37-1.37c-.4-.4-.92-.59-1.43-.59-.52 0-1.04.2-1.43.59L10.3 9.45l-7.72 7.72c-.78.78-.78 2.05 0 2.83L4 21.41c.39.39.9.59 1.41.59.51 0 1.02-.2 1.41-.59l7.78-7.78 2.81-2.81c.8-.78.8-2.07 0-2.86zM5.41 20L4 18.59l7.72-7.72 1.47 1.35L5.41 20z\"/>\n",
              "  </svg>\n",
              "      </button>\n",
              "      \n",
              "  <style>\n",
              "    .colab-df-container {\n",
              "      display:flex;\n",
              "      flex-wrap:wrap;\n",
              "      gap: 12px;\n",
              "    }\n",
              "\n",
              "    .colab-df-convert {\n",
              "      background-color: #E8F0FE;\n",
              "      border: none;\n",
              "      border-radius: 50%;\n",
              "      cursor: pointer;\n",
              "      display: none;\n",
              "      fill: #1967D2;\n",
              "      height: 32px;\n",
              "      padding: 0 0 0 0;\n",
              "      width: 32px;\n",
              "    }\n",
              "\n",
              "    .colab-df-convert:hover {\n",
              "      background-color: #E2EBFA;\n",
              "      box-shadow: 0px 1px 2px rgba(60, 64, 67, 0.3), 0px 1px 3px 1px rgba(60, 64, 67, 0.15);\n",
              "      fill: #174EA6;\n",
              "    }\n",
              "\n",
              "    [theme=dark] .colab-df-convert {\n",
              "      background-color: #3B4455;\n",
              "      fill: #D2E3FC;\n",
              "    }\n",
              "\n",
              "    [theme=dark] .colab-df-convert:hover {\n",
              "      background-color: #434B5C;\n",
              "      box-shadow: 0px 1px 3px 1px rgba(0, 0, 0, 0.15);\n",
              "      filter: drop-shadow(0px 1px 2px rgba(0, 0, 0, 0.3));\n",
              "      fill: #FFFFFF;\n",
              "    }\n",
              "  </style>\n",
              "\n",
              "      <script>\n",
              "        const buttonEl =\n",
              "          document.querySelector('#df-6deba88f-a215-42b5-8ec0-f8f8c5f73459 button.colab-df-convert');\n",
              "        buttonEl.style.display =\n",
              "          google.colab.kernel.accessAllowed ? 'block' : 'none';\n",
              "\n",
              "        async function convertToInteractive(key) {\n",
              "          const element = document.querySelector('#df-6deba88f-a215-42b5-8ec0-f8f8c5f73459');\n",
              "          const dataTable =\n",
              "            await google.colab.kernel.invokeFunction('convertToInteractive',\n",
              "                                                     [key], {});\n",
              "          if (!dataTable) return;\n",
              "\n",
              "          const docLinkHtml = 'Like what you see? Visit the ' +\n",
              "            '<a target=\"_blank\" href=https://colab.research.google.com/notebooks/data_table.ipynb>data table notebook</a>'\n",
              "            + ' to learn more about interactive tables.';\n",
              "          element.innerHTML = '';\n",
              "          dataTable['output_type'] = 'display_data';\n",
              "          await google.colab.output.renderOutput(dataTable, element);\n",
              "          const docLink = document.createElement('div');\n",
              "          docLink.innerHTML = docLinkHtml;\n",
              "          element.appendChild(docLink);\n",
              "        }\n",
              "      </script>\n",
              "    </div>\n",
              "  </div>\n",
              "  "
            ]
          },
          "metadata": {},
          "execution_count": 39
        }
      ],
      "source": [
        "df = pd.merge(train, comp_portrait, on='ISU')\n",
        "df.head()"
      ]
    },
    {
      "cell_type": "code",
      "execution_count": 40,
      "id": "f6ffd2ed",
      "metadata": {
        "id": "f6ffd2ed",
        "colab": {
          "base_uri": "https://localhost:8080/"
        },
        "outputId": "389399cb-abbf-44cc-9adb-11709ccfd516"
      },
      "outputs": [
        {
          "output_type": "execute_result",
          "data": {
            "text/plain": [
              "(178899, 17)"
            ]
          },
          "metadata": {},
          "execution_count": 40
        }
      ],
      "source": [
        "df.shape"
      ]
    },
    {
      "cell_type": "markdown",
      "id": "f54b7c02",
      "metadata": {
        "id": "f54b7c02"
      },
      "source": [
        "## comp_marks.csv"
      ]
    },
    {
      "cell_type": "code",
      "execution_count": 41,
      "id": "8ad25bcc",
      "metadata": {
        "id": "8ad25bcc",
        "colab": {
          "base_uri": "https://localhost:8080/",
          "height": 206
        },
        "outputId": "c229db4d-bfb3-43d0-bde3-2084b8e71d2a"
      },
      "outputs": [
        {
          "output_type": "execute_result",
          "data": {
            "text/plain": [
              "                    ISU  ST_YEAR  SEMESTER TYPE_NAME   MARK  \\\n",
              "0  17623928044460629977     2020         1     Зачет  зачет   \n",
              "1  17623928044460629977     2020         1     Зачет  зачет   \n",
              "2  17623928044460629977     2020         1     Зачет  зачет   \n",
              "3  17623928044460629977     2020         1     Зачет  зачет   \n",
              "4  17623928044460629977     2020         1   Экзамен      3   \n",
              "\n",
              "             MAIN_PLAN               DISC_ID              PRED_ID  \n",
              "0  4664712865904477750  10502311854018326223  5087927234000983963  \n",
              "1  4664712865904477750   1601392918367593206  5087927234000983963  \n",
              "2  4664712865904477750   9559803959325174929  5087927234000983963  \n",
              "3  4664712865904477750   8955667882044263414  5087927234000983963  \n",
              "4  4664712865904477750  17741967398854095262  5087927234000983963  "
            ],
            "text/html": [
              "\n",
              "  <div id=\"df-947e0ea2-a017-4f04-ac6e-607303f5bc63\">\n",
              "    <div class=\"colab-df-container\">\n",
              "      <div>\n",
              "<style scoped>\n",
              "    .dataframe tbody tr th:only-of-type {\n",
              "        vertical-align: middle;\n",
              "    }\n",
              "\n",
              "    .dataframe tbody tr th {\n",
              "        vertical-align: top;\n",
              "    }\n",
              "\n",
              "    .dataframe thead th {\n",
              "        text-align: right;\n",
              "    }\n",
              "</style>\n",
              "<table border=\"1\" class=\"dataframe\">\n",
              "  <thead>\n",
              "    <tr style=\"text-align: right;\">\n",
              "      <th></th>\n",
              "      <th>ISU</th>\n",
              "      <th>ST_YEAR</th>\n",
              "      <th>SEMESTER</th>\n",
              "      <th>TYPE_NAME</th>\n",
              "      <th>MARK</th>\n",
              "      <th>MAIN_PLAN</th>\n",
              "      <th>DISC_ID</th>\n",
              "      <th>PRED_ID</th>\n",
              "    </tr>\n",
              "  </thead>\n",
              "  <tbody>\n",
              "    <tr>\n",
              "      <th>0</th>\n",
              "      <td>17623928044460629977</td>\n",
              "      <td>2020</td>\n",
              "      <td>1</td>\n",
              "      <td>Зачет</td>\n",
              "      <td>зачет</td>\n",
              "      <td>4664712865904477750</td>\n",
              "      <td>10502311854018326223</td>\n",
              "      <td>5087927234000983963</td>\n",
              "    </tr>\n",
              "    <tr>\n",
              "      <th>1</th>\n",
              "      <td>17623928044460629977</td>\n",
              "      <td>2020</td>\n",
              "      <td>1</td>\n",
              "      <td>Зачет</td>\n",
              "      <td>зачет</td>\n",
              "      <td>4664712865904477750</td>\n",
              "      <td>1601392918367593206</td>\n",
              "      <td>5087927234000983963</td>\n",
              "    </tr>\n",
              "    <tr>\n",
              "      <th>2</th>\n",
              "      <td>17623928044460629977</td>\n",
              "      <td>2020</td>\n",
              "      <td>1</td>\n",
              "      <td>Зачет</td>\n",
              "      <td>зачет</td>\n",
              "      <td>4664712865904477750</td>\n",
              "      <td>9559803959325174929</td>\n",
              "      <td>5087927234000983963</td>\n",
              "    </tr>\n",
              "    <tr>\n",
              "      <th>3</th>\n",
              "      <td>17623928044460629977</td>\n",
              "      <td>2020</td>\n",
              "      <td>1</td>\n",
              "      <td>Зачет</td>\n",
              "      <td>зачет</td>\n",
              "      <td>4664712865904477750</td>\n",
              "      <td>8955667882044263414</td>\n",
              "      <td>5087927234000983963</td>\n",
              "    </tr>\n",
              "    <tr>\n",
              "      <th>4</th>\n",
              "      <td>17623928044460629977</td>\n",
              "      <td>2020</td>\n",
              "      <td>1</td>\n",
              "      <td>Экзамен</td>\n",
              "      <td>3</td>\n",
              "      <td>4664712865904477750</td>\n",
              "      <td>17741967398854095262</td>\n",
              "      <td>5087927234000983963</td>\n",
              "    </tr>\n",
              "  </tbody>\n",
              "</table>\n",
              "</div>\n",
              "      <button class=\"colab-df-convert\" onclick=\"convertToInteractive('df-947e0ea2-a017-4f04-ac6e-607303f5bc63')\"\n",
              "              title=\"Convert this dataframe to an interactive table.\"\n",
              "              style=\"display:none;\">\n",
              "        \n",
              "  <svg xmlns=\"http://www.w3.org/2000/svg\" height=\"24px\"viewBox=\"0 0 24 24\"\n",
              "       width=\"24px\">\n",
              "    <path d=\"M0 0h24v24H0V0z\" fill=\"none\"/>\n",
              "    <path d=\"M18.56 5.44l.94 2.06.94-2.06 2.06-.94-2.06-.94-.94-2.06-.94 2.06-2.06.94zm-11 1L8.5 8.5l.94-2.06 2.06-.94-2.06-.94L8.5 2.5l-.94 2.06-2.06.94zm10 10l.94 2.06.94-2.06 2.06-.94-2.06-.94-.94-2.06-.94 2.06-2.06.94z\"/><path d=\"M17.41 7.96l-1.37-1.37c-.4-.4-.92-.59-1.43-.59-.52 0-1.04.2-1.43.59L10.3 9.45l-7.72 7.72c-.78.78-.78 2.05 0 2.83L4 21.41c.39.39.9.59 1.41.59.51 0 1.02-.2 1.41-.59l7.78-7.78 2.81-2.81c.8-.78.8-2.07 0-2.86zM5.41 20L4 18.59l7.72-7.72 1.47 1.35L5.41 20z\"/>\n",
              "  </svg>\n",
              "      </button>\n",
              "      \n",
              "  <style>\n",
              "    .colab-df-container {\n",
              "      display:flex;\n",
              "      flex-wrap:wrap;\n",
              "      gap: 12px;\n",
              "    }\n",
              "\n",
              "    .colab-df-convert {\n",
              "      background-color: #E8F0FE;\n",
              "      border: none;\n",
              "      border-radius: 50%;\n",
              "      cursor: pointer;\n",
              "      display: none;\n",
              "      fill: #1967D2;\n",
              "      height: 32px;\n",
              "      padding: 0 0 0 0;\n",
              "      width: 32px;\n",
              "    }\n",
              "\n",
              "    .colab-df-convert:hover {\n",
              "      background-color: #E2EBFA;\n",
              "      box-shadow: 0px 1px 2px rgba(60, 64, 67, 0.3), 0px 1px 3px 1px rgba(60, 64, 67, 0.15);\n",
              "      fill: #174EA6;\n",
              "    }\n",
              "\n",
              "    [theme=dark] .colab-df-convert {\n",
              "      background-color: #3B4455;\n",
              "      fill: #D2E3FC;\n",
              "    }\n",
              "\n",
              "    [theme=dark] .colab-df-convert:hover {\n",
              "      background-color: #434B5C;\n",
              "      box-shadow: 0px 1px 3px 1px rgba(0, 0, 0, 0.15);\n",
              "      filter: drop-shadow(0px 1px 2px rgba(0, 0, 0, 0.3));\n",
              "      fill: #FFFFFF;\n",
              "    }\n",
              "  </style>\n",
              "\n",
              "      <script>\n",
              "        const buttonEl =\n",
              "          document.querySelector('#df-947e0ea2-a017-4f04-ac6e-607303f5bc63 button.colab-df-convert');\n",
              "        buttonEl.style.display =\n",
              "          google.colab.kernel.accessAllowed ? 'block' : 'none';\n",
              "\n",
              "        async function convertToInteractive(key) {\n",
              "          const element = document.querySelector('#df-947e0ea2-a017-4f04-ac6e-607303f5bc63');\n",
              "          const dataTable =\n",
              "            await google.colab.kernel.invokeFunction('convertToInteractive',\n",
              "                                                     [key], {});\n",
              "          if (!dataTable) return;\n",
              "\n",
              "          const docLinkHtml = 'Like what you see? Visit the ' +\n",
              "            '<a target=\"_blank\" href=https://colab.research.google.com/notebooks/data_table.ipynb>data table notebook</a>'\n",
              "            + ' to learn more about interactive tables.';\n",
              "          element.innerHTML = '';\n",
              "          dataTable['output_type'] = 'display_data';\n",
              "          await google.colab.output.renderOutput(dataTable, element);\n",
              "          const docLink = document.createElement('div');\n",
              "          docLink.innerHTML = docLinkHtml;\n",
              "          element.appendChild(docLink);\n",
              "        }\n",
              "      </script>\n",
              "    </div>\n",
              "  </div>\n",
              "  "
            ]
          },
          "metadata": {},
          "execution_count": 41
        }
      ],
      "source": [
        "comp_marks = pd.read_csv('/content/drive/MyDrive/comp_marks.csv')\n",
        "comp_marks.drop_duplicates(inplace=True)\n",
        "comp_marks.head()"
      ]
    },
    {
      "cell_type": "markdown",
      "id": "fb02fc4d",
      "metadata": {
        "id": "fb02fc4d"
      },
      "source": [
        "- ISU - UID студента\n",
        "- ST_YEAR - год начала курса (первое число из формата 2020/2021)\n",
        "- SEMESTER - фактический семестр, в котором получена оценка\n",
        "- TYPE_NAME - форма отчетности\n",
        "- MARK - оценка (или зачет/незачет)\n",
        "- MAIN_PLAN - учебный план\n",
        "- DISC_ID - UID дисциплины\n",
        "- PRED_ID - UID преподавателя"
      ]
    },
    {
      "cell_type": "code",
      "execution_count": 42,
      "id": "3021fa24",
      "metadata": {
        "id": "3021fa24",
        "colab": {
          "base_uri": "https://localhost:8080/"
        },
        "outputId": "655163e5-a18c-4461-8161-8e2b5e509528"
      },
      "outputs": [
        {
          "output_type": "stream",
          "name": "stdout",
          "text": [
            "<class 'pandas.core.frame.DataFrame'>\n",
            "Int64Index: 182793 entries, 0 to 182794\n",
            "Data columns (total 8 columns):\n",
            " #   Column     Non-Null Count   Dtype \n",
            "---  ------     --------------   ----- \n",
            " 0   ISU        182793 non-null  uint64\n",
            " 1   ST_YEAR    182793 non-null  int64 \n",
            " 2   SEMESTER   182793 non-null  int64 \n",
            " 3   TYPE_NAME  182793 non-null  object\n",
            " 4   MARK       182206 non-null  object\n",
            " 5   MAIN_PLAN  182793 non-null  uint64\n",
            " 6   DISC_ID    182793 non-null  uint64\n",
            " 7   PRED_ID    182793 non-null  uint64\n",
            "dtypes: int64(2), object(2), uint64(4)\n",
            "memory usage: 12.6+ MB\n"
          ]
        }
      ],
      "source": [
        "comp_marks.info()"
      ]
    },
    {
      "cell_type": "code",
      "execution_count": 43,
      "id": "37d534f3",
      "metadata": {
        "id": "37d534f3",
        "colab": {
          "base_uri": "https://localhost:8080/"
        },
        "outputId": "8b195b8f-1d9f-46b7-c25c-c0a43e77fabb"
      },
      "outputs": [
        {
          "output_type": "execute_result",
          "data": {
            "text/plain": [
              "(182793, 8)"
            ]
          },
          "metadata": {},
          "execution_count": 43
        }
      ],
      "source": [
        "comp_marks.shape"
      ]
    },
    {
      "cell_type": "markdown",
      "id": "b7c694a0",
      "metadata": {
        "id": "b7c694a0"
      },
      "source": [
        "Видим, что в столбце MARK есть пропущенные значения. Заполнять target статистиками не очень хочется, поэтому просто удалим эти строки"
      ]
    },
    {
      "cell_type": "code",
      "execution_count": 44,
      "id": "9b2e8b04",
      "metadata": {
        "id": "9b2e8b04"
      },
      "outputs": [],
      "source": [
        "comp_marks.dropna(inplace=True)"
      ]
    },
    {
      "cell_type": "markdown",
      "id": "a6d39c40",
      "metadata": {
        "id": "a6d39c40"
      },
      "source": [
        "Проверим, уникально ли идентифицируется каждая строка полями ISU, DISC_ID, SEMESTER, ST_YEAR, TYPE_NAME и MARK"
      ]
    },
    {
      "cell_type": "code",
      "execution_count": 45,
      "id": "3d321325",
      "metadata": {
        "id": "3d321325",
        "colab": {
          "base_uri": "https://localhost:8080/",
          "height": 455
        },
        "outputId": "d64ec2e8-8b5a-4e0c-f51c-ad0f7c67de9a"
      },
      "outputs": [
        {
          "output_type": "execute_result",
          "data": {
            "text/plain": [
              "                                                                            0\n",
              "ISU                  DISC_ID              SEMESTER ST_YEAR TYPE_NAME MARK    \n",
              "89667946269696082    3974502934019510056  1        2019    Экзамен   4      2\n",
              "                     7454837725181691115  1        2019    Экзамен   3      2\n",
              "                     7835846297793492094  1        2019    Зачет     зачет  2\n",
              "                     9028324525774925341  1        2019    Зачет     зачет  2\n",
              "100263122180698976   1601392918367593206  1        2018    Зачет     зачет  2\n",
              "...                                                                        ..\n",
              "18403892705421388107 7835846297793492094  2        2019    Зачет     зачет  2\n",
              "                     9028324525774925341  1        2019    Зачет     зачет  2\n",
              "                                          2        2019    Зачет     зачет  2\n",
              "                     13199182807431031308 2        2019    Экзамен   3      2\n",
              "                     13789771458674529179 2        2019    Зачет     зачет  2\n",
              "\n",
              "[6250 rows x 1 columns]"
            ],
            "text/html": [
              "\n",
              "  <div id=\"df-d8b3beeb-b511-4098-b077-701afca97c29\">\n",
              "    <div class=\"colab-df-container\">\n",
              "      <div>\n",
              "<style scoped>\n",
              "    .dataframe tbody tr th:only-of-type {\n",
              "        vertical-align: middle;\n",
              "    }\n",
              "\n",
              "    .dataframe tbody tr th {\n",
              "        vertical-align: top;\n",
              "    }\n",
              "\n",
              "    .dataframe thead th {\n",
              "        text-align: right;\n",
              "    }\n",
              "</style>\n",
              "<table border=\"1\" class=\"dataframe\">\n",
              "  <thead>\n",
              "    <tr style=\"text-align: right;\">\n",
              "      <th></th>\n",
              "      <th></th>\n",
              "      <th></th>\n",
              "      <th></th>\n",
              "      <th></th>\n",
              "      <th></th>\n",
              "      <th>0</th>\n",
              "    </tr>\n",
              "    <tr>\n",
              "      <th>ISU</th>\n",
              "      <th>DISC_ID</th>\n",
              "      <th>SEMESTER</th>\n",
              "      <th>ST_YEAR</th>\n",
              "      <th>TYPE_NAME</th>\n",
              "      <th>MARK</th>\n",
              "      <th></th>\n",
              "    </tr>\n",
              "  </thead>\n",
              "  <tbody>\n",
              "    <tr>\n",
              "      <th rowspan=\"4\" valign=\"top\">89667946269696082</th>\n",
              "      <th>3974502934019510056</th>\n",
              "      <th>1</th>\n",
              "      <th>2019</th>\n",
              "      <th>Экзамен</th>\n",
              "      <th>4</th>\n",
              "      <td>2</td>\n",
              "    </tr>\n",
              "    <tr>\n",
              "      <th>7454837725181691115</th>\n",
              "      <th>1</th>\n",
              "      <th>2019</th>\n",
              "      <th>Экзамен</th>\n",
              "      <th>3</th>\n",
              "      <td>2</td>\n",
              "    </tr>\n",
              "    <tr>\n",
              "      <th>7835846297793492094</th>\n",
              "      <th>1</th>\n",
              "      <th>2019</th>\n",
              "      <th>Зачет</th>\n",
              "      <th>зачет</th>\n",
              "      <td>2</td>\n",
              "    </tr>\n",
              "    <tr>\n",
              "      <th>9028324525774925341</th>\n",
              "      <th>1</th>\n",
              "      <th>2019</th>\n",
              "      <th>Зачет</th>\n",
              "      <th>зачет</th>\n",
              "      <td>2</td>\n",
              "    </tr>\n",
              "    <tr>\n",
              "      <th>100263122180698976</th>\n",
              "      <th>1601392918367593206</th>\n",
              "      <th>1</th>\n",
              "      <th>2018</th>\n",
              "      <th>Зачет</th>\n",
              "      <th>зачет</th>\n",
              "      <td>2</td>\n",
              "    </tr>\n",
              "    <tr>\n",
              "      <th>...</th>\n",
              "      <th>...</th>\n",
              "      <th>...</th>\n",
              "      <th>...</th>\n",
              "      <th>...</th>\n",
              "      <th>...</th>\n",
              "      <td>...</td>\n",
              "    </tr>\n",
              "    <tr>\n",
              "      <th rowspan=\"5\" valign=\"top\">18403892705421388107</th>\n",
              "      <th>7835846297793492094</th>\n",
              "      <th>2</th>\n",
              "      <th>2019</th>\n",
              "      <th>Зачет</th>\n",
              "      <th>зачет</th>\n",
              "      <td>2</td>\n",
              "    </tr>\n",
              "    <tr>\n",
              "      <th rowspan=\"2\" valign=\"top\">9028324525774925341</th>\n",
              "      <th>1</th>\n",
              "      <th>2019</th>\n",
              "      <th>Зачет</th>\n",
              "      <th>зачет</th>\n",
              "      <td>2</td>\n",
              "    </tr>\n",
              "    <tr>\n",
              "      <th>2</th>\n",
              "      <th>2019</th>\n",
              "      <th>Зачет</th>\n",
              "      <th>зачет</th>\n",
              "      <td>2</td>\n",
              "    </tr>\n",
              "    <tr>\n",
              "      <th>13199182807431031308</th>\n",
              "      <th>2</th>\n",
              "      <th>2019</th>\n",
              "      <th>Экзамен</th>\n",
              "      <th>3</th>\n",
              "      <td>2</td>\n",
              "    </tr>\n",
              "    <tr>\n",
              "      <th>13789771458674529179</th>\n",
              "      <th>2</th>\n",
              "      <th>2019</th>\n",
              "      <th>Зачет</th>\n",
              "      <th>зачет</th>\n",
              "      <td>2</td>\n",
              "    </tr>\n",
              "  </tbody>\n",
              "</table>\n",
              "<p>6250 rows × 1 columns</p>\n",
              "</div>\n",
              "      <button class=\"colab-df-convert\" onclick=\"convertToInteractive('df-d8b3beeb-b511-4098-b077-701afca97c29')\"\n",
              "              title=\"Convert this dataframe to an interactive table.\"\n",
              "              style=\"display:none;\">\n",
              "        \n",
              "  <svg xmlns=\"http://www.w3.org/2000/svg\" height=\"24px\"viewBox=\"0 0 24 24\"\n",
              "       width=\"24px\">\n",
              "    <path d=\"M0 0h24v24H0V0z\" fill=\"none\"/>\n",
              "    <path d=\"M18.56 5.44l.94 2.06.94-2.06 2.06-.94-2.06-.94-.94-2.06-.94 2.06-2.06.94zm-11 1L8.5 8.5l.94-2.06 2.06-.94-2.06-.94L8.5 2.5l-.94 2.06-2.06.94zm10 10l.94 2.06.94-2.06 2.06-.94-2.06-.94-.94-2.06-.94 2.06-2.06.94z\"/><path d=\"M17.41 7.96l-1.37-1.37c-.4-.4-.92-.59-1.43-.59-.52 0-1.04.2-1.43.59L10.3 9.45l-7.72 7.72c-.78.78-.78 2.05 0 2.83L4 21.41c.39.39.9.59 1.41.59.51 0 1.02-.2 1.41-.59l7.78-7.78 2.81-2.81c.8-.78.8-2.07 0-2.86zM5.41 20L4 18.59l7.72-7.72 1.47 1.35L5.41 20z\"/>\n",
              "  </svg>\n",
              "      </button>\n",
              "      \n",
              "  <style>\n",
              "    .colab-df-container {\n",
              "      display:flex;\n",
              "      flex-wrap:wrap;\n",
              "      gap: 12px;\n",
              "    }\n",
              "\n",
              "    .colab-df-convert {\n",
              "      background-color: #E8F0FE;\n",
              "      border: none;\n",
              "      border-radius: 50%;\n",
              "      cursor: pointer;\n",
              "      display: none;\n",
              "      fill: #1967D2;\n",
              "      height: 32px;\n",
              "      padding: 0 0 0 0;\n",
              "      width: 32px;\n",
              "    }\n",
              "\n",
              "    .colab-df-convert:hover {\n",
              "      background-color: #E2EBFA;\n",
              "      box-shadow: 0px 1px 2px rgba(60, 64, 67, 0.3), 0px 1px 3px 1px rgba(60, 64, 67, 0.15);\n",
              "      fill: #174EA6;\n",
              "    }\n",
              "\n",
              "    [theme=dark] .colab-df-convert {\n",
              "      background-color: #3B4455;\n",
              "      fill: #D2E3FC;\n",
              "    }\n",
              "\n",
              "    [theme=dark] .colab-df-convert:hover {\n",
              "      background-color: #434B5C;\n",
              "      box-shadow: 0px 1px 3px 1px rgba(0, 0, 0, 0.15);\n",
              "      filter: drop-shadow(0px 1px 2px rgba(0, 0, 0, 0.3));\n",
              "      fill: #FFFFFF;\n",
              "    }\n",
              "  </style>\n",
              "\n",
              "      <script>\n",
              "        const buttonEl =\n",
              "          document.querySelector('#df-d8b3beeb-b511-4098-b077-701afca97c29 button.colab-df-convert');\n",
              "        buttonEl.style.display =\n",
              "          google.colab.kernel.accessAllowed ? 'block' : 'none';\n",
              "\n",
              "        async function convertToInteractive(key) {\n",
              "          const element = document.querySelector('#df-d8b3beeb-b511-4098-b077-701afca97c29');\n",
              "          const dataTable =\n",
              "            await google.colab.kernel.invokeFunction('convertToInteractive',\n",
              "                                                     [key], {});\n",
              "          if (!dataTable) return;\n",
              "\n",
              "          const docLinkHtml = 'Like what you see? Visit the ' +\n",
              "            '<a target=\"_blank\" href=https://colab.research.google.com/notebooks/data_table.ipynb>data table notebook</a>'\n",
              "            + ' to learn more about interactive tables.';\n",
              "          element.innerHTML = '';\n",
              "          dataTable['output_type'] = 'display_data';\n",
              "          await google.colab.output.renderOutput(dataTable, element);\n",
              "          const docLink = document.createElement('div');\n",
              "          docLink.innerHTML = docLinkHtml;\n",
              "          element.appendChild(docLink);\n",
              "        }\n",
              "      </script>\n",
              "    </div>\n",
              "  </div>\n",
              "  "
            ]
          },
          "metadata": {},
          "execution_count": 45
        }
      ],
      "source": [
        "test = pd.DataFrame(comp_marks.groupby(by=['ISU', 'DISC_ID', 'SEMESTER', \n",
        "                                           'ST_YEAR', 'TYPE_NAME', 'MARK']).size())\n",
        "test[test[0]>1]"
      ]
    },
    {
      "cell_type": "markdown",
      "id": "6bde5c1d",
      "metadata": {
        "id": "6bde5c1d"
      },
      "source": [
        "Видим, что нет. Взглянем на первый объект, чтобы лучше понять, что это означает"
      ]
    },
    {
      "cell_type": "code",
      "execution_count": 46,
      "id": "d3f1eb38",
      "metadata": {
        "id": "d3f1eb38",
        "colab": {
          "base_uri": "https://localhost:8080/",
          "height": 112
        },
        "outputId": "e5b7a40b-c5c3-485b-a727-4f3adf43fcec"
      },
      "outputs": [
        {
          "output_type": "execute_result",
          "data": {
            "text/plain": [
              "                     ISU  ST_YEAR  SEMESTER TYPE_NAME MARK  \\\n",
              "32429  89667946269696082     2019         1   Экзамен    4   \n",
              "41656  89667946269696082     2019         1   Экзамен    4   \n",
              "\n",
              "                  MAIN_PLAN              DISC_ID               PRED_ID  \n",
              "32429  10080731777079285074  3974502934019510056   5087927234000983963  \n",
              "41656  10782470634773039372  3974502934019510056  10404421190345341785  "
            ],
            "text/html": [
              "\n",
              "  <div id=\"df-f169b13c-38d6-40d6-bc8c-edcef1760d35\">\n",
              "    <div class=\"colab-df-container\">\n",
              "      <div>\n",
              "<style scoped>\n",
              "    .dataframe tbody tr th:only-of-type {\n",
              "        vertical-align: middle;\n",
              "    }\n",
              "\n",
              "    .dataframe tbody tr th {\n",
              "        vertical-align: top;\n",
              "    }\n",
              "\n",
              "    .dataframe thead th {\n",
              "        text-align: right;\n",
              "    }\n",
              "</style>\n",
              "<table border=\"1\" class=\"dataframe\">\n",
              "  <thead>\n",
              "    <tr style=\"text-align: right;\">\n",
              "      <th></th>\n",
              "      <th>ISU</th>\n",
              "      <th>ST_YEAR</th>\n",
              "      <th>SEMESTER</th>\n",
              "      <th>TYPE_NAME</th>\n",
              "      <th>MARK</th>\n",
              "      <th>MAIN_PLAN</th>\n",
              "      <th>DISC_ID</th>\n",
              "      <th>PRED_ID</th>\n",
              "    </tr>\n",
              "  </thead>\n",
              "  <tbody>\n",
              "    <tr>\n",
              "      <th>32429</th>\n",
              "      <td>89667946269696082</td>\n",
              "      <td>2019</td>\n",
              "      <td>1</td>\n",
              "      <td>Экзамен</td>\n",
              "      <td>4</td>\n",
              "      <td>10080731777079285074</td>\n",
              "      <td>3974502934019510056</td>\n",
              "      <td>5087927234000983963</td>\n",
              "    </tr>\n",
              "    <tr>\n",
              "      <th>41656</th>\n",
              "      <td>89667946269696082</td>\n",
              "      <td>2019</td>\n",
              "      <td>1</td>\n",
              "      <td>Экзамен</td>\n",
              "      <td>4</td>\n",
              "      <td>10782470634773039372</td>\n",
              "      <td>3974502934019510056</td>\n",
              "      <td>10404421190345341785</td>\n",
              "    </tr>\n",
              "  </tbody>\n",
              "</table>\n",
              "</div>\n",
              "      <button class=\"colab-df-convert\" onclick=\"convertToInteractive('df-f169b13c-38d6-40d6-bc8c-edcef1760d35')\"\n",
              "              title=\"Convert this dataframe to an interactive table.\"\n",
              "              style=\"display:none;\">\n",
              "        \n",
              "  <svg xmlns=\"http://www.w3.org/2000/svg\" height=\"24px\"viewBox=\"0 0 24 24\"\n",
              "       width=\"24px\">\n",
              "    <path d=\"M0 0h24v24H0V0z\" fill=\"none\"/>\n",
              "    <path d=\"M18.56 5.44l.94 2.06.94-2.06 2.06-.94-2.06-.94-.94-2.06-.94 2.06-2.06.94zm-11 1L8.5 8.5l.94-2.06 2.06-.94-2.06-.94L8.5 2.5l-.94 2.06-2.06.94zm10 10l.94 2.06.94-2.06 2.06-.94-2.06-.94-.94-2.06-.94 2.06-2.06.94z\"/><path d=\"M17.41 7.96l-1.37-1.37c-.4-.4-.92-.59-1.43-.59-.52 0-1.04.2-1.43.59L10.3 9.45l-7.72 7.72c-.78.78-.78 2.05 0 2.83L4 21.41c.39.39.9.59 1.41.59.51 0 1.02-.2 1.41-.59l7.78-7.78 2.81-2.81c.8-.78.8-2.07 0-2.86zM5.41 20L4 18.59l7.72-7.72 1.47 1.35L5.41 20z\"/>\n",
              "  </svg>\n",
              "      </button>\n",
              "      \n",
              "  <style>\n",
              "    .colab-df-container {\n",
              "      display:flex;\n",
              "      flex-wrap:wrap;\n",
              "      gap: 12px;\n",
              "    }\n",
              "\n",
              "    .colab-df-convert {\n",
              "      background-color: #E8F0FE;\n",
              "      border: none;\n",
              "      border-radius: 50%;\n",
              "      cursor: pointer;\n",
              "      display: none;\n",
              "      fill: #1967D2;\n",
              "      height: 32px;\n",
              "      padding: 0 0 0 0;\n",
              "      width: 32px;\n",
              "    }\n",
              "\n",
              "    .colab-df-convert:hover {\n",
              "      background-color: #E2EBFA;\n",
              "      box-shadow: 0px 1px 2px rgba(60, 64, 67, 0.3), 0px 1px 3px 1px rgba(60, 64, 67, 0.15);\n",
              "      fill: #174EA6;\n",
              "    }\n",
              "\n",
              "    [theme=dark] .colab-df-convert {\n",
              "      background-color: #3B4455;\n",
              "      fill: #D2E3FC;\n",
              "    }\n",
              "\n",
              "    [theme=dark] .colab-df-convert:hover {\n",
              "      background-color: #434B5C;\n",
              "      box-shadow: 0px 1px 3px 1px rgba(0, 0, 0, 0.15);\n",
              "      filter: drop-shadow(0px 1px 2px rgba(0, 0, 0, 0.3));\n",
              "      fill: #FFFFFF;\n",
              "    }\n",
              "  </style>\n",
              "\n",
              "      <script>\n",
              "        const buttonEl =\n",
              "          document.querySelector('#df-f169b13c-38d6-40d6-bc8c-edcef1760d35 button.colab-df-convert');\n",
              "        buttonEl.style.display =\n",
              "          google.colab.kernel.accessAllowed ? 'block' : 'none';\n",
              "\n",
              "        async function convertToInteractive(key) {\n",
              "          const element = document.querySelector('#df-f169b13c-38d6-40d6-bc8c-edcef1760d35');\n",
              "          const dataTable =\n",
              "            await google.colab.kernel.invokeFunction('convertToInteractive',\n",
              "                                                     [key], {});\n",
              "          if (!dataTable) return;\n",
              "\n",
              "          const docLinkHtml = 'Like what you see? Visit the ' +\n",
              "            '<a target=\"_blank\" href=https://colab.research.google.com/notebooks/data_table.ipynb>data table notebook</a>'\n",
              "            + ' to learn more about interactive tables.';\n",
              "          element.innerHTML = '';\n",
              "          dataTable['output_type'] = 'display_data';\n",
              "          await google.colab.output.renderOutput(dataTable, element);\n",
              "          const docLink = document.createElement('div');\n",
              "          docLink.innerHTML = docLinkHtml;\n",
              "          element.appendChild(docLink);\n",
              "        }\n",
              "      </script>\n",
              "    </div>\n",
              "  </div>\n",
              "  "
            ]
          },
          "metadata": {},
          "execution_count": 46
        }
      ],
      "source": [
        "comp_marks[\n",
        "    (comp_marks['SEMESTER'] == 1) &\n",
        "    (comp_marks['DISC_ID'] == 3974502934019510056) &\n",
        "    (comp_marks['ST_YEAR'] == 2019) &\n",
        "    (comp_marks['TYPE_NAME'] == 'Экзамен') &\n",
        "    (comp_marks['ISU'] == 89667946269696082)\n",
        "]"
      ]
    },
    {
      "cell_type": "markdown",
      "id": "45360073",
      "metadata": {
        "id": "45360073"
      },
      "source": [
        "Объекты различаются по полям PRED_ID и MAIN_PLAN. В принципе, такая ситуация возможна, если, например, предмет принимают два преподавателя, а также если один предмет принадлежит разным учебным планам.\n",
        "\n",
        "Если заглянуть в файл baseline, предоставленный организаторами соревнования, можно увидеть, что в качестве уникального идентификатора попытки они используют 5 полей (те самые поля, которые включены в train за исключением target-метки). Это значит, что если объекты по этим 5 полям, а также в target-метке совпадают, то мы можем смело говорить о том, что они описывают одну и ту же попытку.\n",
        "\n",
        "Нам нужно каким-то образом схлопнуть такие объекты в один - как вариант, использовать бинаризацию, а затем группировку с суммированием по соотвутствующим столбцам. Так, в нашем случае будет уже не два объекта, а один, в котором будут проставлены единицы в признаках MAIN_PLAN_10080731777079285074, MAIN_PLAN_10782470634773039372, PRED_ID_5087927234000983963 и PRED_ID_10404421190345341785, а во всех других бинарных признаках - нули.\n",
        "\n",
        "Проблема состоит в том, что джоинить потом по бинаризованным столбцам - та ещё задачка. Поэтому посмотрим для начала датафрейм comp_disc, а затем вернёмся к этому этапу"
      ]
    },
    {
      "cell_type": "markdown",
      "id": "72a6611a",
      "metadata": {
        "id": "72a6611a"
      },
      "source": [
        "## comp_disc.csv"
      ]
    },
    {
      "cell_type": "code",
      "execution_count": 47,
      "id": "86056255",
      "metadata": {
        "id": "86056255",
        "colab": {
          "base_uri": "https://localhost:8080/",
          "height": 206
        },
        "outputId": "6183ce8b-c873-47a6-a495-32fe23b2f71d"
      },
      "outputs": [
        {
          "output_type": "execute_result",
          "data": {
            "text/plain": [
              "                PLAN_ID               DISC_ID  СHOICE  SEMESTER  \\\n",
              "0  13019929768422386211  12540082885330665258     1.0       6.0   \n",
              "1  13019929768422386211   8471500331110227546     1.0       6.0   \n",
              "2  13019929768422386211  11786710099399385350     1.0       6.0   \n",
              "3  13019929768422386211  18074319180892552096     1.0       6.0   \n",
              "4  13019929768422386211  17709308778630417516     1.0       6.0   \n",
              "\n",
              "                                           DISC_NAME             DISC_DEP  \\\n",
              "0                                Методы криптографии  8139328495281102994   \n",
              "1                            Анализ социальных сетей  8139328495281102994   \n",
              "2  Эффективное участие в научных и практических к...  1687590892619214362   \n",
              "3                                Управление карьерой  1687590892619214362   \n",
              "4                              Обработка изображений  8139328495281102994   \n",
              "\n",
              "                                       KEYWORD_NAMES  \n",
              "0  криптография, криптография, криптография, клас...  \n",
              "1  технологии работы информацией, алгоритмы обраб...  \n",
              "2                                                NaN  \n",
              "3                                                NaN  \n",
              "4  классическое машинное обучение, генерация изоб...  "
            ],
            "text/html": [
              "\n",
              "  <div id=\"df-97ea8e2e-0f57-4465-a8c2-c6a71d73f641\">\n",
              "    <div class=\"colab-df-container\">\n",
              "      <div>\n",
              "<style scoped>\n",
              "    .dataframe tbody tr th:only-of-type {\n",
              "        vertical-align: middle;\n",
              "    }\n",
              "\n",
              "    .dataframe tbody tr th {\n",
              "        vertical-align: top;\n",
              "    }\n",
              "\n",
              "    .dataframe thead th {\n",
              "        text-align: right;\n",
              "    }\n",
              "</style>\n",
              "<table border=\"1\" class=\"dataframe\">\n",
              "  <thead>\n",
              "    <tr style=\"text-align: right;\">\n",
              "      <th></th>\n",
              "      <th>PLAN_ID</th>\n",
              "      <th>DISC_ID</th>\n",
              "      <th>СHOICE</th>\n",
              "      <th>SEMESTER</th>\n",
              "      <th>DISC_NAME</th>\n",
              "      <th>DISC_DEP</th>\n",
              "      <th>KEYWORD_NAMES</th>\n",
              "    </tr>\n",
              "  </thead>\n",
              "  <tbody>\n",
              "    <tr>\n",
              "      <th>0</th>\n",
              "      <td>13019929768422386211</td>\n",
              "      <td>12540082885330665258</td>\n",
              "      <td>1.0</td>\n",
              "      <td>6.0</td>\n",
              "      <td>Методы криптографии</td>\n",
              "      <td>8139328495281102994</td>\n",
              "      <td>криптография, криптография, криптография, клас...</td>\n",
              "    </tr>\n",
              "    <tr>\n",
              "      <th>1</th>\n",
              "      <td>13019929768422386211</td>\n",
              "      <td>8471500331110227546</td>\n",
              "      <td>1.0</td>\n",
              "      <td>6.0</td>\n",
              "      <td>Анализ социальных сетей</td>\n",
              "      <td>8139328495281102994</td>\n",
              "      <td>технологии работы информацией, алгоритмы обраб...</td>\n",
              "    </tr>\n",
              "    <tr>\n",
              "      <th>2</th>\n",
              "      <td>13019929768422386211</td>\n",
              "      <td>11786710099399385350</td>\n",
              "      <td>1.0</td>\n",
              "      <td>6.0</td>\n",
              "      <td>Эффективное участие в научных и практических к...</td>\n",
              "      <td>1687590892619214362</td>\n",
              "      <td>NaN</td>\n",
              "    </tr>\n",
              "    <tr>\n",
              "      <th>3</th>\n",
              "      <td>13019929768422386211</td>\n",
              "      <td>18074319180892552096</td>\n",
              "      <td>1.0</td>\n",
              "      <td>6.0</td>\n",
              "      <td>Управление карьерой</td>\n",
              "      <td>1687590892619214362</td>\n",
              "      <td>NaN</td>\n",
              "    </tr>\n",
              "    <tr>\n",
              "      <th>4</th>\n",
              "      <td>13019929768422386211</td>\n",
              "      <td>17709308778630417516</td>\n",
              "      <td>1.0</td>\n",
              "      <td>6.0</td>\n",
              "      <td>Обработка изображений</td>\n",
              "      <td>8139328495281102994</td>\n",
              "      <td>классическое машинное обучение, генерация изоб...</td>\n",
              "    </tr>\n",
              "  </tbody>\n",
              "</table>\n",
              "</div>\n",
              "      <button class=\"colab-df-convert\" onclick=\"convertToInteractive('df-97ea8e2e-0f57-4465-a8c2-c6a71d73f641')\"\n",
              "              title=\"Convert this dataframe to an interactive table.\"\n",
              "              style=\"display:none;\">\n",
              "        \n",
              "  <svg xmlns=\"http://www.w3.org/2000/svg\" height=\"24px\"viewBox=\"0 0 24 24\"\n",
              "       width=\"24px\">\n",
              "    <path d=\"M0 0h24v24H0V0z\" fill=\"none\"/>\n",
              "    <path d=\"M18.56 5.44l.94 2.06.94-2.06 2.06-.94-2.06-.94-.94-2.06-.94 2.06-2.06.94zm-11 1L8.5 8.5l.94-2.06 2.06-.94-2.06-.94L8.5 2.5l-.94 2.06-2.06.94zm10 10l.94 2.06.94-2.06 2.06-.94-2.06-.94-.94-2.06-.94 2.06-2.06.94z\"/><path d=\"M17.41 7.96l-1.37-1.37c-.4-.4-.92-.59-1.43-.59-.52 0-1.04.2-1.43.59L10.3 9.45l-7.72 7.72c-.78.78-.78 2.05 0 2.83L4 21.41c.39.39.9.59 1.41.59.51 0 1.02-.2 1.41-.59l7.78-7.78 2.81-2.81c.8-.78.8-2.07 0-2.86zM5.41 20L4 18.59l7.72-7.72 1.47 1.35L5.41 20z\"/>\n",
              "  </svg>\n",
              "      </button>\n",
              "      \n",
              "  <style>\n",
              "    .colab-df-container {\n",
              "      display:flex;\n",
              "      flex-wrap:wrap;\n",
              "      gap: 12px;\n",
              "    }\n",
              "\n",
              "    .colab-df-convert {\n",
              "      background-color: #E8F0FE;\n",
              "      border: none;\n",
              "      border-radius: 50%;\n",
              "      cursor: pointer;\n",
              "      display: none;\n",
              "      fill: #1967D2;\n",
              "      height: 32px;\n",
              "      padding: 0 0 0 0;\n",
              "      width: 32px;\n",
              "    }\n",
              "\n",
              "    .colab-df-convert:hover {\n",
              "      background-color: #E2EBFA;\n",
              "      box-shadow: 0px 1px 2px rgba(60, 64, 67, 0.3), 0px 1px 3px 1px rgba(60, 64, 67, 0.15);\n",
              "      fill: #174EA6;\n",
              "    }\n",
              "\n",
              "    [theme=dark] .colab-df-convert {\n",
              "      background-color: #3B4455;\n",
              "      fill: #D2E3FC;\n",
              "    }\n",
              "\n",
              "    [theme=dark] .colab-df-convert:hover {\n",
              "      background-color: #434B5C;\n",
              "      box-shadow: 0px 1px 3px 1px rgba(0, 0, 0, 0.15);\n",
              "      filter: drop-shadow(0px 1px 2px rgba(0, 0, 0, 0.3));\n",
              "      fill: #FFFFFF;\n",
              "    }\n",
              "  </style>\n",
              "\n",
              "      <script>\n",
              "        const buttonEl =\n",
              "          document.querySelector('#df-97ea8e2e-0f57-4465-a8c2-c6a71d73f641 button.colab-df-convert');\n",
              "        buttonEl.style.display =\n",
              "          google.colab.kernel.accessAllowed ? 'block' : 'none';\n",
              "\n",
              "        async function convertToInteractive(key) {\n",
              "          const element = document.querySelector('#df-97ea8e2e-0f57-4465-a8c2-c6a71d73f641');\n",
              "          const dataTable =\n",
              "            await google.colab.kernel.invokeFunction('convertToInteractive',\n",
              "                                                     [key], {});\n",
              "          if (!dataTable) return;\n",
              "\n",
              "          const docLinkHtml = 'Like what you see? Visit the ' +\n",
              "            '<a target=\"_blank\" href=https://colab.research.google.com/notebooks/data_table.ipynb>data table notebook</a>'\n",
              "            + ' to learn more about interactive tables.';\n",
              "          element.innerHTML = '';\n",
              "          dataTable['output_type'] = 'display_data';\n",
              "          await google.colab.output.renderOutput(dataTable, element);\n",
              "          const docLink = document.createElement('div');\n",
              "          docLink.innerHTML = docLinkHtml;\n",
              "          element.appendChild(docLink);\n",
              "        }\n",
              "      </script>\n",
              "    </div>\n",
              "  </div>\n",
              "  "
            ]
          },
          "metadata": {},
          "execution_count": 47
        }
      ],
      "source": [
        "comp_disc = pd.read_csv('/content/drive/MyDrive/comp_disc.csv')\n",
        "comp_disc.head()"
      ]
    },
    {
      "cell_type": "markdown",
      "id": "6bb57cc8",
      "metadata": {
        "id": "6bb57cc8"
      },
      "source": [
        "- PLAN_ID - UID учебного плана (то же что и MAIN_PLAN - значения в этих колонках соответствуют друг другу и могут быть использованы для сопоставления таблиц)\n",
        "- DISC_ID - UID дисциплины\n",
        "- СHOICE - выборность дисциплины\n",
        "- SEMESTER - семестр проведения дисциплины в данном учебном плане\n",
        "- DISC_NAME - название дисциплины\n",
        "- DISC_DEP - факультет-реализатор дисциплины"
      ]
    },
    {
      "cell_type": "code",
      "execution_count": 48,
      "id": "596a5899",
      "metadata": {
        "id": "596a5899",
        "colab": {
          "base_uri": "https://localhost:8080/"
        },
        "outputId": "e7e84253-d780-4392-be9e-5d17ff6fb792"
      },
      "outputs": [
        {
          "output_type": "stream",
          "name": "stdout",
          "text": [
            "<class 'pandas.core.frame.DataFrame'>\n",
            "RangeIndex: 22517 entries, 0 to 22516\n",
            "Data columns (total 7 columns):\n",
            " #   Column         Non-Null Count  Dtype  \n",
            "---  ------         --------------  -----  \n",
            " 0   PLAN_ID        22517 non-null  uint64 \n",
            " 1   DISC_ID        22517 non-null  uint64 \n",
            " 2   СHOICE         22517 non-null  float64\n",
            " 3   SEMESTER       22517 non-null  float64\n",
            " 4   DISC_NAME      22517 non-null  object \n",
            " 5   DISC_DEP       22517 non-null  uint64 \n",
            " 6   KEYWORD_NAMES  13759 non-null  object \n",
            "dtypes: float64(2), object(2), uint64(3)\n",
            "memory usage: 1.2+ MB\n"
          ]
        }
      ],
      "source": [
        "comp_disc.info()"
      ]
    },
    {
      "cell_type": "code",
      "execution_count": 49,
      "id": "d2ed4b9b",
      "metadata": {
        "id": "d2ed4b9b",
        "colab": {
          "base_uri": "https://localhost:8080/"
        },
        "outputId": "48c468a9-2ac7-4879-b1bf-505ed9c67325"
      },
      "outputs": [
        {
          "output_type": "execute_result",
          "data": {
            "text/plain": [
              "(22517, 7)"
            ]
          },
          "metadata": {},
          "execution_count": 49
        }
      ],
      "source": [
        "comp_disc.shape"
      ]
    },
    {
      "cell_type": "markdown",
      "id": "6e8ba9a9",
      "metadata": {
        "id": "6e8ba9a9"
      },
      "source": [
        "Удалим столбец DISC_NAME, т.к. у нас уже есть DISC_ID, а также столбец KEYWORD_NAMES, т.к. он содержит почти половину пропущенных значений"
      ]
    },
    {
      "cell_type": "code",
      "execution_count": 50,
      "id": "64eaefb7",
      "metadata": {
        "id": "64eaefb7"
      },
      "outputs": [],
      "source": [
        "comp_disc.drop(columns=['DISC_NAME', 'KEYWORD_NAMES'], inplace=True)"
      ]
    },
    {
      "cell_type": "markdown",
      "id": "f4f3a5e9",
      "metadata": {
        "id": "f4f3a5e9"
      },
      "source": [
        "Удалим образовавшиеся дубликаты (строки, которые отличались только по полю KEYWORD_NAMES)"
      ]
    },
    {
      "cell_type": "code",
      "execution_count": 51,
      "id": "8d9d3d95",
      "metadata": {
        "id": "8d9d3d95"
      },
      "outputs": [],
      "source": [
        "comp_disc.drop_duplicates(inplace=True)"
      ]
    },
    {
      "cell_type": "markdown",
      "id": "b7582918",
      "metadata": {
        "id": "b7582918"
      },
      "source": [
        "Проверим, уникально ли идентифицируется каждая строка полями PLAN_ID, DISC_ID и SEMESTER"
      ]
    },
    {
      "cell_type": "code",
      "execution_count": 52,
      "id": "0154d065",
      "metadata": {
        "id": "0154d065",
        "colab": {
          "base_uri": "https://localhost:8080/",
          "height": 175
        },
        "outputId": "bf644593-f29f-4d1e-c689-13155d3d8141"
      },
      "outputs": [
        {
          "output_type": "execute_result",
          "data": {
            "text/plain": [
              "                                                  0\n",
              "PLAN_ID             DISC_ID             SEMESTER   \n",
              "5928068423167434299 8803870721775400102 1.0       2\n",
              "9525771375887488353 7808003831249892566 2.0       2\n",
              "                    8669037893956957554 2.0       2"
            ],
            "text/html": [
              "\n",
              "  <div id=\"df-4dbac839-32d5-479d-8231-8f8ab9e83196\">\n",
              "    <div class=\"colab-df-container\">\n",
              "      <div>\n",
              "<style scoped>\n",
              "    .dataframe tbody tr th:only-of-type {\n",
              "        vertical-align: middle;\n",
              "    }\n",
              "\n",
              "    .dataframe tbody tr th {\n",
              "        vertical-align: top;\n",
              "    }\n",
              "\n",
              "    .dataframe thead th {\n",
              "        text-align: right;\n",
              "    }\n",
              "</style>\n",
              "<table border=\"1\" class=\"dataframe\">\n",
              "  <thead>\n",
              "    <tr style=\"text-align: right;\">\n",
              "      <th></th>\n",
              "      <th></th>\n",
              "      <th></th>\n",
              "      <th>0</th>\n",
              "    </tr>\n",
              "    <tr>\n",
              "      <th>PLAN_ID</th>\n",
              "      <th>DISC_ID</th>\n",
              "      <th>SEMESTER</th>\n",
              "      <th></th>\n",
              "    </tr>\n",
              "  </thead>\n",
              "  <tbody>\n",
              "    <tr>\n",
              "      <th>5928068423167434299</th>\n",
              "      <th>8803870721775400102</th>\n",
              "      <th>1.0</th>\n",
              "      <td>2</td>\n",
              "    </tr>\n",
              "    <tr>\n",
              "      <th rowspan=\"2\" valign=\"top\">9525771375887488353</th>\n",
              "      <th>7808003831249892566</th>\n",
              "      <th>2.0</th>\n",
              "      <td>2</td>\n",
              "    </tr>\n",
              "    <tr>\n",
              "      <th>8669037893956957554</th>\n",
              "      <th>2.0</th>\n",
              "      <td>2</td>\n",
              "    </tr>\n",
              "  </tbody>\n",
              "</table>\n",
              "</div>\n",
              "      <button class=\"colab-df-convert\" onclick=\"convertToInteractive('df-4dbac839-32d5-479d-8231-8f8ab9e83196')\"\n",
              "              title=\"Convert this dataframe to an interactive table.\"\n",
              "              style=\"display:none;\">\n",
              "        \n",
              "  <svg xmlns=\"http://www.w3.org/2000/svg\" height=\"24px\"viewBox=\"0 0 24 24\"\n",
              "       width=\"24px\">\n",
              "    <path d=\"M0 0h24v24H0V0z\" fill=\"none\"/>\n",
              "    <path d=\"M18.56 5.44l.94 2.06.94-2.06 2.06-.94-2.06-.94-.94-2.06-.94 2.06-2.06.94zm-11 1L8.5 8.5l.94-2.06 2.06-.94-2.06-.94L8.5 2.5l-.94 2.06-2.06.94zm10 10l.94 2.06.94-2.06 2.06-.94-2.06-.94-.94-2.06-.94 2.06-2.06.94z\"/><path d=\"M17.41 7.96l-1.37-1.37c-.4-.4-.92-.59-1.43-.59-.52 0-1.04.2-1.43.59L10.3 9.45l-7.72 7.72c-.78.78-.78 2.05 0 2.83L4 21.41c.39.39.9.59 1.41.59.51 0 1.02-.2 1.41-.59l7.78-7.78 2.81-2.81c.8-.78.8-2.07 0-2.86zM5.41 20L4 18.59l7.72-7.72 1.47 1.35L5.41 20z\"/>\n",
              "  </svg>\n",
              "      </button>\n",
              "      \n",
              "  <style>\n",
              "    .colab-df-container {\n",
              "      display:flex;\n",
              "      flex-wrap:wrap;\n",
              "      gap: 12px;\n",
              "    }\n",
              "\n",
              "    .colab-df-convert {\n",
              "      background-color: #E8F0FE;\n",
              "      border: none;\n",
              "      border-radius: 50%;\n",
              "      cursor: pointer;\n",
              "      display: none;\n",
              "      fill: #1967D2;\n",
              "      height: 32px;\n",
              "      padding: 0 0 0 0;\n",
              "      width: 32px;\n",
              "    }\n",
              "\n",
              "    .colab-df-convert:hover {\n",
              "      background-color: #E2EBFA;\n",
              "      box-shadow: 0px 1px 2px rgba(60, 64, 67, 0.3), 0px 1px 3px 1px rgba(60, 64, 67, 0.15);\n",
              "      fill: #174EA6;\n",
              "    }\n",
              "\n",
              "    [theme=dark] .colab-df-convert {\n",
              "      background-color: #3B4455;\n",
              "      fill: #D2E3FC;\n",
              "    }\n",
              "\n",
              "    [theme=dark] .colab-df-convert:hover {\n",
              "      background-color: #434B5C;\n",
              "      box-shadow: 0px 1px 3px 1px rgba(0, 0, 0, 0.15);\n",
              "      filter: drop-shadow(0px 1px 2px rgba(0, 0, 0, 0.3));\n",
              "      fill: #FFFFFF;\n",
              "    }\n",
              "  </style>\n",
              "\n",
              "      <script>\n",
              "        const buttonEl =\n",
              "          document.querySelector('#df-4dbac839-32d5-479d-8231-8f8ab9e83196 button.colab-df-convert');\n",
              "        buttonEl.style.display =\n",
              "          google.colab.kernel.accessAllowed ? 'block' : 'none';\n",
              "\n",
              "        async function convertToInteractive(key) {\n",
              "          const element = document.querySelector('#df-4dbac839-32d5-479d-8231-8f8ab9e83196');\n",
              "          const dataTable =\n",
              "            await google.colab.kernel.invokeFunction('convertToInteractive',\n",
              "                                                     [key], {});\n",
              "          if (!dataTable) return;\n",
              "\n",
              "          const docLinkHtml = 'Like what you see? Visit the ' +\n",
              "            '<a target=\"_blank\" href=https://colab.research.google.com/notebooks/data_table.ipynb>data table notebook</a>'\n",
              "            + ' to learn more about interactive tables.';\n",
              "          element.innerHTML = '';\n",
              "          dataTable['output_type'] = 'display_data';\n",
              "          await google.colab.output.renderOutput(dataTable, element);\n",
              "          const docLink = document.createElement('div');\n",
              "          docLink.innerHTML = docLinkHtml;\n",
              "          element.appendChild(docLink);\n",
              "        }\n",
              "      </script>\n",
              "    </div>\n",
              "  </div>\n",
              "  "
            ]
          },
          "metadata": {},
          "execution_count": 52
        }
      ],
      "source": [
        "test = pd.DataFrame(comp_disc.groupby(by=['PLAN_ID', 'DISC_ID', 'SEMESTER']).size())\n",
        "test[test[0]>1]"
      ]
    },
    {
      "cell_type": "markdown",
      "id": "fe0fca54",
      "metadata": {
        "id": "fe0fca54"
      },
      "source": [
        "Видим, что нет. Отдельно посмотрим на эти строки"
      ]
    },
    {
      "cell_type": "code",
      "execution_count": 53,
      "id": "6555503f",
      "metadata": {
        "id": "6555503f",
        "colab": {
          "base_uri": "https://localhost:8080/",
          "height": 112
        },
        "outputId": "39498d88-8d79-4a14-e00e-b23d948627cf"
      },
      "outputs": [
        {
          "output_type": "execute_result",
          "data": {
            "text/plain": [
              "                   PLAN_ID              DISC_ID  СHOICE  SEMESTER  \\\n",
              "19944  5928068423167434299  8803870721775400102     1.0       1.0   \n",
              "19945  5928068423167434299  8803870721775400102     0.0       1.0   \n",
              "\n",
              "                  DISC_DEP  \n",
              "19944  8738509941414530019  \n",
              "19945  8738509941414530019  "
            ],
            "text/html": [
              "\n",
              "  <div id=\"df-963b3011-0fdb-4c73-a8d5-a3ac0abc365e\">\n",
              "    <div class=\"colab-df-container\">\n",
              "      <div>\n",
              "<style scoped>\n",
              "    .dataframe tbody tr th:only-of-type {\n",
              "        vertical-align: middle;\n",
              "    }\n",
              "\n",
              "    .dataframe tbody tr th {\n",
              "        vertical-align: top;\n",
              "    }\n",
              "\n",
              "    .dataframe thead th {\n",
              "        text-align: right;\n",
              "    }\n",
              "</style>\n",
              "<table border=\"1\" class=\"dataframe\">\n",
              "  <thead>\n",
              "    <tr style=\"text-align: right;\">\n",
              "      <th></th>\n",
              "      <th>PLAN_ID</th>\n",
              "      <th>DISC_ID</th>\n",
              "      <th>СHOICE</th>\n",
              "      <th>SEMESTER</th>\n",
              "      <th>DISC_DEP</th>\n",
              "    </tr>\n",
              "  </thead>\n",
              "  <tbody>\n",
              "    <tr>\n",
              "      <th>19944</th>\n",
              "      <td>5928068423167434299</td>\n",
              "      <td>8803870721775400102</td>\n",
              "      <td>1.0</td>\n",
              "      <td>1.0</td>\n",
              "      <td>8738509941414530019</td>\n",
              "    </tr>\n",
              "    <tr>\n",
              "      <th>19945</th>\n",
              "      <td>5928068423167434299</td>\n",
              "      <td>8803870721775400102</td>\n",
              "      <td>0.0</td>\n",
              "      <td>1.0</td>\n",
              "      <td>8738509941414530019</td>\n",
              "    </tr>\n",
              "  </tbody>\n",
              "</table>\n",
              "</div>\n",
              "      <button class=\"colab-df-convert\" onclick=\"convertToInteractive('df-963b3011-0fdb-4c73-a8d5-a3ac0abc365e')\"\n",
              "              title=\"Convert this dataframe to an interactive table.\"\n",
              "              style=\"display:none;\">\n",
              "        \n",
              "  <svg xmlns=\"http://www.w3.org/2000/svg\" height=\"24px\"viewBox=\"0 0 24 24\"\n",
              "       width=\"24px\">\n",
              "    <path d=\"M0 0h24v24H0V0z\" fill=\"none\"/>\n",
              "    <path d=\"M18.56 5.44l.94 2.06.94-2.06 2.06-.94-2.06-.94-.94-2.06-.94 2.06-2.06.94zm-11 1L8.5 8.5l.94-2.06 2.06-.94-2.06-.94L8.5 2.5l-.94 2.06-2.06.94zm10 10l.94 2.06.94-2.06 2.06-.94-2.06-.94-.94-2.06-.94 2.06-2.06.94z\"/><path d=\"M17.41 7.96l-1.37-1.37c-.4-.4-.92-.59-1.43-.59-.52 0-1.04.2-1.43.59L10.3 9.45l-7.72 7.72c-.78.78-.78 2.05 0 2.83L4 21.41c.39.39.9.59 1.41.59.51 0 1.02-.2 1.41-.59l7.78-7.78 2.81-2.81c.8-.78.8-2.07 0-2.86zM5.41 20L4 18.59l7.72-7.72 1.47 1.35L5.41 20z\"/>\n",
              "  </svg>\n",
              "      </button>\n",
              "      \n",
              "  <style>\n",
              "    .colab-df-container {\n",
              "      display:flex;\n",
              "      flex-wrap:wrap;\n",
              "      gap: 12px;\n",
              "    }\n",
              "\n",
              "    .colab-df-convert {\n",
              "      background-color: #E8F0FE;\n",
              "      border: none;\n",
              "      border-radius: 50%;\n",
              "      cursor: pointer;\n",
              "      display: none;\n",
              "      fill: #1967D2;\n",
              "      height: 32px;\n",
              "      padding: 0 0 0 0;\n",
              "      width: 32px;\n",
              "    }\n",
              "\n",
              "    .colab-df-convert:hover {\n",
              "      background-color: #E2EBFA;\n",
              "      box-shadow: 0px 1px 2px rgba(60, 64, 67, 0.3), 0px 1px 3px 1px rgba(60, 64, 67, 0.15);\n",
              "      fill: #174EA6;\n",
              "    }\n",
              "\n",
              "    [theme=dark] .colab-df-convert {\n",
              "      background-color: #3B4455;\n",
              "      fill: #D2E3FC;\n",
              "    }\n",
              "\n",
              "    [theme=dark] .colab-df-convert:hover {\n",
              "      background-color: #434B5C;\n",
              "      box-shadow: 0px 1px 3px 1px rgba(0, 0, 0, 0.15);\n",
              "      filter: drop-shadow(0px 1px 2px rgba(0, 0, 0, 0.3));\n",
              "      fill: #FFFFFF;\n",
              "    }\n",
              "  </style>\n",
              "\n",
              "      <script>\n",
              "        const buttonEl =\n",
              "          document.querySelector('#df-963b3011-0fdb-4c73-a8d5-a3ac0abc365e button.colab-df-convert');\n",
              "        buttonEl.style.display =\n",
              "          google.colab.kernel.accessAllowed ? 'block' : 'none';\n",
              "\n",
              "        async function convertToInteractive(key) {\n",
              "          const element = document.querySelector('#df-963b3011-0fdb-4c73-a8d5-a3ac0abc365e');\n",
              "          const dataTable =\n",
              "            await google.colab.kernel.invokeFunction('convertToInteractive',\n",
              "                                                     [key], {});\n",
              "          if (!dataTable) return;\n",
              "\n",
              "          const docLinkHtml = 'Like what you see? Visit the ' +\n",
              "            '<a target=\"_blank\" href=https://colab.research.google.com/notebooks/data_table.ipynb>data table notebook</a>'\n",
              "            + ' to learn more about interactive tables.';\n",
              "          element.innerHTML = '';\n",
              "          dataTable['output_type'] = 'display_data';\n",
              "          await google.colab.output.renderOutput(dataTable, element);\n",
              "          const docLink = document.createElement('div');\n",
              "          docLink.innerHTML = docLinkHtml;\n",
              "          element.appendChild(docLink);\n",
              "        }\n",
              "      </script>\n",
              "    </div>\n",
              "  </div>\n",
              "  "
            ]
          },
          "metadata": {},
          "execution_count": 53
        }
      ],
      "source": [
        "comp_disc[\n",
        "    (comp_disc['PLAN_ID'] == 5928068423167434299) &\n",
        "    (comp_disc['DISC_ID'] == 8803870721775400102) &\n",
        "    (comp_disc['SEMESTER'] == 1.0) &\n",
        "    (comp_disc['DISC_DEP'] == 8738509941414530019)\n",
        "]"
      ]
    },
    {
      "cell_type": "code",
      "execution_count": 54,
      "id": "e1a5a761",
      "metadata": {
        "id": "e1a5a761",
        "colab": {
          "base_uri": "https://localhost:8080/",
          "height": 112
        },
        "outputId": "7a1f0fbb-230e-45b8-86ff-39f03222e80f"
      },
      "outputs": [
        {
          "output_type": "execute_result",
          "data": {
            "text/plain": [
              "                   PLAN_ID              DISC_ID  СHOICE  SEMESTER  \\\n",
              "13864  9525771375887488353  7808003831249892566     1.0       2.0   \n",
              "13865  9525771375887488353  7808003831249892566     0.0       2.0   \n",
              "\n",
              "                  DISC_DEP  \n",
              "13864  8738509941414530019  \n",
              "13865  8738509941414530019  "
            ],
            "text/html": [
              "\n",
              "  <div id=\"df-b9cfc7b3-9fbd-412c-a8df-acc821b83263\">\n",
              "    <div class=\"colab-df-container\">\n",
              "      <div>\n",
              "<style scoped>\n",
              "    .dataframe tbody tr th:only-of-type {\n",
              "        vertical-align: middle;\n",
              "    }\n",
              "\n",
              "    .dataframe tbody tr th {\n",
              "        vertical-align: top;\n",
              "    }\n",
              "\n",
              "    .dataframe thead th {\n",
              "        text-align: right;\n",
              "    }\n",
              "</style>\n",
              "<table border=\"1\" class=\"dataframe\">\n",
              "  <thead>\n",
              "    <tr style=\"text-align: right;\">\n",
              "      <th></th>\n",
              "      <th>PLAN_ID</th>\n",
              "      <th>DISC_ID</th>\n",
              "      <th>СHOICE</th>\n",
              "      <th>SEMESTER</th>\n",
              "      <th>DISC_DEP</th>\n",
              "    </tr>\n",
              "  </thead>\n",
              "  <tbody>\n",
              "    <tr>\n",
              "      <th>13864</th>\n",
              "      <td>9525771375887488353</td>\n",
              "      <td>7808003831249892566</td>\n",
              "      <td>1.0</td>\n",
              "      <td>2.0</td>\n",
              "      <td>8738509941414530019</td>\n",
              "    </tr>\n",
              "    <tr>\n",
              "      <th>13865</th>\n",
              "      <td>9525771375887488353</td>\n",
              "      <td>7808003831249892566</td>\n",
              "      <td>0.0</td>\n",
              "      <td>2.0</td>\n",
              "      <td>8738509941414530019</td>\n",
              "    </tr>\n",
              "  </tbody>\n",
              "</table>\n",
              "</div>\n",
              "      <button class=\"colab-df-convert\" onclick=\"convertToInteractive('df-b9cfc7b3-9fbd-412c-a8df-acc821b83263')\"\n",
              "              title=\"Convert this dataframe to an interactive table.\"\n",
              "              style=\"display:none;\">\n",
              "        \n",
              "  <svg xmlns=\"http://www.w3.org/2000/svg\" height=\"24px\"viewBox=\"0 0 24 24\"\n",
              "       width=\"24px\">\n",
              "    <path d=\"M0 0h24v24H0V0z\" fill=\"none\"/>\n",
              "    <path d=\"M18.56 5.44l.94 2.06.94-2.06 2.06-.94-2.06-.94-.94-2.06-.94 2.06-2.06.94zm-11 1L8.5 8.5l.94-2.06 2.06-.94-2.06-.94L8.5 2.5l-.94 2.06-2.06.94zm10 10l.94 2.06.94-2.06 2.06-.94-2.06-.94-.94-2.06-.94 2.06-2.06.94z\"/><path d=\"M17.41 7.96l-1.37-1.37c-.4-.4-.92-.59-1.43-.59-.52 0-1.04.2-1.43.59L10.3 9.45l-7.72 7.72c-.78.78-.78 2.05 0 2.83L4 21.41c.39.39.9.59 1.41.59.51 0 1.02-.2 1.41-.59l7.78-7.78 2.81-2.81c.8-.78.8-2.07 0-2.86zM5.41 20L4 18.59l7.72-7.72 1.47 1.35L5.41 20z\"/>\n",
              "  </svg>\n",
              "      </button>\n",
              "      \n",
              "  <style>\n",
              "    .colab-df-container {\n",
              "      display:flex;\n",
              "      flex-wrap:wrap;\n",
              "      gap: 12px;\n",
              "    }\n",
              "\n",
              "    .colab-df-convert {\n",
              "      background-color: #E8F0FE;\n",
              "      border: none;\n",
              "      border-radius: 50%;\n",
              "      cursor: pointer;\n",
              "      display: none;\n",
              "      fill: #1967D2;\n",
              "      height: 32px;\n",
              "      padding: 0 0 0 0;\n",
              "      width: 32px;\n",
              "    }\n",
              "\n",
              "    .colab-df-convert:hover {\n",
              "      background-color: #E2EBFA;\n",
              "      box-shadow: 0px 1px 2px rgba(60, 64, 67, 0.3), 0px 1px 3px 1px rgba(60, 64, 67, 0.15);\n",
              "      fill: #174EA6;\n",
              "    }\n",
              "\n",
              "    [theme=dark] .colab-df-convert {\n",
              "      background-color: #3B4455;\n",
              "      fill: #D2E3FC;\n",
              "    }\n",
              "\n",
              "    [theme=dark] .colab-df-convert:hover {\n",
              "      background-color: #434B5C;\n",
              "      box-shadow: 0px 1px 3px 1px rgba(0, 0, 0, 0.15);\n",
              "      filter: drop-shadow(0px 1px 2px rgba(0, 0, 0, 0.3));\n",
              "      fill: #FFFFFF;\n",
              "    }\n",
              "  </style>\n",
              "\n",
              "      <script>\n",
              "        const buttonEl =\n",
              "          document.querySelector('#df-b9cfc7b3-9fbd-412c-a8df-acc821b83263 button.colab-df-convert');\n",
              "        buttonEl.style.display =\n",
              "          google.colab.kernel.accessAllowed ? 'block' : 'none';\n",
              "\n",
              "        async function convertToInteractive(key) {\n",
              "          const element = document.querySelector('#df-b9cfc7b3-9fbd-412c-a8df-acc821b83263');\n",
              "          const dataTable =\n",
              "            await google.colab.kernel.invokeFunction('convertToInteractive',\n",
              "                                                     [key], {});\n",
              "          if (!dataTable) return;\n",
              "\n",
              "          const docLinkHtml = 'Like what you see? Visit the ' +\n",
              "            '<a target=\"_blank\" href=https://colab.research.google.com/notebooks/data_table.ipynb>data table notebook</a>'\n",
              "            + ' to learn more about interactive tables.';\n",
              "          element.innerHTML = '';\n",
              "          dataTable['output_type'] = 'display_data';\n",
              "          await google.colab.output.renderOutput(dataTable, element);\n",
              "          const docLink = document.createElement('div');\n",
              "          docLink.innerHTML = docLinkHtml;\n",
              "          element.appendChild(docLink);\n",
              "        }\n",
              "      </script>\n",
              "    </div>\n",
              "  </div>\n",
              "  "
            ]
          },
          "metadata": {},
          "execution_count": 54
        }
      ],
      "source": [
        "comp_disc[\n",
        "    (comp_disc['PLAN_ID'] == 9525771375887488353) &\n",
        "    (comp_disc['DISC_ID'] == 7808003831249892566) &\n",
        "    (comp_disc['SEMESTER'] == 2.0) &\n",
        "    (comp_disc['DISC_DEP'] == 8738509941414530019)\n",
        "]"
      ]
    },
    {
      "cell_type": "code",
      "execution_count": 55,
      "id": "10cc7ad2",
      "metadata": {
        "id": "10cc7ad2",
        "colab": {
          "base_uri": "https://localhost:8080/",
          "height": 112
        },
        "outputId": "d0d5cef3-225b-41ae-a723-edfa04213db8"
      },
      "outputs": [
        {
          "output_type": "execute_result",
          "data": {
            "text/plain": [
              "                   PLAN_ID              DISC_ID  СHOICE  SEMESTER  \\\n",
              "13862  9525771375887488353  8669037893956957554     1.0       2.0   \n",
              "13863  9525771375887488353  8669037893956957554     0.0       2.0   \n",
              "\n",
              "                  DISC_DEP  \n",
              "13862  8738509941414530019  \n",
              "13863  8738509941414530019  "
            ],
            "text/html": [
              "\n",
              "  <div id=\"df-79686fbb-dce9-4fc1-9709-2674a313df93\">\n",
              "    <div class=\"colab-df-container\">\n",
              "      <div>\n",
              "<style scoped>\n",
              "    .dataframe tbody tr th:only-of-type {\n",
              "        vertical-align: middle;\n",
              "    }\n",
              "\n",
              "    .dataframe tbody tr th {\n",
              "        vertical-align: top;\n",
              "    }\n",
              "\n",
              "    .dataframe thead th {\n",
              "        text-align: right;\n",
              "    }\n",
              "</style>\n",
              "<table border=\"1\" class=\"dataframe\">\n",
              "  <thead>\n",
              "    <tr style=\"text-align: right;\">\n",
              "      <th></th>\n",
              "      <th>PLAN_ID</th>\n",
              "      <th>DISC_ID</th>\n",
              "      <th>СHOICE</th>\n",
              "      <th>SEMESTER</th>\n",
              "      <th>DISC_DEP</th>\n",
              "    </tr>\n",
              "  </thead>\n",
              "  <tbody>\n",
              "    <tr>\n",
              "      <th>13862</th>\n",
              "      <td>9525771375887488353</td>\n",
              "      <td>8669037893956957554</td>\n",
              "      <td>1.0</td>\n",
              "      <td>2.0</td>\n",
              "      <td>8738509941414530019</td>\n",
              "    </tr>\n",
              "    <tr>\n",
              "      <th>13863</th>\n",
              "      <td>9525771375887488353</td>\n",
              "      <td>8669037893956957554</td>\n",
              "      <td>0.0</td>\n",
              "      <td>2.0</td>\n",
              "      <td>8738509941414530019</td>\n",
              "    </tr>\n",
              "  </tbody>\n",
              "</table>\n",
              "</div>\n",
              "      <button class=\"colab-df-convert\" onclick=\"convertToInteractive('df-79686fbb-dce9-4fc1-9709-2674a313df93')\"\n",
              "              title=\"Convert this dataframe to an interactive table.\"\n",
              "              style=\"display:none;\">\n",
              "        \n",
              "  <svg xmlns=\"http://www.w3.org/2000/svg\" height=\"24px\"viewBox=\"0 0 24 24\"\n",
              "       width=\"24px\">\n",
              "    <path d=\"M0 0h24v24H0V0z\" fill=\"none\"/>\n",
              "    <path d=\"M18.56 5.44l.94 2.06.94-2.06 2.06-.94-2.06-.94-.94-2.06-.94 2.06-2.06.94zm-11 1L8.5 8.5l.94-2.06 2.06-.94-2.06-.94L8.5 2.5l-.94 2.06-2.06.94zm10 10l.94 2.06.94-2.06 2.06-.94-2.06-.94-.94-2.06-.94 2.06-2.06.94z\"/><path d=\"M17.41 7.96l-1.37-1.37c-.4-.4-.92-.59-1.43-.59-.52 0-1.04.2-1.43.59L10.3 9.45l-7.72 7.72c-.78.78-.78 2.05 0 2.83L4 21.41c.39.39.9.59 1.41.59.51 0 1.02-.2 1.41-.59l7.78-7.78 2.81-2.81c.8-.78.8-2.07 0-2.86zM5.41 20L4 18.59l7.72-7.72 1.47 1.35L5.41 20z\"/>\n",
              "  </svg>\n",
              "      </button>\n",
              "      \n",
              "  <style>\n",
              "    .colab-df-container {\n",
              "      display:flex;\n",
              "      flex-wrap:wrap;\n",
              "      gap: 12px;\n",
              "    }\n",
              "\n",
              "    .colab-df-convert {\n",
              "      background-color: #E8F0FE;\n",
              "      border: none;\n",
              "      border-radius: 50%;\n",
              "      cursor: pointer;\n",
              "      display: none;\n",
              "      fill: #1967D2;\n",
              "      height: 32px;\n",
              "      padding: 0 0 0 0;\n",
              "      width: 32px;\n",
              "    }\n",
              "\n",
              "    .colab-df-convert:hover {\n",
              "      background-color: #E2EBFA;\n",
              "      box-shadow: 0px 1px 2px rgba(60, 64, 67, 0.3), 0px 1px 3px 1px rgba(60, 64, 67, 0.15);\n",
              "      fill: #174EA6;\n",
              "    }\n",
              "\n",
              "    [theme=dark] .colab-df-convert {\n",
              "      background-color: #3B4455;\n",
              "      fill: #D2E3FC;\n",
              "    }\n",
              "\n",
              "    [theme=dark] .colab-df-convert:hover {\n",
              "      background-color: #434B5C;\n",
              "      box-shadow: 0px 1px 3px 1px rgba(0, 0, 0, 0.15);\n",
              "      filter: drop-shadow(0px 1px 2px rgba(0, 0, 0, 0.3));\n",
              "      fill: #FFFFFF;\n",
              "    }\n",
              "  </style>\n",
              "\n",
              "      <script>\n",
              "        const buttonEl =\n",
              "          document.querySelector('#df-79686fbb-dce9-4fc1-9709-2674a313df93 button.colab-df-convert');\n",
              "        buttonEl.style.display =\n",
              "          google.colab.kernel.accessAllowed ? 'block' : 'none';\n",
              "\n",
              "        async function convertToInteractive(key) {\n",
              "          const element = document.querySelector('#df-79686fbb-dce9-4fc1-9709-2674a313df93');\n",
              "          const dataTable =\n",
              "            await google.colab.kernel.invokeFunction('convertToInteractive',\n",
              "                                                     [key], {});\n",
              "          if (!dataTable) return;\n",
              "\n",
              "          const docLinkHtml = 'Like what you see? Visit the ' +\n",
              "            '<a target=\"_blank\" href=https://colab.research.google.com/notebooks/data_table.ipynb>data table notebook</a>'\n",
              "            + ' to learn more about interactive tables.';\n",
              "          element.innerHTML = '';\n",
              "          dataTable['output_type'] = 'display_data';\n",
              "          await google.colab.output.renderOutput(dataTable, element);\n",
              "          const docLink = document.createElement('div');\n",
              "          docLink.innerHTML = docLinkHtml;\n",
              "          element.appendChild(docLink);\n",
              "        }\n",
              "      </script>\n",
              "    </div>\n",
              "  </div>\n",
              "  "
            ]
          },
          "metadata": {},
          "execution_count": 55
        }
      ],
      "source": [
        "comp_disc[\n",
        "    (comp_disc['PLAN_ID'] == 9525771375887488353) &\n",
        "    (comp_disc['DISC_ID'] == 8669037893956957554) &\n",
        "    (comp_disc['SEMESTER'] == 2.0) &\n",
        "    (comp_disc['DISC_DEP'] == 8738509941414530019)\n",
        "]"
      ]
    },
    {
      "cell_type": "markdown",
      "id": "020b1897",
      "metadata": {
        "id": "020b1897"
      },
      "source": [
        "Таким образом, в этих парах строки различаются только по признаку CHOICE. Они противоречат друг другу, поэтому удалим их"
      ]
    },
    {
      "cell_type": "code",
      "execution_count": 56,
      "id": "617f4861",
      "metadata": {
        "id": "617f4861"
      },
      "outputs": [],
      "source": [
        "comp_disc.drop(df.index[[19944, 19945, 13864, 13865, 13862, 13863]], inplace=True)"
      ]
    },
    {
      "cell_type": "markdown",
      "id": "180e6587",
      "metadata": {
        "id": "180e6587"
      },
      "source": [
        "Ещё раз проверим, что столбцы PLAN_ID, DISC_ID и SEMESTER уникально идентифицируют каждую строку"
      ]
    },
    {
      "cell_type": "code",
      "execution_count": 57,
      "id": "fb066e51",
      "metadata": {
        "id": "fb066e51",
        "colab": {
          "base_uri": "https://localhost:8080/",
          "height": 81
        },
        "outputId": "1e2d9c07-83c6-4afe-d9d2-d06bb109be94"
      },
      "outputs": [
        {
          "output_type": "execute_result",
          "data": {
            "text/plain": [
              "Empty DataFrame\n",
              "Columns: [0]\n",
              "Index: []"
            ],
            "text/html": [
              "\n",
              "  <div id=\"df-1b69ae60-eda6-432d-97fe-15a1a8d3dd7e\">\n",
              "    <div class=\"colab-df-container\">\n",
              "      <div>\n",
              "<style scoped>\n",
              "    .dataframe tbody tr th:only-of-type {\n",
              "        vertical-align: middle;\n",
              "    }\n",
              "\n",
              "    .dataframe tbody tr th {\n",
              "        vertical-align: top;\n",
              "    }\n",
              "\n",
              "    .dataframe thead th {\n",
              "        text-align: right;\n",
              "    }\n",
              "</style>\n",
              "<table border=\"1\" class=\"dataframe\">\n",
              "  <thead>\n",
              "    <tr style=\"text-align: right;\">\n",
              "      <th></th>\n",
              "      <th></th>\n",
              "      <th></th>\n",
              "      <th>0</th>\n",
              "    </tr>\n",
              "    <tr>\n",
              "      <th>PLAN_ID</th>\n",
              "      <th>DISC_ID</th>\n",
              "      <th>SEMESTER</th>\n",
              "      <th></th>\n",
              "    </tr>\n",
              "  </thead>\n",
              "  <tbody>\n",
              "  </tbody>\n",
              "</table>\n",
              "</div>\n",
              "      <button class=\"colab-df-convert\" onclick=\"convertToInteractive('df-1b69ae60-eda6-432d-97fe-15a1a8d3dd7e')\"\n",
              "              title=\"Convert this dataframe to an interactive table.\"\n",
              "              style=\"display:none;\">\n",
              "        \n",
              "  <svg xmlns=\"http://www.w3.org/2000/svg\" height=\"24px\"viewBox=\"0 0 24 24\"\n",
              "       width=\"24px\">\n",
              "    <path d=\"M0 0h24v24H0V0z\" fill=\"none\"/>\n",
              "    <path d=\"M18.56 5.44l.94 2.06.94-2.06 2.06-.94-2.06-.94-.94-2.06-.94 2.06-2.06.94zm-11 1L8.5 8.5l.94-2.06 2.06-.94-2.06-.94L8.5 2.5l-.94 2.06-2.06.94zm10 10l.94 2.06.94-2.06 2.06-.94-2.06-.94-.94-2.06-.94 2.06-2.06.94z\"/><path d=\"M17.41 7.96l-1.37-1.37c-.4-.4-.92-.59-1.43-.59-.52 0-1.04.2-1.43.59L10.3 9.45l-7.72 7.72c-.78.78-.78 2.05 0 2.83L4 21.41c.39.39.9.59 1.41.59.51 0 1.02-.2 1.41-.59l7.78-7.78 2.81-2.81c.8-.78.8-2.07 0-2.86zM5.41 20L4 18.59l7.72-7.72 1.47 1.35L5.41 20z\"/>\n",
              "  </svg>\n",
              "      </button>\n",
              "      \n",
              "  <style>\n",
              "    .colab-df-container {\n",
              "      display:flex;\n",
              "      flex-wrap:wrap;\n",
              "      gap: 12px;\n",
              "    }\n",
              "\n",
              "    .colab-df-convert {\n",
              "      background-color: #E8F0FE;\n",
              "      border: none;\n",
              "      border-radius: 50%;\n",
              "      cursor: pointer;\n",
              "      display: none;\n",
              "      fill: #1967D2;\n",
              "      height: 32px;\n",
              "      padding: 0 0 0 0;\n",
              "      width: 32px;\n",
              "    }\n",
              "\n",
              "    .colab-df-convert:hover {\n",
              "      background-color: #E2EBFA;\n",
              "      box-shadow: 0px 1px 2px rgba(60, 64, 67, 0.3), 0px 1px 3px 1px rgba(60, 64, 67, 0.15);\n",
              "      fill: #174EA6;\n",
              "    }\n",
              "\n",
              "    [theme=dark] .colab-df-convert {\n",
              "      background-color: #3B4455;\n",
              "      fill: #D2E3FC;\n",
              "    }\n",
              "\n",
              "    [theme=dark] .colab-df-convert:hover {\n",
              "      background-color: #434B5C;\n",
              "      box-shadow: 0px 1px 3px 1px rgba(0, 0, 0, 0.15);\n",
              "      filter: drop-shadow(0px 1px 2px rgba(0, 0, 0, 0.3));\n",
              "      fill: #FFFFFF;\n",
              "    }\n",
              "  </style>\n",
              "\n",
              "      <script>\n",
              "        const buttonEl =\n",
              "          document.querySelector('#df-1b69ae60-eda6-432d-97fe-15a1a8d3dd7e button.colab-df-convert');\n",
              "        buttonEl.style.display =\n",
              "          google.colab.kernel.accessAllowed ? 'block' : 'none';\n",
              "\n",
              "        async function convertToInteractive(key) {\n",
              "          const element = document.querySelector('#df-1b69ae60-eda6-432d-97fe-15a1a8d3dd7e');\n",
              "          const dataTable =\n",
              "            await google.colab.kernel.invokeFunction('convertToInteractive',\n",
              "                                                     [key], {});\n",
              "          if (!dataTable) return;\n",
              "\n",
              "          const docLinkHtml = 'Like what you see? Visit the ' +\n",
              "            '<a target=\"_blank\" href=https://colab.research.google.com/notebooks/data_table.ipynb>data table notebook</a>'\n",
              "            + ' to learn more about interactive tables.';\n",
              "          element.innerHTML = '';\n",
              "          dataTable['output_type'] = 'display_data';\n",
              "          await google.colab.output.renderOutput(dataTable, element);\n",
              "          const docLink = document.createElement('div');\n",
              "          docLink.innerHTML = docLinkHtml;\n",
              "          element.appendChild(docLink);\n",
              "        }\n",
              "      </script>\n",
              "    </div>\n",
              "  </div>\n",
              "  "
            ]
          },
          "metadata": {},
          "execution_count": 57
        }
      ],
      "source": [
        "test = pd.DataFrame(comp_disc.groupby(by=['PLAN_ID', 'DISC_ID', 'SEMESTER']).size())\n",
        "test[test[0]>1]"
      ]
    },
    {
      "cell_type": "markdown",
      "id": "4ce89f90",
      "metadata": {
        "id": "4ce89f90"
      },
      "source": [
        "Видим, что всё в порядке"
      ]
    },
    {
      "cell_type": "markdown",
      "id": "161b2abd",
      "metadata": {
        "id": "161b2abd"
      },
      "source": [
        "Присоединим comp_disc к comp_marks"
      ]
    },
    {
      "cell_type": "code",
      "execution_count": 58,
      "id": "e57ae0e8",
      "metadata": {
        "id": "e57ae0e8",
        "colab": {
          "base_uri": "https://localhost:8080/",
          "height": 206
        },
        "outputId": "ac623486-5f8a-4508-f126-9c8fab221534"
      },
      "outputs": [
        {
          "output_type": "execute_result",
          "data": {
            "text/plain": [
              "                    ISU  ST_YEAR  SEMESTER TYPE_NAME   MARK  \\\n",
              "0  17623928044460629977     2020         1     Зачет  зачет   \n",
              "1  16373558259905320371     2020         1     Зачет  зачет   \n",
              "2   9464810043552925003     2020         1     Зачет  зачет   \n",
              "3  15871173322760135366     2020         1     Зачет  зачет   \n",
              "4   5765721226963909264     2020         1     Зачет  зачет   \n",
              "\n",
              "             MAIN_PLAN               DISC_ID              PRED_ID  СHOICE  \\\n",
              "0  4664712865904477750  10502311854018326223  5087927234000983963     0.0   \n",
              "1  4664712865904477750  10502311854018326223  4153126429887436865     0.0   \n",
              "2  4664712865904477750  10502311854018326223  4153126429887436865     0.0   \n",
              "3  4664712865904477750  10502311854018326223  4153126429887436865     0.0   \n",
              "4  4664712865904477750  10502311854018326223  4153126429887436865     0.0   \n",
              "\n",
              "              DISC_DEP  \n",
              "0  5077682191738720383  \n",
              "1  5077682191738720383  \n",
              "2  5077682191738720383  \n",
              "3  5077682191738720383  \n",
              "4  5077682191738720383  "
            ],
            "text/html": [
              "\n",
              "  <div id=\"df-8647c4b7-55f0-4953-bb1e-d0bbe79d8345\">\n",
              "    <div class=\"colab-df-container\">\n",
              "      <div>\n",
              "<style scoped>\n",
              "    .dataframe tbody tr th:only-of-type {\n",
              "        vertical-align: middle;\n",
              "    }\n",
              "\n",
              "    .dataframe tbody tr th {\n",
              "        vertical-align: top;\n",
              "    }\n",
              "\n",
              "    .dataframe thead th {\n",
              "        text-align: right;\n",
              "    }\n",
              "</style>\n",
              "<table border=\"1\" class=\"dataframe\">\n",
              "  <thead>\n",
              "    <tr style=\"text-align: right;\">\n",
              "      <th></th>\n",
              "      <th>ISU</th>\n",
              "      <th>ST_YEAR</th>\n",
              "      <th>SEMESTER</th>\n",
              "      <th>TYPE_NAME</th>\n",
              "      <th>MARK</th>\n",
              "      <th>MAIN_PLAN</th>\n",
              "      <th>DISC_ID</th>\n",
              "      <th>PRED_ID</th>\n",
              "      <th>СHOICE</th>\n",
              "      <th>DISC_DEP</th>\n",
              "    </tr>\n",
              "  </thead>\n",
              "  <tbody>\n",
              "    <tr>\n",
              "      <th>0</th>\n",
              "      <td>17623928044460629977</td>\n",
              "      <td>2020</td>\n",
              "      <td>1</td>\n",
              "      <td>Зачет</td>\n",
              "      <td>зачет</td>\n",
              "      <td>4664712865904477750</td>\n",
              "      <td>10502311854018326223</td>\n",
              "      <td>5087927234000983963</td>\n",
              "      <td>0.0</td>\n",
              "      <td>5077682191738720383</td>\n",
              "    </tr>\n",
              "    <tr>\n",
              "      <th>1</th>\n",
              "      <td>16373558259905320371</td>\n",
              "      <td>2020</td>\n",
              "      <td>1</td>\n",
              "      <td>Зачет</td>\n",
              "      <td>зачет</td>\n",
              "      <td>4664712865904477750</td>\n",
              "      <td>10502311854018326223</td>\n",
              "      <td>4153126429887436865</td>\n",
              "      <td>0.0</td>\n",
              "      <td>5077682191738720383</td>\n",
              "    </tr>\n",
              "    <tr>\n",
              "      <th>2</th>\n",
              "      <td>9464810043552925003</td>\n",
              "      <td>2020</td>\n",
              "      <td>1</td>\n",
              "      <td>Зачет</td>\n",
              "      <td>зачет</td>\n",
              "      <td>4664712865904477750</td>\n",
              "      <td>10502311854018326223</td>\n",
              "      <td>4153126429887436865</td>\n",
              "      <td>0.0</td>\n",
              "      <td>5077682191738720383</td>\n",
              "    </tr>\n",
              "    <tr>\n",
              "      <th>3</th>\n",
              "      <td>15871173322760135366</td>\n",
              "      <td>2020</td>\n",
              "      <td>1</td>\n",
              "      <td>Зачет</td>\n",
              "      <td>зачет</td>\n",
              "      <td>4664712865904477750</td>\n",
              "      <td>10502311854018326223</td>\n",
              "      <td>4153126429887436865</td>\n",
              "      <td>0.0</td>\n",
              "      <td>5077682191738720383</td>\n",
              "    </tr>\n",
              "    <tr>\n",
              "      <th>4</th>\n",
              "      <td>5765721226963909264</td>\n",
              "      <td>2020</td>\n",
              "      <td>1</td>\n",
              "      <td>Зачет</td>\n",
              "      <td>зачет</td>\n",
              "      <td>4664712865904477750</td>\n",
              "      <td>10502311854018326223</td>\n",
              "      <td>4153126429887436865</td>\n",
              "      <td>0.0</td>\n",
              "      <td>5077682191738720383</td>\n",
              "    </tr>\n",
              "  </tbody>\n",
              "</table>\n",
              "</div>\n",
              "      <button class=\"colab-df-convert\" onclick=\"convertToInteractive('df-8647c4b7-55f0-4953-bb1e-d0bbe79d8345')\"\n",
              "              title=\"Convert this dataframe to an interactive table.\"\n",
              "              style=\"display:none;\">\n",
              "        \n",
              "  <svg xmlns=\"http://www.w3.org/2000/svg\" height=\"24px\"viewBox=\"0 0 24 24\"\n",
              "       width=\"24px\">\n",
              "    <path d=\"M0 0h24v24H0V0z\" fill=\"none\"/>\n",
              "    <path d=\"M18.56 5.44l.94 2.06.94-2.06 2.06-.94-2.06-.94-.94-2.06-.94 2.06-2.06.94zm-11 1L8.5 8.5l.94-2.06 2.06-.94-2.06-.94L8.5 2.5l-.94 2.06-2.06.94zm10 10l.94 2.06.94-2.06 2.06-.94-2.06-.94-.94-2.06-.94 2.06-2.06.94z\"/><path d=\"M17.41 7.96l-1.37-1.37c-.4-.4-.92-.59-1.43-.59-.52 0-1.04.2-1.43.59L10.3 9.45l-7.72 7.72c-.78.78-.78 2.05 0 2.83L4 21.41c.39.39.9.59 1.41.59.51 0 1.02-.2 1.41-.59l7.78-7.78 2.81-2.81c.8-.78.8-2.07 0-2.86zM5.41 20L4 18.59l7.72-7.72 1.47 1.35L5.41 20z\"/>\n",
              "  </svg>\n",
              "      </button>\n",
              "      \n",
              "  <style>\n",
              "    .colab-df-container {\n",
              "      display:flex;\n",
              "      flex-wrap:wrap;\n",
              "      gap: 12px;\n",
              "    }\n",
              "\n",
              "    .colab-df-convert {\n",
              "      background-color: #E8F0FE;\n",
              "      border: none;\n",
              "      border-radius: 50%;\n",
              "      cursor: pointer;\n",
              "      display: none;\n",
              "      fill: #1967D2;\n",
              "      height: 32px;\n",
              "      padding: 0 0 0 0;\n",
              "      width: 32px;\n",
              "    }\n",
              "\n",
              "    .colab-df-convert:hover {\n",
              "      background-color: #E2EBFA;\n",
              "      box-shadow: 0px 1px 2px rgba(60, 64, 67, 0.3), 0px 1px 3px 1px rgba(60, 64, 67, 0.15);\n",
              "      fill: #174EA6;\n",
              "    }\n",
              "\n",
              "    [theme=dark] .colab-df-convert {\n",
              "      background-color: #3B4455;\n",
              "      fill: #D2E3FC;\n",
              "    }\n",
              "\n",
              "    [theme=dark] .colab-df-convert:hover {\n",
              "      background-color: #434B5C;\n",
              "      box-shadow: 0px 1px 3px 1px rgba(0, 0, 0, 0.15);\n",
              "      filter: drop-shadow(0px 1px 2px rgba(0, 0, 0, 0.3));\n",
              "      fill: #FFFFFF;\n",
              "    }\n",
              "  </style>\n",
              "\n",
              "      <script>\n",
              "        const buttonEl =\n",
              "          document.querySelector('#df-8647c4b7-55f0-4953-bb1e-d0bbe79d8345 button.colab-df-convert');\n",
              "        buttonEl.style.display =\n",
              "          google.colab.kernel.accessAllowed ? 'block' : 'none';\n",
              "\n",
              "        async function convertToInteractive(key) {\n",
              "          const element = document.querySelector('#df-8647c4b7-55f0-4953-bb1e-d0bbe79d8345');\n",
              "          const dataTable =\n",
              "            await google.colab.kernel.invokeFunction('convertToInteractive',\n",
              "                                                     [key], {});\n",
              "          if (!dataTable) return;\n",
              "\n",
              "          const docLinkHtml = 'Like what you see? Visit the ' +\n",
              "            '<a target=\"_blank\" href=https://colab.research.google.com/notebooks/data_table.ipynb>data table notebook</a>'\n",
              "            + ' to learn more about interactive tables.';\n",
              "          element.innerHTML = '';\n",
              "          dataTable['output_type'] = 'display_data';\n",
              "          await google.colab.output.renderOutput(dataTable, element);\n",
              "          const docLink = document.createElement('div');\n",
              "          docLink.innerHTML = docLinkHtml;\n",
              "          element.appendChild(docLink);\n",
              "        }\n",
              "      </script>\n",
              "    </div>\n",
              "  </div>\n",
              "  "
            ]
          },
          "metadata": {},
          "execution_count": 58
        }
      ],
      "source": [
        "comp_disc.rename(columns={\"PLAN_ID\": \"MAIN_PLAN\"}, inplace=True)\n",
        "\n",
        "comp_marks = pd.merge(comp_marks, comp_disc, on=['SEMESTER', 'DISC_ID', 'MAIN_PLAN'])\n",
        "comp_marks.head()"
      ]
    },
    {
      "cell_type": "code",
      "execution_count": 59,
      "id": "c2bb91eb",
      "metadata": {
        "id": "c2bb91eb",
        "colab": {
          "base_uri": "https://localhost:8080/"
        },
        "outputId": "3479f95e-8831-4f7e-c468-e4804d44a514"
      },
      "outputs": [
        {
          "output_type": "execute_result",
          "data": {
            "text/plain": [
              "(182198, 10)"
            ]
          },
          "metadata": {},
          "execution_count": 59
        }
      ],
      "source": [
        "comp_marks.shape"
      ]
    },
    {
      "cell_type": "markdown",
      "id": "97c1c1d7",
      "metadata": {
        "id": "97c1c1d7"
      },
      "source": [
        "## Бинаризация"
      ]
    },
    {
      "cell_type": "markdown",
      "id": "931bc0e2",
      "metadata": {
        "id": "931bc0e2"
      },
      "source": [
        "Итак, вернёимя к comp_marks и бинаризуем столбцы MAIN_PLAN и PRED_ID"
      ]
    },
    {
      "cell_type": "code",
      "execution_count": 60,
      "id": "ca029480",
      "metadata": {
        "id": "ca029480"
      },
      "outputs": [],
      "source": [
        "comp_marks = pd.get_dummies(data=comp_marks, columns=['MAIN_PLAN', 'PRED_ID', 'СHOICE', 'DISC_DEP'])"
      ]
    },
    {
      "cell_type": "markdown",
      "id": "b0789c4a",
      "metadata": {
        "id": "b0789c4a"
      },
      "source": [
        "Теперь схлопнем все неуникальные по оставшимся признакам строки в одну, чтобы добиться нужного эффекта"
      ]
    },
    {
      "cell_type": "code",
      "execution_count": 61,
      "id": "5112e514",
      "metadata": {
        "id": "5112e514"
      },
      "outputs": [],
      "source": [
        "comp_marks = pd.DataFrame(comp_marks.\n",
        "                          groupby(by=['ISU', 'ST_YEAR', 'SEMESTER', 'TYPE_NAME',\n",
        "                                      'DISC_ID', 'MARK']).sum())"
      ]
    },
    {
      "cell_type": "markdown",
      "id": "2035bfd3",
      "metadata": {
        "id": "2035bfd3"
      },
      "source": [
        "У нас могли получиться не бинарные фичи, поэтому заменим все положительные целые числа в ячейках на 1"
      ]
    },
    {
      "cell_type": "code",
      "execution_count": 62,
      "id": "427b6c7f",
      "metadata": {
        "id": "427b6c7f"
      },
      "outputs": [],
      "source": [
        "comp_marks = comp_marks.applymap(lambda x: 1 if x>0 else 0)"
      ]
    },
    {
      "cell_type": "markdown",
      "id": "ea0de0b1",
      "metadata": {
        "id": "ea0de0b1"
      },
      "source": [
        "Теперь нужно поработать с target-меткой. Посмотрим, какие конкретно значения в ней лежат"
      ]
    },
    {
      "cell_type": "code",
      "execution_count": 63,
      "id": "1e3b2770",
      "metadata": {
        "id": "1e3b2770",
        "colab": {
          "base_uri": "https://localhost:8080/"
        },
        "outputId": "fe5d23de-dfca-4b51-cbf5-feb7ebe5a2b8"
      },
      "outputs": [
        {
          "output_type": "execute_result",
          "data": {
            "text/plain": [
              "array(['зачет', '4', '5', '3', 'осв', '2', 'незач', 'неявка'],\n",
              "      dtype=object)"
            ]
          },
          "metadata": {},
          "execution_count": 63
        }
      ],
      "source": [
        "comp_marks.reset_index(inplace=True)\n",
        "comp_marks['MARK'].unique()"
      ]
    },
    {
      "cell_type": "markdown",
      "id": "6b7ce0e9",
      "metadata": {
        "id": "6b7ce0e9"
      },
      "source": [
        "Удалим строки со значением 'осв', т.к. они не говорят о наличии или отсутствии задолженности. Как правило, в вузах в таких случаях дают дополнительную попытку"
      ]
    },
    {
      "cell_type": "code",
      "execution_count": 64,
      "id": "fdd19e1d",
      "metadata": {
        "id": "fdd19e1d"
      },
      "outputs": [],
      "source": [
        "comp_marks = comp_marks[comp_marks['MARK'] != 'осв']"
      ]
    },
    {
      "cell_type": "markdown",
      "id": "d06968c7",
      "metadata": {
        "id": "d06968c7"
      },
      "source": [
        "Преобразуем столбец MARK"
      ]
    },
    {
      "cell_type": "code",
      "execution_count": 65,
      "id": "c5134878",
      "metadata": {
        "id": "c5134878",
        "colab": {
          "base_uri": "https://localhost:8080/"
        },
        "outputId": "1978d770-d7a1-477d-f44c-c78f25d4a1fb"
      },
      "outputs": [
        {
          "output_type": "stream",
          "name": "stderr",
          "text": [
            "<ipython-input-65-d982b895eb1b>:1: SettingWithCopyWarning: \n",
            "A value is trying to be set on a copy of a slice from a DataFrame.\n",
            "Try using .loc[row_indexer,col_indexer] = value instead\n",
            "\n",
            "See the caveats in the documentation: https://pandas.pydata.org/pandas-docs/stable/user_guide/indexing.html#returning-a-view-versus-a-copy\n",
            "  comp_marks['MARK'] =comp_marks['MARK'].apply(lambda x:\n",
            "/usr/local/lib/python3.8/dist-packages/pandas/core/frame.py:5039: SettingWithCopyWarning: \n",
            "A value is trying to be set on a copy of a slice from a DataFrame\n",
            "\n",
            "See the caveats in the documentation: https://pandas.pydata.org/pandas-docs/stable/user_guide/indexing.html#returning-a-view-versus-a-copy\n",
            "  return super().rename(\n"
          ]
        }
      ],
      "source": [
        "comp_marks['MARK'] =comp_marks['MARK'].apply(lambda x:\n",
        "                                             1 if x in [2, 'незач', 'неявка'] else 0)\n",
        "comp_marks.rename(columns={\"MARK\": \"DEBT\"}, inplace=True)"
      ]
    },
    {
      "cell_type": "code",
      "execution_count": 66,
      "id": "fe550448",
      "metadata": {
        "id": "fe550448",
        "colab": {
          "base_uri": "https://localhost:8080/"
        },
        "outputId": "ef357c06-ed3c-4d49-8f3a-01af49d3795e"
      },
      "outputs": [
        {
          "output_type": "execute_result",
          "data": {
            "text/plain": [
              "array([0, 1])"
            ]
          },
          "metadata": {},
          "execution_count": 66
        }
      ],
      "source": [
        "comp_marks['DEBT'].unique()"
      ]
    },
    {
      "cell_type": "code",
      "execution_count": 67,
      "id": "8691f738",
      "metadata": {
        "id": "8691f738",
        "colab": {
          "base_uri": "https://localhost:8080/",
          "height": 317
        },
        "outputId": "b95287a4-c7c8-4de7-fcec-3b98ae79b2c5"
      },
      "outputs": [
        {
          "output_type": "execute_result",
          "data": {
            "text/plain": [
              "               ISU  ST_YEAR  SEMESTER        TYPE_NAME               DISC_ID  \\\n",
              "0  999504425170639     2018         1            Зачет   1447999327144393299   \n",
              "1  999504425170639     2018         1            Зачет   1601392918367593206   \n",
              "2  999504425170639     2018         1            Зачет   7835846297793492094   \n",
              "3  999504425170639     2018         1            Зачет   9028324525774925341   \n",
              "4  999504425170639     2018         1  Курсовой проект  15184687608032834671   \n",
              "\n",
              "   DEBT  MAIN_PLAN_5283359639739198  MAIN_PLAN_146705075719526806  \\\n",
              "0     0                           0                             0   \n",
              "1     0                           0                             0   \n",
              "2     0                           0                             0   \n",
              "3     0                           0                             0   \n",
              "4     0                           0                             0   \n",
              "\n",
              "   MAIN_PLAN_268128140399877465  MAIN_PLAN_552722027248308867  ...  \\\n",
              "0                             0                             0  ...   \n",
              "1                             0                             0  ...   \n",
              "2                             0                             0  ...   \n",
              "3                             0                             0  ...   \n",
              "4                             0                             0  ...   \n",
              "\n",
              "   DISC_DEP_12719755822715044906  DISC_DEP_12779834774062657273  \\\n",
              "0                              0                              0   \n",
              "1                              0                              0   \n",
              "2                              0                              0   \n",
              "3                              0                              0   \n",
              "4                              0                              1   \n",
              "\n",
              "   DISC_DEP_12795149246808839444  DISC_DEP_12866670834530293829  \\\n",
              "0                              0                              0   \n",
              "1                              0                              0   \n",
              "2                              0                              0   \n",
              "3                              0                              0   \n",
              "4                              0                              0   \n",
              "\n",
              "   DISC_DEP_12896073176567118977  DISC_DEP_13705271043836613455  \\\n",
              "0                              0                              0   \n",
              "1                              0                              0   \n",
              "2                              0                              0   \n",
              "3                              0                              0   \n",
              "4                              0                              0   \n",
              "\n",
              "   DISC_DEP_16131140458546037814  DISC_DEP_16828277449727897492  \\\n",
              "0                              0                              1   \n",
              "1                              0                              0   \n",
              "2                              0                              0   \n",
              "3                              0                              0   \n",
              "4                              0                              0   \n",
              "\n",
              "   DISC_DEP_17522523368314118110  DISC_DEP_18446744073709551615  \n",
              "0                              0                              0  \n",
              "1                              0                              0  \n",
              "2                              0                              0  \n",
              "3                              0                              0  \n",
              "4                              0                              0  \n",
              "\n",
              "[5 rows x 880 columns]"
            ],
            "text/html": [
              "\n",
              "  <div id=\"df-a7e0e69b-9612-4119-a5df-01d56616bc0c\">\n",
              "    <div class=\"colab-df-container\">\n",
              "      <div>\n",
              "<style scoped>\n",
              "    .dataframe tbody tr th:only-of-type {\n",
              "        vertical-align: middle;\n",
              "    }\n",
              "\n",
              "    .dataframe tbody tr th {\n",
              "        vertical-align: top;\n",
              "    }\n",
              "\n",
              "    .dataframe thead th {\n",
              "        text-align: right;\n",
              "    }\n",
              "</style>\n",
              "<table border=\"1\" class=\"dataframe\">\n",
              "  <thead>\n",
              "    <tr style=\"text-align: right;\">\n",
              "      <th></th>\n",
              "      <th>ISU</th>\n",
              "      <th>ST_YEAR</th>\n",
              "      <th>SEMESTER</th>\n",
              "      <th>TYPE_NAME</th>\n",
              "      <th>DISC_ID</th>\n",
              "      <th>DEBT</th>\n",
              "      <th>MAIN_PLAN_5283359639739198</th>\n",
              "      <th>MAIN_PLAN_146705075719526806</th>\n",
              "      <th>MAIN_PLAN_268128140399877465</th>\n",
              "      <th>MAIN_PLAN_552722027248308867</th>\n",
              "      <th>...</th>\n",
              "      <th>DISC_DEP_12719755822715044906</th>\n",
              "      <th>DISC_DEP_12779834774062657273</th>\n",
              "      <th>DISC_DEP_12795149246808839444</th>\n",
              "      <th>DISC_DEP_12866670834530293829</th>\n",
              "      <th>DISC_DEP_12896073176567118977</th>\n",
              "      <th>DISC_DEP_13705271043836613455</th>\n",
              "      <th>DISC_DEP_16131140458546037814</th>\n",
              "      <th>DISC_DEP_16828277449727897492</th>\n",
              "      <th>DISC_DEP_17522523368314118110</th>\n",
              "      <th>DISC_DEP_18446744073709551615</th>\n",
              "    </tr>\n",
              "  </thead>\n",
              "  <tbody>\n",
              "    <tr>\n",
              "      <th>0</th>\n",
              "      <td>999504425170639</td>\n",
              "      <td>2018</td>\n",
              "      <td>1</td>\n",
              "      <td>Зачет</td>\n",
              "      <td>1447999327144393299</td>\n",
              "      <td>0</td>\n",
              "      <td>0</td>\n",
              "      <td>0</td>\n",
              "      <td>0</td>\n",
              "      <td>0</td>\n",
              "      <td>...</td>\n",
              "      <td>0</td>\n",
              "      <td>0</td>\n",
              "      <td>0</td>\n",
              "      <td>0</td>\n",
              "      <td>0</td>\n",
              "      <td>0</td>\n",
              "      <td>0</td>\n",
              "      <td>1</td>\n",
              "      <td>0</td>\n",
              "      <td>0</td>\n",
              "    </tr>\n",
              "    <tr>\n",
              "      <th>1</th>\n",
              "      <td>999504425170639</td>\n",
              "      <td>2018</td>\n",
              "      <td>1</td>\n",
              "      <td>Зачет</td>\n",
              "      <td>1601392918367593206</td>\n",
              "      <td>0</td>\n",
              "      <td>0</td>\n",
              "      <td>0</td>\n",
              "      <td>0</td>\n",
              "      <td>0</td>\n",
              "      <td>...</td>\n",
              "      <td>0</td>\n",
              "      <td>0</td>\n",
              "      <td>0</td>\n",
              "      <td>0</td>\n",
              "      <td>0</td>\n",
              "      <td>0</td>\n",
              "      <td>0</td>\n",
              "      <td>0</td>\n",
              "      <td>0</td>\n",
              "      <td>0</td>\n",
              "    </tr>\n",
              "    <tr>\n",
              "      <th>2</th>\n",
              "      <td>999504425170639</td>\n",
              "      <td>2018</td>\n",
              "      <td>1</td>\n",
              "      <td>Зачет</td>\n",
              "      <td>7835846297793492094</td>\n",
              "      <td>0</td>\n",
              "      <td>0</td>\n",
              "      <td>0</td>\n",
              "      <td>0</td>\n",
              "      <td>0</td>\n",
              "      <td>...</td>\n",
              "      <td>0</td>\n",
              "      <td>0</td>\n",
              "      <td>0</td>\n",
              "      <td>0</td>\n",
              "      <td>0</td>\n",
              "      <td>0</td>\n",
              "      <td>0</td>\n",
              "      <td>0</td>\n",
              "      <td>0</td>\n",
              "      <td>0</td>\n",
              "    </tr>\n",
              "    <tr>\n",
              "      <th>3</th>\n",
              "      <td>999504425170639</td>\n",
              "      <td>2018</td>\n",
              "      <td>1</td>\n",
              "      <td>Зачет</td>\n",
              "      <td>9028324525774925341</td>\n",
              "      <td>0</td>\n",
              "      <td>0</td>\n",
              "      <td>0</td>\n",
              "      <td>0</td>\n",
              "      <td>0</td>\n",
              "      <td>...</td>\n",
              "      <td>0</td>\n",
              "      <td>0</td>\n",
              "      <td>0</td>\n",
              "      <td>0</td>\n",
              "      <td>0</td>\n",
              "      <td>0</td>\n",
              "      <td>0</td>\n",
              "      <td>0</td>\n",
              "      <td>0</td>\n",
              "      <td>0</td>\n",
              "    </tr>\n",
              "    <tr>\n",
              "      <th>4</th>\n",
              "      <td>999504425170639</td>\n",
              "      <td>2018</td>\n",
              "      <td>1</td>\n",
              "      <td>Курсовой проект</td>\n",
              "      <td>15184687608032834671</td>\n",
              "      <td>0</td>\n",
              "      <td>0</td>\n",
              "      <td>0</td>\n",
              "      <td>0</td>\n",
              "      <td>0</td>\n",
              "      <td>...</td>\n",
              "      <td>0</td>\n",
              "      <td>1</td>\n",
              "      <td>0</td>\n",
              "      <td>0</td>\n",
              "      <td>0</td>\n",
              "      <td>0</td>\n",
              "      <td>0</td>\n",
              "      <td>0</td>\n",
              "      <td>0</td>\n",
              "      <td>0</td>\n",
              "    </tr>\n",
              "  </tbody>\n",
              "</table>\n",
              "<p>5 rows × 880 columns</p>\n",
              "</div>\n",
              "      <button class=\"colab-df-convert\" onclick=\"convertToInteractive('df-a7e0e69b-9612-4119-a5df-01d56616bc0c')\"\n",
              "              title=\"Convert this dataframe to an interactive table.\"\n",
              "              style=\"display:none;\">\n",
              "        \n",
              "  <svg xmlns=\"http://www.w3.org/2000/svg\" height=\"24px\"viewBox=\"0 0 24 24\"\n",
              "       width=\"24px\">\n",
              "    <path d=\"M0 0h24v24H0V0z\" fill=\"none\"/>\n",
              "    <path d=\"M18.56 5.44l.94 2.06.94-2.06 2.06-.94-2.06-.94-.94-2.06-.94 2.06-2.06.94zm-11 1L8.5 8.5l.94-2.06 2.06-.94-2.06-.94L8.5 2.5l-.94 2.06-2.06.94zm10 10l.94 2.06.94-2.06 2.06-.94-2.06-.94-.94-2.06-.94 2.06-2.06.94z\"/><path d=\"M17.41 7.96l-1.37-1.37c-.4-.4-.92-.59-1.43-.59-.52 0-1.04.2-1.43.59L10.3 9.45l-7.72 7.72c-.78.78-.78 2.05 0 2.83L4 21.41c.39.39.9.59 1.41.59.51 0 1.02-.2 1.41-.59l7.78-7.78 2.81-2.81c.8-.78.8-2.07 0-2.86zM5.41 20L4 18.59l7.72-7.72 1.47 1.35L5.41 20z\"/>\n",
              "  </svg>\n",
              "      </button>\n",
              "      \n",
              "  <style>\n",
              "    .colab-df-container {\n",
              "      display:flex;\n",
              "      flex-wrap:wrap;\n",
              "      gap: 12px;\n",
              "    }\n",
              "\n",
              "    .colab-df-convert {\n",
              "      background-color: #E8F0FE;\n",
              "      border: none;\n",
              "      border-radius: 50%;\n",
              "      cursor: pointer;\n",
              "      display: none;\n",
              "      fill: #1967D2;\n",
              "      height: 32px;\n",
              "      padding: 0 0 0 0;\n",
              "      width: 32px;\n",
              "    }\n",
              "\n",
              "    .colab-df-convert:hover {\n",
              "      background-color: #E2EBFA;\n",
              "      box-shadow: 0px 1px 2px rgba(60, 64, 67, 0.3), 0px 1px 3px 1px rgba(60, 64, 67, 0.15);\n",
              "      fill: #174EA6;\n",
              "    }\n",
              "\n",
              "    [theme=dark] .colab-df-convert {\n",
              "      background-color: #3B4455;\n",
              "      fill: #D2E3FC;\n",
              "    }\n",
              "\n",
              "    [theme=dark] .colab-df-convert:hover {\n",
              "      background-color: #434B5C;\n",
              "      box-shadow: 0px 1px 3px 1px rgba(0, 0, 0, 0.15);\n",
              "      filter: drop-shadow(0px 1px 2px rgba(0, 0, 0, 0.3));\n",
              "      fill: #FFFFFF;\n",
              "    }\n",
              "  </style>\n",
              "\n",
              "      <script>\n",
              "        const buttonEl =\n",
              "          document.querySelector('#df-a7e0e69b-9612-4119-a5df-01d56616bc0c button.colab-df-convert');\n",
              "        buttonEl.style.display =\n",
              "          google.colab.kernel.accessAllowed ? 'block' : 'none';\n",
              "\n",
              "        async function convertToInteractive(key) {\n",
              "          const element = document.querySelector('#df-a7e0e69b-9612-4119-a5df-01d56616bc0c');\n",
              "          const dataTable =\n",
              "            await google.colab.kernel.invokeFunction('convertToInteractive',\n",
              "                                                     [key], {});\n",
              "          if (!dataTable) return;\n",
              "\n",
              "          const docLinkHtml = 'Like what you see? Visit the ' +\n",
              "            '<a target=\"_blank\" href=https://colab.research.google.com/notebooks/data_table.ipynb>data table notebook</a>'\n",
              "            + ' to learn more about interactive tables.';\n",
              "          element.innerHTML = '';\n",
              "          dataTable['output_type'] = 'display_data';\n",
              "          await google.colab.output.renderOutput(dataTable, element);\n",
              "          const docLink = document.createElement('div');\n",
              "          docLink.innerHTML = docLinkHtml;\n",
              "          element.appendChild(docLink);\n",
              "        }\n",
              "      </script>\n",
              "    </div>\n",
              "  </div>\n",
              "  "
            ]
          },
          "metadata": {},
          "execution_count": 67
        }
      ],
      "source": [
        "comp_marks.head()"
      ]
    },
    {
      "cell_type": "markdown",
      "id": "7b33a199",
      "metadata": {
        "id": "7b33a199"
      },
      "source": [
        "Присоединим comp_marks к df"
      ]
    },
    {
      "cell_type": "code",
      "execution_count": 68,
      "id": "348ab2d3",
      "metadata": {
        "id": "348ab2d3",
        "colab": {
          "base_uri": "https://localhost:8080/",
          "height": 300
        },
        "outputId": "580e9050-af75-4211-9e4b-6fb0a3cbcd12"
      },
      "outputs": [
        {
          "output_type": "execute_result",
          "data": {
            "text/plain": [
              "                    ISU  ST_YEAR  SEMESTER               DISC_ID TYPE_NAME  \\\n",
              "0  17623928044460629977     2020         1  10502311854018326223     Зачет   \n",
              "1  17623928044460629977     2020         1   1601392918367593206     Зачет   \n",
              "2  17623928044460629977     2020         1   9559803959325174929     Зачет   \n",
              "3  17623928044460629977     2020         1   8955667882044263414     Зачет   \n",
              "4  17623928044460629977     2020         1  17741967398854095262   Экзамен   \n",
              "\n",
              "   DEBT GENDER           CITIZENSHIP EXAM_TYPE     EXAM_SUBJECT_1  ...  \\\n",
              "0     0      М  15601729049989747827       ЕГЭ  70786669040476600  ...   \n",
              "1     0      М  15601729049989747827       ЕГЭ  70786669040476600  ...   \n",
              "2     0      М  15601729049989747827       ЕГЭ  70786669040476600  ...   \n",
              "3     0      М  15601729049989747827       ЕГЭ  70786669040476600  ...   \n",
              "4     0      М  15601729049989747827       ЕГЭ  70786669040476600  ...   \n",
              "\n",
              "   DISC_DEP_12719755822715044906  DISC_DEP_12779834774062657273  \\\n",
              "0                              0                              0   \n",
              "1                              0                              0   \n",
              "2                              0                              0   \n",
              "3                              0                              0   \n",
              "4                              0                              0   \n",
              "\n",
              "   DISC_DEP_12795149246808839444  DISC_DEP_12866670834530293829  \\\n",
              "0                              0                              0   \n",
              "1                              0                              0   \n",
              "2                              0                              0   \n",
              "3                              0                              0   \n",
              "4                              0                              0   \n",
              "\n",
              "   DISC_DEP_12896073176567118977 DISC_DEP_13705271043836613455  \\\n",
              "0                              0                             0   \n",
              "1                              0                             0   \n",
              "2                              0                             0   \n",
              "3                              0                             0   \n",
              "4                              0                             0   \n",
              "\n",
              "   DISC_DEP_16131140458546037814  DISC_DEP_16828277449727897492  \\\n",
              "0                              0                              0   \n",
              "1                              0                              0   \n",
              "2                              0                              0   \n",
              "3                              0                              0   \n",
              "4                              0                              0   \n",
              "\n",
              "   DISC_DEP_17522523368314118110  DISC_DEP_18446744073709551615  \n",
              "0                              0                              0  \n",
              "1                              0                              0  \n",
              "2                              0                              0  \n",
              "3                              0                              0  \n",
              "4                              0                              0  \n",
              "\n",
              "[5 rows x 891 columns]"
            ],
            "text/html": [
              "\n",
              "  <div id=\"df-11a67cb2-a8c3-48c5-8d49-f9e4e93734ad\">\n",
              "    <div class=\"colab-df-container\">\n",
              "      <div>\n",
              "<style scoped>\n",
              "    .dataframe tbody tr th:only-of-type {\n",
              "        vertical-align: middle;\n",
              "    }\n",
              "\n",
              "    .dataframe tbody tr th {\n",
              "        vertical-align: top;\n",
              "    }\n",
              "\n",
              "    .dataframe thead th {\n",
              "        text-align: right;\n",
              "    }\n",
              "</style>\n",
              "<table border=\"1\" class=\"dataframe\">\n",
              "  <thead>\n",
              "    <tr style=\"text-align: right;\">\n",
              "      <th></th>\n",
              "      <th>ISU</th>\n",
              "      <th>ST_YEAR</th>\n",
              "      <th>SEMESTER</th>\n",
              "      <th>DISC_ID</th>\n",
              "      <th>TYPE_NAME</th>\n",
              "      <th>DEBT</th>\n",
              "      <th>GENDER</th>\n",
              "      <th>CITIZENSHIP</th>\n",
              "      <th>EXAM_TYPE</th>\n",
              "      <th>EXAM_SUBJECT_1</th>\n",
              "      <th>...</th>\n",
              "      <th>DISC_DEP_12719755822715044906</th>\n",
              "      <th>DISC_DEP_12779834774062657273</th>\n",
              "      <th>DISC_DEP_12795149246808839444</th>\n",
              "      <th>DISC_DEP_12866670834530293829</th>\n",
              "      <th>DISC_DEP_12896073176567118977</th>\n",
              "      <th>DISC_DEP_13705271043836613455</th>\n",
              "      <th>DISC_DEP_16131140458546037814</th>\n",
              "      <th>DISC_DEP_16828277449727897492</th>\n",
              "      <th>DISC_DEP_17522523368314118110</th>\n",
              "      <th>DISC_DEP_18446744073709551615</th>\n",
              "    </tr>\n",
              "  </thead>\n",
              "  <tbody>\n",
              "    <tr>\n",
              "      <th>0</th>\n",
              "      <td>17623928044460629977</td>\n",
              "      <td>2020</td>\n",
              "      <td>1</td>\n",
              "      <td>10502311854018326223</td>\n",
              "      <td>Зачет</td>\n",
              "      <td>0</td>\n",
              "      <td>М</td>\n",
              "      <td>15601729049989747827</td>\n",
              "      <td>ЕГЭ</td>\n",
              "      <td>70786669040476600</td>\n",
              "      <td>...</td>\n",
              "      <td>0</td>\n",
              "      <td>0</td>\n",
              "      <td>0</td>\n",
              "      <td>0</td>\n",
              "      <td>0</td>\n",
              "      <td>0</td>\n",
              "      <td>0</td>\n",
              "      <td>0</td>\n",
              "      <td>0</td>\n",
              "      <td>0</td>\n",
              "    </tr>\n",
              "    <tr>\n",
              "      <th>1</th>\n",
              "      <td>17623928044460629977</td>\n",
              "      <td>2020</td>\n",
              "      <td>1</td>\n",
              "      <td>1601392918367593206</td>\n",
              "      <td>Зачет</td>\n",
              "      <td>0</td>\n",
              "      <td>М</td>\n",
              "      <td>15601729049989747827</td>\n",
              "      <td>ЕГЭ</td>\n",
              "      <td>70786669040476600</td>\n",
              "      <td>...</td>\n",
              "      <td>0</td>\n",
              "      <td>0</td>\n",
              "      <td>0</td>\n",
              "      <td>0</td>\n",
              "      <td>0</td>\n",
              "      <td>0</td>\n",
              "      <td>0</td>\n",
              "      <td>0</td>\n",
              "      <td>0</td>\n",
              "      <td>0</td>\n",
              "    </tr>\n",
              "    <tr>\n",
              "      <th>2</th>\n",
              "      <td>17623928044460629977</td>\n",
              "      <td>2020</td>\n",
              "      <td>1</td>\n",
              "      <td>9559803959325174929</td>\n",
              "      <td>Зачет</td>\n",
              "      <td>0</td>\n",
              "      <td>М</td>\n",
              "      <td>15601729049989747827</td>\n",
              "      <td>ЕГЭ</td>\n",
              "      <td>70786669040476600</td>\n",
              "      <td>...</td>\n",
              "      <td>0</td>\n",
              "      <td>0</td>\n",
              "      <td>0</td>\n",
              "      <td>0</td>\n",
              "      <td>0</td>\n",
              "      <td>0</td>\n",
              "      <td>0</td>\n",
              "      <td>0</td>\n",
              "      <td>0</td>\n",
              "      <td>0</td>\n",
              "    </tr>\n",
              "    <tr>\n",
              "      <th>3</th>\n",
              "      <td>17623928044460629977</td>\n",
              "      <td>2020</td>\n",
              "      <td>1</td>\n",
              "      <td>8955667882044263414</td>\n",
              "      <td>Зачет</td>\n",
              "      <td>0</td>\n",
              "      <td>М</td>\n",
              "      <td>15601729049989747827</td>\n",
              "      <td>ЕГЭ</td>\n",
              "      <td>70786669040476600</td>\n",
              "      <td>...</td>\n",
              "      <td>0</td>\n",
              "      <td>0</td>\n",
              "      <td>0</td>\n",
              "      <td>0</td>\n",
              "      <td>0</td>\n",
              "      <td>0</td>\n",
              "      <td>0</td>\n",
              "      <td>0</td>\n",
              "      <td>0</td>\n",
              "      <td>0</td>\n",
              "    </tr>\n",
              "    <tr>\n",
              "      <th>4</th>\n",
              "      <td>17623928044460629977</td>\n",
              "      <td>2020</td>\n",
              "      <td>1</td>\n",
              "      <td>17741967398854095262</td>\n",
              "      <td>Экзамен</td>\n",
              "      <td>0</td>\n",
              "      <td>М</td>\n",
              "      <td>15601729049989747827</td>\n",
              "      <td>ЕГЭ</td>\n",
              "      <td>70786669040476600</td>\n",
              "      <td>...</td>\n",
              "      <td>0</td>\n",
              "      <td>0</td>\n",
              "      <td>0</td>\n",
              "      <td>0</td>\n",
              "      <td>0</td>\n",
              "      <td>0</td>\n",
              "      <td>0</td>\n",
              "      <td>0</td>\n",
              "      <td>0</td>\n",
              "      <td>0</td>\n",
              "    </tr>\n",
              "  </tbody>\n",
              "</table>\n",
              "<p>5 rows × 891 columns</p>\n",
              "</div>\n",
              "      <button class=\"colab-df-convert\" onclick=\"convertToInteractive('df-11a67cb2-a8c3-48c5-8d49-f9e4e93734ad')\"\n",
              "              title=\"Convert this dataframe to an interactive table.\"\n",
              "              style=\"display:none;\">\n",
              "        \n",
              "  <svg xmlns=\"http://www.w3.org/2000/svg\" height=\"24px\"viewBox=\"0 0 24 24\"\n",
              "       width=\"24px\">\n",
              "    <path d=\"M0 0h24v24H0V0z\" fill=\"none\"/>\n",
              "    <path d=\"M18.56 5.44l.94 2.06.94-2.06 2.06-.94-2.06-.94-.94-2.06-.94 2.06-2.06.94zm-11 1L8.5 8.5l.94-2.06 2.06-.94-2.06-.94L8.5 2.5l-.94 2.06-2.06.94zm10 10l.94 2.06.94-2.06 2.06-.94-2.06-.94-.94-2.06-.94 2.06-2.06.94z\"/><path d=\"M17.41 7.96l-1.37-1.37c-.4-.4-.92-.59-1.43-.59-.52 0-1.04.2-1.43.59L10.3 9.45l-7.72 7.72c-.78.78-.78 2.05 0 2.83L4 21.41c.39.39.9.59 1.41.59.51 0 1.02-.2 1.41-.59l7.78-7.78 2.81-2.81c.8-.78.8-2.07 0-2.86zM5.41 20L4 18.59l7.72-7.72 1.47 1.35L5.41 20z\"/>\n",
              "  </svg>\n",
              "      </button>\n",
              "      \n",
              "  <style>\n",
              "    .colab-df-container {\n",
              "      display:flex;\n",
              "      flex-wrap:wrap;\n",
              "      gap: 12px;\n",
              "    }\n",
              "\n",
              "    .colab-df-convert {\n",
              "      background-color: #E8F0FE;\n",
              "      border: none;\n",
              "      border-radius: 50%;\n",
              "      cursor: pointer;\n",
              "      display: none;\n",
              "      fill: #1967D2;\n",
              "      height: 32px;\n",
              "      padding: 0 0 0 0;\n",
              "      width: 32px;\n",
              "    }\n",
              "\n",
              "    .colab-df-convert:hover {\n",
              "      background-color: #E2EBFA;\n",
              "      box-shadow: 0px 1px 2px rgba(60, 64, 67, 0.3), 0px 1px 3px 1px rgba(60, 64, 67, 0.15);\n",
              "      fill: #174EA6;\n",
              "    }\n",
              "\n",
              "    [theme=dark] .colab-df-convert {\n",
              "      background-color: #3B4455;\n",
              "      fill: #D2E3FC;\n",
              "    }\n",
              "\n",
              "    [theme=dark] .colab-df-convert:hover {\n",
              "      background-color: #434B5C;\n",
              "      box-shadow: 0px 1px 3px 1px rgba(0, 0, 0, 0.15);\n",
              "      filter: drop-shadow(0px 1px 2px rgba(0, 0, 0, 0.3));\n",
              "      fill: #FFFFFF;\n",
              "    }\n",
              "  </style>\n",
              "\n",
              "      <script>\n",
              "        const buttonEl =\n",
              "          document.querySelector('#df-11a67cb2-a8c3-48c5-8d49-f9e4e93734ad button.colab-df-convert');\n",
              "        buttonEl.style.display =\n",
              "          google.colab.kernel.accessAllowed ? 'block' : 'none';\n",
              "\n",
              "        async function convertToInteractive(key) {\n",
              "          const element = document.querySelector('#df-11a67cb2-a8c3-48c5-8d49-f9e4e93734ad');\n",
              "          const dataTable =\n",
              "            await google.colab.kernel.invokeFunction('convertToInteractive',\n",
              "                                                     [key], {});\n",
              "          if (!dataTable) return;\n",
              "\n",
              "          const docLinkHtml = 'Like what you see? Visit the ' +\n",
              "            '<a target=\"_blank\" href=https://colab.research.google.com/notebooks/data_table.ipynb>data table notebook</a>'\n",
              "            + ' to learn more about interactive tables.';\n",
              "          element.innerHTML = '';\n",
              "          dataTable['output_type'] = 'display_data';\n",
              "          await google.colab.output.renderOutput(dataTable, element);\n",
              "          const docLink = document.createElement('div');\n",
              "          docLink.innerHTML = docLinkHtml;\n",
              "          element.appendChild(docLink);\n",
              "        }\n",
              "      </script>\n",
              "    </div>\n",
              "  </div>\n",
              "  "
            ]
          },
          "metadata": {},
          "execution_count": 68
        }
      ],
      "source": [
        "df = pd.merge(df, comp_marks, on=['ISU', 'ST_YEAR', 'SEMESTER', 'TYPE_NAME', 'DISC_ID', 'DEBT'])\n",
        "df.head()"
      ]
    },
    {
      "cell_type": "markdown",
      "id": "03afd4c6",
      "metadata": {
        "id": "03afd4c6"
      },
      "source": [
        " # Знакомство с датафреймом + преобразования признаков"
      ]
    },
    {
      "cell_type": "markdown",
      "id": "eae196f0",
      "metadata": {
        "id": "eae196f0"
      },
      "source": [
        "## Основная информация"
      ]
    },
    {
      "cell_type": "markdown",
      "id": "3840eb03",
      "metadata": {
        "id": "3840eb03"
      },
      "source": [
        "Размер датафрейма"
      ]
    },
    {
      "cell_type": "code",
      "execution_count": 69,
      "id": "4a032022",
      "metadata": {
        "id": "4a032022",
        "colab": {
          "base_uri": "https://localhost:8080/"
        },
        "outputId": "d9be0544-f513-4e80-b391-fcdd69a11128"
      },
      "outputs": [
        {
          "output_type": "execute_result",
          "data": {
            "text/plain": [
              "(170890, 891)"
            ]
          },
          "metadata": {},
          "execution_count": 69
        }
      ],
      "source": [
        "df.shape"
      ]
    },
    {
      "cell_type": "markdown",
      "id": "40ab56d4",
      "metadata": {
        "id": "40ab56d4"
      },
      "source": [
        "Общая сводка"
      ]
    },
    {
      "cell_type": "code",
      "execution_count": 70,
      "id": "28d1bdf5",
      "metadata": {
        "id": "28d1bdf5",
        "colab": {
          "base_uri": "https://localhost:8080/"
        },
        "outputId": "fb0cac5f-69ac-4d18-d72b-6396af95c385"
      },
      "outputs": [
        {
          "output_type": "stream",
          "name": "stdout",
          "text": [
            "<class 'pandas.core.frame.DataFrame'>\n",
            "Int64Index: 170890 entries, 0 to 170889\n",
            "Columns: 891 entries, ISU to DISC_DEP_18446744073709551615\n",
            "dtypes: float64(3), int64(877), object(4), uint64(7)\n",
            "memory usage: 1.1+ GB\n"
          ]
        }
      ],
      "source": [
        "df.info()"
      ]
    },
    {
      "cell_type": "markdown",
      "id": "b6d18bf4",
      "metadata": {
        "id": "b6d18bf4"
      },
      "source": [
        "## Заполнение пропусков"
      ]
    },
    {
      "cell_type": "markdown",
      "id": "aef8dbb9",
      "metadata": {
        "id": "aef8dbb9"
      },
      "source": [
        "Помним, что у нас были пропуски в столбцах ADMITTED_EXAM. Это столбцы типа float. Заметим, что их значения - баллы за егэ, которые, вообще говоря, не могут быть дробными. Поэтому возьмём в качестве заполнителя медиану по всем значениям."
      ]
    },
    {
      "cell_type": "code",
      "execution_count": 71,
      "id": "54122f1c",
      "metadata": {
        "id": "54122f1c"
      },
      "outputs": [],
      "source": [
        "df.ADMITTED_EXAM_1  = df.ADMITTED_EXAM_1 .fillna(df.ADMITTED_EXAM_1.median())\n",
        "df.ADMITTED_EXAM_2  = df.ADMITTED_EXAM_2.fillna(df.ADMITTED_EXAM_2.median())\n",
        "df.ADMITTED_EXAM_3  = df.ADMITTED_EXAM_3 .fillna(df.ADMITTED_EXAM_3.median())"
      ]
    },
    {
      "cell_type": "markdown",
      "id": "bccfd4e2",
      "metadata": {
        "id": "bccfd4e2"
      },
      "source": [
        "## Изменение типов столбцов"
      ]
    },
    {
      "cell_type": "markdown",
      "id": "4ba337b1",
      "metadata": {
        "id": "4ba337b1"
      },
      "source": [
        "Признаки DISC_ID, TYPE_NAME, GENDER, CITIZENSHIP, EXAM_TYPE, EXAM_SUBJECT_1, EXAM_SUBJECT_2, EXAM_SUBJECT_3, ADMITTED_SUBJECT_PRIZE_LEVEL, REGION_ID являются категориальными. Приведем их к категориальному типу"
      ]
    },
    {
      "cell_type": "code",
      "execution_count": 72,
      "id": "8b911334",
      "metadata": {
        "id": "8b911334"
      },
      "outputs": [],
      "source": [
        "for col in ['DISC_ID', 'TYPE_NAME', 'GENDER', 'CITIZENSHIP', \n",
        "            'EXAM_TYPE', 'EXAM_SUBJECT_1', 'EXAM_SUBJECT_2', \n",
        "            'EXAM_SUBJECT_3', 'ADMITTED_SUBJECT_PRIZE_LEVEL', 'REGION_ID']:\n",
        "    \n",
        "    df[col] = df[col].astype('category')"
      ]
    },
    {
      "cell_type": "markdown",
      "id": "3a8b9c55",
      "metadata": {
        "id": "3a8b9c55"
      },
      "source": [
        "Посмотрим описательные статистики по float столбцам"
      ]
    },
    {
      "cell_type": "code",
      "execution_count": 73,
      "id": "009d32f3",
      "metadata": {
        "id": "009d32f3",
        "colab": {
          "base_uri": "https://localhost:8080/",
          "height": 300
        },
        "outputId": "c7339cbf-f17c-4df9-af2f-0d669d8f986a"
      },
      "outputs": [
        {
          "output_type": "execute_result",
          "data": {
            "text/plain": [
              "       ADMITTED_EXAM_1  ADMITTED_EXAM_2  ADMITTED_EXAM_3\n",
              "count    170890.000000    170890.000000    170890.000000\n",
              "mean         80.275341        82.608713        87.204412\n",
              "std           9.437942        15.049345         8.802641\n",
              "min           0.000000         0.000000         0.000000\n",
              "25%          74.000000        79.000000        82.000000\n",
              "50%          80.000000        84.000000        89.000000\n",
              "75%          86.000000        91.000000        94.000000\n",
              "max         100.000000       100.000000       100.000000"
            ],
            "text/html": [
              "\n",
              "  <div id=\"df-4ce7d1ed-a20a-4a31-bf34-561226b5f542\">\n",
              "    <div class=\"colab-df-container\">\n",
              "      <div>\n",
              "<style scoped>\n",
              "    .dataframe tbody tr th:only-of-type {\n",
              "        vertical-align: middle;\n",
              "    }\n",
              "\n",
              "    .dataframe tbody tr th {\n",
              "        vertical-align: top;\n",
              "    }\n",
              "\n",
              "    .dataframe thead th {\n",
              "        text-align: right;\n",
              "    }\n",
              "</style>\n",
              "<table border=\"1\" class=\"dataframe\">\n",
              "  <thead>\n",
              "    <tr style=\"text-align: right;\">\n",
              "      <th></th>\n",
              "      <th>ADMITTED_EXAM_1</th>\n",
              "      <th>ADMITTED_EXAM_2</th>\n",
              "      <th>ADMITTED_EXAM_3</th>\n",
              "    </tr>\n",
              "  </thead>\n",
              "  <tbody>\n",
              "    <tr>\n",
              "      <th>count</th>\n",
              "      <td>170890.000000</td>\n",
              "      <td>170890.000000</td>\n",
              "      <td>170890.000000</td>\n",
              "    </tr>\n",
              "    <tr>\n",
              "      <th>mean</th>\n",
              "      <td>80.275341</td>\n",
              "      <td>82.608713</td>\n",
              "      <td>87.204412</td>\n",
              "    </tr>\n",
              "    <tr>\n",
              "      <th>std</th>\n",
              "      <td>9.437942</td>\n",
              "      <td>15.049345</td>\n",
              "      <td>8.802641</td>\n",
              "    </tr>\n",
              "    <tr>\n",
              "      <th>min</th>\n",
              "      <td>0.000000</td>\n",
              "      <td>0.000000</td>\n",
              "      <td>0.000000</td>\n",
              "    </tr>\n",
              "    <tr>\n",
              "      <th>25%</th>\n",
              "      <td>74.000000</td>\n",
              "      <td>79.000000</td>\n",
              "      <td>82.000000</td>\n",
              "    </tr>\n",
              "    <tr>\n",
              "      <th>50%</th>\n",
              "      <td>80.000000</td>\n",
              "      <td>84.000000</td>\n",
              "      <td>89.000000</td>\n",
              "    </tr>\n",
              "    <tr>\n",
              "      <th>75%</th>\n",
              "      <td>86.000000</td>\n",
              "      <td>91.000000</td>\n",
              "      <td>94.000000</td>\n",
              "    </tr>\n",
              "    <tr>\n",
              "      <th>max</th>\n",
              "      <td>100.000000</td>\n",
              "      <td>100.000000</td>\n",
              "      <td>100.000000</td>\n",
              "    </tr>\n",
              "  </tbody>\n",
              "</table>\n",
              "</div>\n",
              "      <button class=\"colab-df-convert\" onclick=\"convertToInteractive('df-4ce7d1ed-a20a-4a31-bf34-561226b5f542')\"\n",
              "              title=\"Convert this dataframe to an interactive table.\"\n",
              "              style=\"display:none;\">\n",
              "        \n",
              "  <svg xmlns=\"http://www.w3.org/2000/svg\" height=\"24px\"viewBox=\"0 0 24 24\"\n",
              "       width=\"24px\">\n",
              "    <path d=\"M0 0h24v24H0V0z\" fill=\"none\"/>\n",
              "    <path d=\"M18.56 5.44l.94 2.06.94-2.06 2.06-.94-2.06-.94-.94-2.06-.94 2.06-2.06.94zm-11 1L8.5 8.5l.94-2.06 2.06-.94-2.06-.94L8.5 2.5l-.94 2.06-2.06.94zm10 10l.94 2.06.94-2.06 2.06-.94-2.06-.94-.94-2.06-.94 2.06-2.06.94z\"/><path d=\"M17.41 7.96l-1.37-1.37c-.4-.4-.92-.59-1.43-.59-.52 0-1.04.2-1.43.59L10.3 9.45l-7.72 7.72c-.78.78-.78 2.05 0 2.83L4 21.41c.39.39.9.59 1.41.59.51 0 1.02-.2 1.41-.59l7.78-7.78 2.81-2.81c.8-.78.8-2.07 0-2.86zM5.41 20L4 18.59l7.72-7.72 1.47 1.35L5.41 20z\"/>\n",
              "  </svg>\n",
              "      </button>\n",
              "      \n",
              "  <style>\n",
              "    .colab-df-container {\n",
              "      display:flex;\n",
              "      flex-wrap:wrap;\n",
              "      gap: 12px;\n",
              "    }\n",
              "\n",
              "    .colab-df-convert {\n",
              "      background-color: #E8F0FE;\n",
              "      border: none;\n",
              "      border-radius: 50%;\n",
              "      cursor: pointer;\n",
              "      display: none;\n",
              "      fill: #1967D2;\n",
              "      height: 32px;\n",
              "      padding: 0 0 0 0;\n",
              "      width: 32px;\n",
              "    }\n",
              "\n",
              "    .colab-df-convert:hover {\n",
              "      background-color: #E2EBFA;\n",
              "      box-shadow: 0px 1px 2px rgba(60, 64, 67, 0.3), 0px 1px 3px 1px rgba(60, 64, 67, 0.15);\n",
              "      fill: #174EA6;\n",
              "    }\n",
              "\n",
              "    [theme=dark] .colab-df-convert {\n",
              "      background-color: #3B4455;\n",
              "      fill: #D2E3FC;\n",
              "    }\n",
              "\n",
              "    [theme=dark] .colab-df-convert:hover {\n",
              "      background-color: #434B5C;\n",
              "      box-shadow: 0px 1px 3px 1px rgba(0, 0, 0, 0.15);\n",
              "      filter: drop-shadow(0px 1px 2px rgba(0, 0, 0, 0.3));\n",
              "      fill: #FFFFFF;\n",
              "    }\n",
              "  </style>\n",
              "\n",
              "      <script>\n",
              "        const buttonEl =\n",
              "          document.querySelector('#df-4ce7d1ed-a20a-4a31-bf34-561226b5f542 button.colab-df-convert');\n",
              "        buttonEl.style.display =\n",
              "          google.colab.kernel.accessAllowed ? 'block' : 'none';\n",
              "\n",
              "        async function convertToInteractive(key) {\n",
              "          const element = document.querySelector('#df-4ce7d1ed-a20a-4a31-bf34-561226b5f542');\n",
              "          const dataTable =\n",
              "            await google.colab.kernel.invokeFunction('convertToInteractive',\n",
              "                                                     [key], {});\n",
              "          if (!dataTable) return;\n",
              "\n",
              "          const docLinkHtml = 'Like what you see? Visit the ' +\n",
              "            '<a target=\"_blank\" href=https://colab.research.google.com/notebooks/data_table.ipynb>data table notebook</a>'\n",
              "            + ' to learn more about interactive tables.';\n",
              "          element.innerHTML = '';\n",
              "          dataTable['output_type'] = 'display_data';\n",
              "          await google.colab.output.renderOutput(dataTable, element);\n",
              "          const docLink = document.createElement('div');\n",
              "          docLink.innerHTML = docLinkHtml;\n",
              "          element.appendChild(docLink);\n",
              "        }\n",
              "      </script>\n",
              "    </div>\n",
              "  </div>\n",
              "  "
            ]
          },
          "metadata": {},
          "execution_count": 73
        }
      ],
      "source": [
        "df.describe(include=[\"float64\"])"
      ]
    },
    {
      "cell_type": "markdown",
      "id": "9dcd9cc4",
      "metadata": {
        "id": "9dcd9cc4"
      },
      "source": [
        "Посмотрим описательные статистики по category столбцам"
      ]
    },
    {
      "cell_type": "code",
      "execution_count": 74,
      "id": "08e398d2",
      "metadata": {
        "id": "08e398d2",
        "colab": {
          "base_uri": "https://localhost:8080/",
          "height": 175
        },
        "outputId": "0bb57dec-ba81-41a7-f0cb-6630de2dc164"
      },
      "outputs": [
        {
          "output_type": "execute_result",
          "data": {
            "text/plain": [
              "                    DISC_ID TYPE_NAME  GENDER           CITIZENSHIP EXAM_TYPE  \\\n",
              "count                170890    170890  170890                170890    170890   \n",
              "unique                  946         4       2                    11         3   \n",
              "top     9028324525774925341     Зачет       М  15601729049989747827       ЕГЭ   \n",
              "freq                  11209     86996  115644                164710    137305   \n",
              "\n",
              "           EXAM_SUBJECT_1       EXAM_SUBJECT_2       EXAM_SUBJECT_3  \\\n",
              "count              170890               170890               170890   \n",
              "unique                  6                    8                    5   \n",
              "top     70786669040476600  5533732657842394915  8388269026169219461   \n",
              "freq               169444               124988               166176   \n",
              "\n",
              "       ADMITTED_SUBJECT_PRIZE_LEVEL            REGION_ID  \n",
              "count                        170890               170890  \n",
              "unique                            6                   85  \n",
              "top                             ЕГЭ  4877310761925081124  \n",
              "freq                         131980                56395  "
            ],
            "text/html": [
              "\n",
              "  <div id=\"df-2e767f8b-1cc8-4c32-bda2-ae79fca9d9c1\">\n",
              "    <div class=\"colab-df-container\">\n",
              "      <div>\n",
              "<style scoped>\n",
              "    .dataframe tbody tr th:only-of-type {\n",
              "        vertical-align: middle;\n",
              "    }\n",
              "\n",
              "    .dataframe tbody tr th {\n",
              "        vertical-align: top;\n",
              "    }\n",
              "\n",
              "    .dataframe thead th {\n",
              "        text-align: right;\n",
              "    }\n",
              "</style>\n",
              "<table border=\"1\" class=\"dataframe\">\n",
              "  <thead>\n",
              "    <tr style=\"text-align: right;\">\n",
              "      <th></th>\n",
              "      <th>DISC_ID</th>\n",
              "      <th>TYPE_NAME</th>\n",
              "      <th>GENDER</th>\n",
              "      <th>CITIZENSHIP</th>\n",
              "      <th>EXAM_TYPE</th>\n",
              "      <th>EXAM_SUBJECT_1</th>\n",
              "      <th>EXAM_SUBJECT_2</th>\n",
              "      <th>EXAM_SUBJECT_3</th>\n",
              "      <th>ADMITTED_SUBJECT_PRIZE_LEVEL</th>\n",
              "      <th>REGION_ID</th>\n",
              "    </tr>\n",
              "  </thead>\n",
              "  <tbody>\n",
              "    <tr>\n",
              "      <th>count</th>\n",
              "      <td>170890</td>\n",
              "      <td>170890</td>\n",
              "      <td>170890</td>\n",
              "      <td>170890</td>\n",
              "      <td>170890</td>\n",
              "      <td>170890</td>\n",
              "      <td>170890</td>\n",
              "      <td>170890</td>\n",
              "      <td>170890</td>\n",
              "      <td>170890</td>\n",
              "    </tr>\n",
              "    <tr>\n",
              "      <th>unique</th>\n",
              "      <td>946</td>\n",
              "      <td>4</td>\n",
              "      <td>2</td>\n",
              "      <td>11</td>\n",
              "      <td>3</td>\n",
              "      <td>6</td>\n",
              "      <td>8</td>\n",
              "      <td>5</td>\n",
              "      <td>6</td>\n",
              "      <td>85</td>\n",
              "    </tr>\n",
              "    <tr>\n",
              "      <th>top</th>\n",
              "      <td>9028324525774925341</td>\n",
              "      <td>Зачет</td>\n",
              "      <td>М</td>\n",
              "      <td>15601729049989747827</td>\n",
              "      <td>ЕГЭ</td>\n",
              "      <td>70786669040476600</td>\n",
              "      <td>5533732657842394915</td>\n",
              "      <td>8388269026169219461</td>\n",
              "      <td>ЕГЭ</td>\n",
              "      <td>4877310761925081124</td>\n",
              "    </tr>\n",
              "    <tr>\n",
              "      <th>freq</th>\n",
              "      <td>11209</td>\n",
              "      <td>86996</td>\n",
              "      <td>115644</td>\n",
              "      <td>164710</td>\n",
              "      <td>137305</td>\n",
              "      <td>169444</td>\n",
              "      <td>124988</td>\n",
              "      <td>166176</td>\n",
              "      <td>131980</td>\n",
              "      <td>56395</td>\n",
              "    </tr>\n",
              "  </tbody>\n",
              "</table>\n",
              "</div>\n",
              "      <button class=\"colab-df-convert\" onclick=\"convertToInteractive('df-2e767f8b-1cc8-4c32-bda2-ae79fca9d9c1')\"\n",
              "              title=\"Convert this dataframe to an interactive table.\"\n",
              "              style=\"display:none;\">\n",
              "        \n",
              "  <svg xmlns=\"http://www.w3.org/2000/svg\" height=\"24px\"viewBox=\"0 0 24 24\"\n",
              "       width=\"24px\">\n",
              "    <path d=\"M0 0h24v24H0V0z\" fill=\"none\"/>\n",
              "    <path d=\"M18.56 5.44l.94 2.06.94-2.06 2.06-.94-2.06-.94-.94-2.06-.94 2.06-2.06.94zm-11 1L8.5 8.5l.94-2.06 2.06-.94-2.06-.94L8.5 2.5l-.94 2.06-2.06.94zm10 10l.94 2.06.94-2.06 2.06-.94-2.06-.94-.94-2.06-.94 2.06-2.06.94z\"/><path d=\"M17.41 7.96l-1.37-1.37c-.4-.4-.92-.59-1.43-.59-.52 0-1.04.2-1.43.59L10.3 9.45l-7.72 7.72c-.78.78-.78 2.05 0 2.83L4 21.41c.39.39.9.59 1.41.59.51 0 1.02-.2 1.41-.59l7.78-7.78 2.81-2.81c.8-.78.8-2.07 0-2.86zM5.41 20L4 18.59l7.72-7.72 1.47 1.35L5.41 20z\"/>\n",
              "  </svg>\n",
              "      </button>\n",
              "      \n",
              "  <style>\n",
              "    .colab-df-container {\n",
              "      display:flex;\n",
              "      flex-wrap:wrap;\n",
              "      gap: 12px;\n",
              "    }\n",
              "\n",
              "    .colab-df-convert {\n",
              "      background-color: #E8F0FE;\n",
              "      border: none;\n",
              "      border-radius: 50%;\n",
              "      cursor: pointer;\n",
              "      display: none;\n",
              "      fill: #1967D2;\n",
              "      height: 32px;\n",
              "      padding: 0 0 0 0;\n",
              "      width: 32px;\n",
              "    }\n",
              "\n",
              "    .colab-df-convert:hover {\n",
              "      background-color: #E2EBFA;\n",
              "      box-shadow: 0px 1px 2px rgba(60, 64, 67, 0.3), 0px 1px 3px 1px rgba(60, 64, 67, 0.15);\n",
              "      fill: #174EA6;\n",
              "    }\n",
              "\n",
              "    [theme=dark] .colab-df-convert {\n",
              "      background-color: #3B4455;\n",
              "      fill: #D2E3FC;\n",
              "    }\n",
              "\n",
              "    [theme=dark] .colab-df-convert:hover {\n",
              "      background-color: #434B5C;\n",
              "      box-shadow: 0px 1px 3px 1px rgba(0, 0, 0, 0.15);\n",
              "      filter: drop-shadow(0px 1px 2px rgba(0, 0, 0, 0.3));\n",
              "      fill: #FFFFFF;\n",
              "    }\n",
              "  </style>\n",
              "\n",
              "      <script>\n",
              "        const buttonEl =\n",
              "          document.querySelector('#df-2e767f8b-1cc8-4c32-bda2-ae79fca9d9c1 button.colab-df-convert');\n",
              "        buttonEl.style.display =\n",
              "          google.colab.kernel.accessAllowed ? 'block' : 'none';\n",
              "\n",
              "        async function convertToInteractive(key) {\n",
              "          const element = document.querySelector('#df-2e767f8b-1cc8-4c32-bda2-ae79fca9d9c1');\n",
              "          const dataTable =\n",
              "            await google.colab.kernel.invokeFunction('convertToInteractive',\n",
              "                                                     [key], {});\n",
              "          if (!dataTable) return;\n",
              "\n",
              "          const docLinkHtml = 'Like what you see? Visit the ' +\n",
              "            '<a target=\"_blank\" href=https://colab.research.google.com/notebooks/data_table.ipynb>data table notebook</a>'\n",
              "            + ' to learn more about interactive tables.';\n",
              "          element.innerHTML = '';\n",
              "          dataTable['output_type'] = 'display_data';\n",
              "          await google.colab.output.renderOutput(dataTable, element);\n",
              "          const docLink = document.createElement('div');\n",
              "          docLink.innerHTML = docLinkHtml;\n",
              "          element.appendChild(docLink);\n",
              "        }\n",
              "      </script>\n",
              "    </div>\n",
              "  </div>\n",
              "  "
            ]
          },
          "metadata": {},
          "execution_count": 74
        }
      ],
      "source": [
        "df.describe(include=\"category\")"
      ]
    },
    {
      "cell_type": "markdown",
      "id": "bce41931",
      "metadata": {
        "id": "bce41931"
      },
      "source": [
        "# Exploratory data analysis"
      ]
    },
    {
      "cell_type": "markdown",
      "id": "209fb27e",
      "metadata": {
        "id": "209fb27e"
      },
      "source": [
        "## Target"
      ]
    },
    {
      "cell_type": "markdown",
      "id": "febd125e",
      "metadata": {
        "id": "febd125e"
      },
      "source": [
        "Посмотрим распределение целевой переменной"
      ]
    },
    {
      "cell_type": "code",
      "execution_count": 75,
      "id": "96744010",
      "metadata": {
        "id": "96744010",
        "colab": {
          "base_uri": "https://localhost:8080/",
          "height": 390
        },
        "outputId": "3d9dfaa9-98bf-441c-b1f1-56233aef04e7"
      },
      "outputs": [
        {
          "output_type": "display_data",
          "data": {
            "text/plain": [
              "<Figure size 576x432 with 1 Axes>"
            ],
            "image/png": "[encoded data removed]"
          },
          "metadata": {
            "needs_background": "light"
          }
        }
      ],
      "source": [
        "rcParams['figure.figsize'] = 8, 6\n",
        "\n",
        "# Функция, добавляющая подпись процентов на график barplot\n",
        "def plot_text(ax):\n",
        "    for p in ax.patches:\n",
        "        percentage = '{:.1f}%'.format(p.get_height())\n",
        "        ax.annotate(\n",
        "            percentage,  # текст\n",
        "            # координата xy\n",
        "            (p.get_x() + p.get_width() / 2., p.get_height()),\n",
        "            # центрирование\n",
        "            ha='center',\n",
        "            va='center',\n",
        "            xytext=(0, 10),\n",
        "            # точка смещения относительно координаты\n",
        "            textcoords='offset points',\n",
        "            fontsize=14)\n",
        "        \n",
        "# Датафрейм частот значений      \n",
        "norm_target = pd.DataFrame(df['DEBT'].value_counts(normalize=True).mul(100)\\\n",
        "                           .rename('percent')).reset_index()\n",
        "\n",
        "ax = sns.barplot(x='index', y='percent', data=norm_target)\n",
        "plot_text(ax)"
      ]
    },
    {
      "cell_type": "markdown",
      "id": "61a1d4ba",
      "metadata": {
        "id": "61a1d4ba"
      },
      "source": [
        "Видим сильный дисбаланс классов, это нужно будет учесть при обучении алгоритма"
      ]
    },
    {
      "cell_type": "markdown",
      "id": "fcc99c4b",
      "metadata": {
        "id": "fcc99c4b"
      },
      "source": [
        "Придумаем ряд гипотез, которые помогут нам лучше понять данные, и сразу же их проверим"
      ]
    },
    {
      "cell_type": "markdown",
      "id": "2c21c71b",
      "metadata": {
        "id": "2c21c71b"
      },
      "source": [
        "## 1 гипотеза"
      ]
    },
    {
      "cell_type": "markdown",
      "id": "a023f035",
      "metadata": {
        "id": "a023f035"
      },
      "source": [
        "Доля задолженностей у мужчин больше, чем у женщин (иными словами, вероятность того, что случайно выбранный объект с gender='М' будет принадлежать целевому классу больше вероятности того, что случайно выбранный объект с gender='Ж' будет принадлежать целевому классу)"
      ]
    },
    {
      "cell_type": "code",
      "execution_count": 76,
      "id": "89b0a5bf",
      "metadata": {
        "id": "89b0a5bf",
        "colab": {
          "base_uri": "https://localhost:8080/",
          "height": 618
        },
        "outputId": "cfc9ff2d-35f8-44d9-902d-15ba5713cd49"
      },
      "outputs": [
        {
          "output_type": "display_data",
          "data": {
            "text/plain": [
              "<Figure size 864x5760 with 0 Axes>"
            ]
          },
          "metadata": {}
        },
        {
          "output_type": "display_data",
          "data": {
            "text/plain": [
              "<Figure size 618.375x576 with 1 Axes>"
            ],
            "image/png": "[encoded data removed]"
          },
          "metadata": {
            "needs_background": "light"
          }
        }
      ],
      "source": [
        "fig = plt.gcf()\n",
        "fig.set_size_inches(12, 80)\n",
        "\n",
        "rcParams['figure.figsize'] = 8, 6\n",
        "\n",
        "temp_df_1 = df[df['GENDER']=='М']['DEBT']\\\n",
        "                .value_counts(normalize=True).rename('percent').reset_index()\n",
        "temp_df_1['GENDER'] = ['М'] * len(temp_df_1)\n",
        "\n",
        "temp_df_2 = df[df['GENDER']=='Ж']['DEBT']\\\n",
        "                .value_counts(normalize=True).rename('percent').reset_index()\n",
        "temp_df_2['GENDER'] = ['Ж'] * len(temp_df_2)\n",
        "\n",
        "\n",
        "target_values = pd.concat([temp_df_1, temp_df_2])\n",
        "target_values.rename(columns={\"index\": \"target\"}, inplace=True)\n",
        "target_values['percent']=target_values['percent']*100\n",
        "          \n",
        "g = sns.catplot(x='GENDER', y='percent', hue='target', data=target_values, kind='bar', height=8)\n",
        "plt.title('Распределение target в разрезе пола')\n",
        "\n",
        "plot_text(g.ax);"
      ]
    },
    {
      "cell_type": "markdown",
      "id": "103d56ff",
      "metadata": {
        "id": "103d56ff"
      },
      "source": [
        "Видим, что доля попыток, закончившихся задолженностью у мужчин почти в 2 раза больше, чем у женщин. Гипотеза подтвердилась, и можно сделать вывод, что пол является важным признаком в нашей задаче"
      ]
    },
    {
      "cell_type": "markdown",
      "id": "123c076b",
      "metadata": {
        "id": "123c076b"
      },
      "source": [
        "## 2 гипотеза"
      ]
    },
    {
      "cell_type": "markdown",
      "id": "2772069f",
      "metadata": {
        "id": "2772069f"
      },
      "source": [
        "Доля задолженностей у олимпиадников меньше, чем у тех, кто сдавал ЕГЭ или вступительные испытания.\n",
        "\n",
        "Это выглядит здравым предположением, так как задачи олимпиад обычно сложнее, и победители должны потратить на них много времени, параллельно готовясь к ЕГЭ/ ВИ. Даже людей, просто участвующих в олимпиадах обычно не очень много, и сложно представить, что те, кто в них побеждают, могут иметь плохие оценки в вузе"
      ]
    },
    {
      "cell_type": "code",
      "execution_count": 77,
      "id": "4e7fb7ce",
      "metadata": {
        "id": "4e7fb7ce",
        "colab": {
          "base_uri": "https://localhost:8080/",
          "height": 601
        },
        "outputId": "8bbdd807-c4a6-42e1-b29c-820dc5380cce"
      },
      "outputs": [
        {
          "output_type": "display_data",
          "data": {
            "text/plain": [
              "<Figure size 618.375x576 with 1 Axes>"
            ],
            "image/png": "[encoded data removed]"
          },
          "metadata": {
            "needs_background": "light"
          }
        }
      ],
      "source": [
        "temp_df_1 = df[df['EXAM_TYPE']=='ЕГЭ']['DEBT']\\\n",
        "                .value_counts(normalize=True).rename('percent').reset_index()\n",
        "temp_df_1['EXAM_TYPE'] = ['ЕГЭ'] * len(temp_df_1)\n",
        "\n",
        "temp_df_2 = df[df['EXAM_TYPE']=='ВИ']['DEBT']\\\n",
        "                .value_counts(normalize=True).rename('percent').reset_index()\n",
        "temp_df_2['EXAM_TYPE'] = ['ВИ'] * len(temp_df_1)\n",
        "\n",
        "temp_df_3 = df[df['EXAM_TYPE']=='ОЛИМПИАДА']['DEBT']\\\n",
        "                .value_counts(normalize=True).rename('percent').reset_index()\n",
        "temp_df_3['EXAM_TYPE'] = ['ОЛИМПИАДА'] * len(temp_df_1)\n",
        "\n",
        "target_values = pd.concat([temp_df_1, temp_df_2, temp_df_3])\n",
        "target_values.rename(columns={\"index\": \"target\"}, inplace=True)\n",
        "target_values['percent']=target_values['percent']*100\n",
        "          \n",
        "g = sns.catplot(x='EXAM_TYPE', y='percent', hue='target', data=target_values, kind='bar', height=8)\n",
        "plt.title('Распределение target в разрезе типа экзамена')\n",
        "\n",
        "plot_text(g.ax);"
      ]
    },
    {
      "cell_type": "markdown",
      "id": "28015f72",
      "metadata": {
        "id": "28015f72"
      },
      "source": [
        "Вторая гипотеза тоже подтвердилась - видим, что олимпиадники более успешны относительно других каст, хоть они и обогнали сдающих ЕГЭ всего на 0.4%. При этом, у людей, поступающих по вступительным испытаниям, доля неудач значительно выше"
      ]
    },
    {
      "cell_type": "markdown",
      "id": "cdd97eb0",
      "metadata": {
        "id": "cdd97eb0"
      },
      "source": [
        "## 3 гипотеза"
      ]
    },
    {
      "cell_type": "markdown",
      "id": "1ea8aea3",
      "metadata": {
        "id": "1ea8aea3"
      },
      "source": [
        "На экзаменах неудачи случаются чаще, чем на зачётах/диф. зачётах/при сдаче курсовых проектов\n",
        "\n",
        "Экзамены в вузе, как правило, сложнее зачётов, и их нельзя сдавать много раз. Причём, в некоторых местах, если студент не сдал определённое кол-во зачётов, то к экзаменам его тоже не допустят. Аналогично, с курсовыми проектами - человек, не закрывший курсовую, автоматически получает 2 за экзамен. Поэтому логично предположить, что доля задолженностей выше для экзаменов, чем для других форм отчётности"
      ]
    },
    {
      "cell_type": "code",
      "execution_count": 78,
      "id": "9750ab4b",
      "metadata": {
        "id": "9750ab4b",
        "colab": {
          "base_uri": "https://localhost:8080/"
        },
        "outputId": "4d14d395-05c0-4317-9bf0-d1d68bf3cd05"
      },
      "outputs": [
        {
          "output_type": "execute_result",
          "data": {
            "text/plain": [
              "['Зачет', 'Экзамен', 'Курсовой проект', 'Дифференцированный зачет']\n",
              "Categories (4, object): ['Дифференцированный зачет', 'Зачет', 'Курсовой проект', 'Экзамен']"
            ]
          },
          "metadata": {},
          "execution_count": 78
        }
      ],
      "source": [
        "df['TYPE_NAME'].unique()"
      ]
    },
    {
      "cell_type": "code",
      "execution_count": 79,
      "id": "297c0d06",
      "metadata": {
        "id": "297c0d06",
        "colab": {
          "base_uri": "https://localhost:8080/",
          "height": 601
        },
        "outputId": "acaac366-2021-4352-db8c-43e85bc29971"
      },
      "outputs": [
        {
          "output_type": "display_data",
          "data": {
            "text/plain": [
              "<Figure size 618.375x576 with 1 Axes>"
            ],
            "image/png": "[encoded data removed]"
          },
          "metadata": {
            "needs_background": "light"
          }
        }
      ],
      "source": [
        "temp_df_1 = df[df['TYPE_NAME']=='Экзамен']['DEBT']\\\n",
        "                .value_counts(normalize=True).rename('percent').reset_index()\n",
        "temp_df_1['TYPE_NAME'] = ['Экзамен'] * len(temp_df_1)\n",
        "\n",
        "temp_df_2 = df[df['TYPE_NAME']=='Зачет']['DEBT']\\\n",
        "                .value_counts(normalize=True).rename('percent').reset_index()\n",
        "temp_df_2['TYPE_NAME'] = ['Зачет'] * len(temp_df_2)\n",
        "\n",
        "temp_df_3 = df[df['TYPE_NAME']=='Дифференцированный зачет']['DEBT']\\\n",
        "                .value_counts(normalize=True).rename('percent').reset_index()\n",
        "temp_df_3['TYPE_NAME'] = ['Дифференцированный зачет'] * len(temp_df_3)\n",
        "               \n",
        "temp_df_4 = df[df['TYPE_NAME']=='Курсовой проект']['DEBT']\\\n",
        "                .value_counts(normalize=True).rename('percent').reset_index()\n",
        "temp_df_4['TYPE_NAME'] = ['Курсовой проект'] * len(temp_df_4)\n",
        "               \n",
        "\n",
        "target_values = pd.concat([temp_df_1, temp_df_2, temp_df_3, temp_df_4])\n",
        "target_values.rename(columns={\"index\": \"target\"}, inplace=True)\n",
        "target_values['percent']=target_values['percent']*100\n",
        "          \n",
        "g = sns.catplot(x='TYPE_NAME', y='percent', hue='target',\n",
        "                data=target_values, kind='bar', height=8)\n",
        "plt.title('Распределение target в разрезе типа экзамена')\n",
        "\n",
        "plot_text(g.ax);"
      ]
    },
    {
      "cell_type": "markdown",
      "id": "3bfd090c",
      "metadata": {
        "id": "3bfd090c"
      },
      "source": [
        "Гипотеза не подтвердилась - видим, что наиболее проблемными являются зачёты, а наименее - курсовые проекты"
      ]
    },
    {
      "cell_type": "markdown",
      "id": "d2857e62",
      "metadata": {
        "id": "d2857e62"
      },
      "source": [
        "## 4 гипотеза"
      ]
    },
    {
      "cell_type": "markdown",
      "id": "bd9737e4",
      "metadata": {
        "id": "bd9737e4"
      },
      "source": [
        "Вероятность наличия задолженности обратно пропорциональна среднему баллу поступления. Иными словами, в разрезе target распределения среднего балла отличаются, при этом распределение для строк, соответствующих успешной попытке, должно быть смещено вправо (т.е. в сторону максимального балла)"
      ]
    },
    {
      "cell_type": "code",
      "execution_count": 80,
      "id": "a8496008",
      "metadata": {
        "id": "a8496008",
        "colab": {
          "base_uri": "https://localhost:8080/",
          "height": 431
        },
        "outputId": "d455d05e-e856-4b88-dc0f-15cd8a57bd5b"
      },
      "outputs": [
        {
          "output_type": "display_data",
          "data": {
            "text/plain": [
              "<Figure size 432.375x360 with 1 Axes>"
            ],
            "image/png": "[encoded data removed]"
          },
          "metadata": {
            "needs_background": "light"
          }
        }
      ],
      "source": [
        "# Сформируем столбец среднего балла\n",
        "df['mean_score'] = (df['ADMITTED_EXAM_1'] + df['ADMITTED_EXAM_2'] + df['ADMITTED_EXAM_3'])/3\n",
        "\n",
        "sns.displot(\n",
        "    data={\n",
        "        \"DEBT 0\": df[df.DEBT == 0]['mean_score'],\n",
        "        \"DEBT 1\": df[df.DEBT == 1]['mean_score']\n",
        "    },\n",
        "    kind=\"kde\",\n",
        "    common_norm=False,  \n",
        ")\n",
        "\n",
        "plt.title('Распределение значений mean_score\\n', fontsize=20)\n",
        "plt.xlabel('mean_score', fontsize=14)\n",
        "plt.ylabel('Dentsity', fontsize=14);"
      ]
    },
    {
      "cell_type": "code",
      "execution_count": 81,
      "id": "530807f3",
      "metadata": {
        "id": "530807f3",
        "colab": {
          "base_uri": "https://localhost:8080/",
          "height": 436
        },
        "outputId": "86aba5f2-9c3a-4d93-b493-cb224c6962ee"
      },
      "outputs": [
        {
          "output_type": "display_data",
          "data": {
            "text/plain": [
              "<Figure size 576x432 with 1 Axes>"
            ],
            "image/png": "[encoded data removed]"
          },
          "metadata": {
            "needs_background": "light"
          }
        }
      ],
      "source": [
        "sns.boxplot(x='DEBT', y='mean_score', data=df)\n",
        "\n",
        "plt.title('Boxplot mean_score\\n', fontsize=20)\n",
        "plt.ylabel('mean_score', fontsize=14)\n",
        "plt.xlabel('DEBT', fontsize=14);"
      ]
    },
    {
      "cell_type": "markdown",
      "id": "49220d4b",
      "metadata": {
        "id": "49220d4b"
      },
      "source": [
        "Гипотеза в принципе подтвердилась - по первому графику видно, что синее распределение смещено вправо. Это значит, что попытки, заканчивающиеся задолженностью, чаще приходятся на людей, имеющих меньшие баллы при поступлении. Боксплот также демонстрирует смещение статистик, хоть и не очень сильное"
      ]
    },
    {
      "cell_type": "markdown",
      "id": "01aa99d3",
      "metadata": {
        "id": "01aa99d3"
      },
      "source": [
        "# Вывод и сохранение датафрейма"
      ]
    },
    {
      "cell_type": "markdown",
      "id": "6e7e9e5a",
      "metadata": {
        "id": "6e7e9e5a"
      },
      "source": [
        "В целом, данные выглядят хорошо. Все признаки, которые мы исследовали, имеют какую-то связь с таргетом, а значит, будут полезными при обучении моделей\n",
        "\n",
        "Выполним финальное преобразование - удалим признаки  'ISU' и 'ST_YEAR', так как мы не знаем их на новых данных, следовательно и при обучении они нам не понадобятся, после чего сохраним датафрейм для дальнейшего использования"
      ]
    },
    {
      "cell_type": "code",
      "execution_count": 82,
      "id": "ee0d7c50",
      "metadata": {
        "id": "ee0d7c50"
      },
      "outputs": [],
      "source": [
        "df.drop(columns=['ISU', 'ST_YEAR'], inplace=True)"
      ]
    },
    {
      "cell_type": "markdown",
      "id": "efe07d10",
      "metadata": {
        "id": "efe07d10"
      },
      "source": [
        "Сохраним в формате parquet, чтобы не терять типы столбцов"
      ]
    },
    {
      "cell_type": "code",
      "execution_count": 83,
      "id": "6556a51c",
      "metadata": {
        "id": "6556a51c"
      },
      "outputs": [],
      "source": [
        "df.to_parquet('/content/data_test3.parquet.gzip')"
      ]
    }
  ],
  "metadata": {
    "colab": {
      "provenance": []
    },
    "kernelspec": {
      "display_name": "Python 3 (ipykernel)",
      "language": "python",
      "name": "python3"
    },
    "language_info": {
      "codemirror_mode": {
        "name": "ipython",
        "version": 3
      },
      "file_extension": ".py",
      "mimetype": "text/x-python",
      "name": "python",
      "nbconvert_exporter": "python",
      "pygments_lexer": "ipython3",
      "version": "3.9.12"
    }
  },
  "nbformat": 4,
  "nbformat_minor": 5
}