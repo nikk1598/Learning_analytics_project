{
  "cells": [
    {
      "cell_type": "markdown",
      "source": [
        "# Подключение гугл диска"
      ],
      "metadata": {
        "id": "OAjqFZSx4Si-"
      },
      "id": "OAjqFZSx4Si-"
    },
    {
      "cell_type": "code",
      "execution_count": null,
      "id": "PpyibtTGf4xg",
      "metadata": {
        "id": "PpyibtTGf4xg"
      },
      "outputs": [],
      "source": [
        "from google.colab import drive\n",
        "drive.mount('/content/drive')"
      ]
    },
    {
      "cell_type": "markdown",
      "id": "067080e7",
      "metadata": {
        "id": "067080e7"
      },
      "source": [
        "# Импорт библиотек"
      ]
    },
    {
      "cell_type": "code",
      "execution_count": null,
      "id": "4e7aafb0",
      "metadata": {
        "id": "4e7aafb0"
      },
      "outputs": [],
      "source": [
        "import pandas as pd\n",
        "import seaborn as sns\n",
        "import matplotlib.pyplot as plt\n",
        "from matplotlib import rcParams"
      ]
    },
    {
      "cell_type": "markdown",
      "id": "5175ed6f",
      "metadata": {
        "id": "5175ed6f"
      },
      "source": [
        "# Считывание данных"
      ]
    },
    {
      "cell_type": "markdown",
      "id": "a0bed179",
      "metadata": {
        "id": "a0bed179"
      },
      "source": [
        "## train.csv"
      ]
    },
    {
      "cell_type": "code",
      "execution_count": null,
      "id": "6aba0a0b",
      "metadata": {
        "colab": {
          "base_uri": "https://localhost:8080/",
          "height": 183
        },
        "id": "6aba0a0b",
        "outputId": "7417f2bb-7a7e-451e-ff06-3b9d1f05439f"
      },
      "outputs": [
        {
          "output_type": "error",
          "ename": "NameError",
          "evalue": "ignored",
          "traceback": [
            "\u001b[0;31m---------------------------------------------------------------------------\u001b[0m",
            "\u001b[0;31mNameError\u001b[0m                                 Traceback (most recent call last)",
            "\u001b[0;32m<ipython-input-1-288c31ec4ada>\u001b[0m in \u001b[0;36m<module>\u001b[0;34m\u001b[0m\n\u001b[0;32m----> 1\u001b[0;31m \u001b[0mtrain\u001b[0m \u001b[0;34m=\u001b[0m \u001b[0mpd\u001b[0m\u001b[0;34m.\u001b[0m\u001b[0mread_csv\u001b[0m\u001b[0;34m(\u001b[0m\u001b[0;34m'/content/drive/MyDrive/train.csv'\u001b[0m\u001b[0;34m)\u001b[0m\u001b[0;34m\u001b[0m\u001b[0;34m\u001b[0m\u001b[0m\n\u001b[0m\u001b[1;32m      2\u001b[0m \u001b[0mtrain\u001b[0m\u001b[0;34m.\u001b[0m\u001b[0mhead\u001b[0m\u001b[0;34m(\u001b[0m\u001b[0;34m)\u001b[0m\u001b[0;34m\u001b[0m\u001b[0;34m\u001b[0m\u001b[0m\n",
            "\u001b[0;31mNameError\u001b[0m: name 'pd' is not defined"
          ]
        }
      ],
      "source": [
        "train = pd.read_csv('/content/drive/MyDrive/train.csv')\n",
        "train.head()"
      ]
    },
    {
      "cell_type": "markdown",
      "id": "de0cf6ee",
      "metadata": {
        "id": "de0cf6ee"
      },
      "source": [
        "Таргет для обучения с оценками и количеством долгов студентов\n",
        "\n",
        "- ISU - UID студента\n",
        "- ST_YEAR - год получения оценки\n",
        "- SEMESTER - семестр получения оценки\n",
        "- DISC_ID - UID дисциплины\n",
        "- TYPE_NAME - форма отчётности\n",
        "- DEBT - факт наличия долга (0 - отсутствие, 1 - наличие) - таргет"
      ]
    },
    {
      "cell_type": "code",
      "execution_count": null,
      "id": "eafe8d00",
      "metadata": {
        "colab": {
          "base_uri": "https://localhost:8080/"
        },
        "id": "eafe8d00",
        "outputId": "6cef870a-50c9-4a2f-c875-f5287548da9c"
      },
      "outputs": [
        {
          "name": "stdout",
          "output_type": "stream",
          "text": [
            "<class 'pandas.core.frame.DataFrame'>\n",
            "RangeIndex: 178899 entries, 0 to 178898\n",
            "Data columns (total 6 columns):\n",
            " #   Column     Non-Null Count   Dtype \n",
            "---  ------     --------------   ----- \n",
            " 0   ISU        178899 non-null  uint64\n",
            " 1   ST_YEAR    178899 non-null  int64 \n",
            " 2   SEMESTER   178899 non-null  int64 \n",
            " 3   DISC_ID    178899 non-null  uint64\n",
            " 4   TYPE_NAME  178899 non-null  object\n",
            " 5   DEBT       178899 non-null  int64 \n",
            "dtypes: int64(3), object(1), uint64(2)\n",
            "memory usage: 8.2+ MB\n"
          ]
        }
      ],
      "source": [
        "train.info()"
      ]
    },
    {
      "cell_type": "code",
      "execution_count": null,
      "id": "5cfd6798",
      "metadata": {
        "colab": {
          "base_uri": "https://localhost:8080/"
        },
        "id": "5cfd6798",
        "outputId": "e5bf9e47-4cf0-45ad-d2ba-ccccdf0c70f2"
      },
      "outputs": [
        {
          "data": {
            "text/plain": [
              "(178899, 6)"
            ]
          },
          "execution_count": 23,
          "metadata": {},
          "output_type": "execute_result"
        }
      ],
      "source": [
        "train.shape"
      ]
    },
    {
      "cell_type": "markdown",
      "id": "7a226ce7",
      "metadata": {
        "id": "7a226ce7"
      },
      "source": [
        "## comp_portrait.csv"
      ]
    },
    {
      "cell_type": "code",
      "execution_count": null,
      "id": "341ec0ff",
      "metadata": {
        "colab": {
          "base_uri": "https://localhost:8080/",
          "height": 206
        },
        "id": "341ec0ff",
        "outputId": "9866acf7-ec20-40a2-9343-a428a05d40dc"
      },
      "outputs": [
        {
          "data": {
            "text/html": [
              "<div>\n",
              "<style scoped>\n",
              "    .dataframe tbody tr th:only-of-type {\n",
              "        vertical-align: middle;\n",
              "    }\n",
              "\n",
              "    .dataframe tbody tr th {\n",
              "        vertical-align: top;\n",
              "    }\n",
              "\n",
              "    .dataframe thead th {\n",
              "        text-align: right;\n",
              "    }\n",
              "</style>\n",
              "<table border=\"1\" class=\"dataframe\">\n",
              "  <thead>\n",
              "    <tr style=\"text-align: right;\">\n",
              "      <th></th>\n",
              "      <th>ISU</th>\n",
              "      <th>GENDER</th>\n",
              "      <th>CITIZENSHIP</th>\n",
              "      <th>EXAM_TYPE</th>\n",
              "      <th>EXAM_SUBJECT_1</th>\n",
              "      <th>EXAM_SUBJECT_2</th>\n",
              "      <th>EXAM_SUBJECT_3</th>\n",
              "      <th>ADMITTED_EXAM_1</th>\n",
              "      <th>ADMITTED_EXAM_2</th>\n",
              "      <th>ADMITTED_EXAM_3</th>\n",
              "      <th>ADMITTED_SUBJECT_PRIZE_LEVEL</th>\n",
              "      <th>REGION_ID</th>\n",
              "    </tr>\n",
              "  </thead>\n",
              "  <tbody>\n",
              "    <tr>\n",
              "      <th>0</th>\n",
              "      <td>8746993777733478780</td>\n",
              "      <td>Ж</td>\n",
              "      <td>15601729049989747827</td>\n",
              "      <td>ЕГЭ</td>\n",
              "      <td>70786669040476600</td>\n",
              "      <td>5533732657842394915</td>\n",
              "      <td>8388269026169219461</td>\n",
              "      <td>88.0</td>\n",
              "      <td>91.0</td>\n",
              "      <td>81.0</td>\n",
              "      <td>ЕГЭ</td>\n",
              "      <td>4877310761925081124</td>\n",
              "    </tr>\n",
              "    <tr>\n",
              "      <th>1</th>\n",
              "      <td>18279003839105282485</td>\n",
              "      <td>М</td>\n",
              "      <td>15601729049989747827</td>\n",
              "      <td>ВИ</td>\n",
              "      <td>70786669040476600</td>\n",
              "      <td>5533732657842394915</td>\n",
              "      <td>8388269026169219461</td>\n",
              "      <td>84.0</td>\n",
              "      <td>89.0</td>\n",
              "      <td>96.0</td>\n",
              "      <td>ЕГЭ</td>\n",
              "      <td>4877310761925081124</td>\n",
              "    </tr>\n",
              "    <tr>\n",
              "      <th>2</th>\n",
              "      <td>17601399077733331421</td>\n",
              "      <td>М</td>\n",
              "      <td>15601729049989747827</td>\n",
              "      <td>ВИ</td>\n",
              "      <td>70786669040476600</td>\n",
              "      <td>5533732657842394915</td>\n",
              "      <td>8388269026169219461</td>\n",
              "      <td>66.0</td>\n",
              "      <td>78.0</td>\n",
              "      <td>93.0</td>\n",
              "      <td>ЕГЭ</td>\n",
              "      <td>4877310761925081124</td>\n",
              "    </tr>\n",
              "    <tr>\n",
              "      <th>3</th>\n",
              "      <td>4111128904589594590</td>\n",
              "      <td>М</td>\n",
              "      <td>15601729049989747827</td>\n",
              "      <td>ВИ</td>\n",
              "      <td>70786669040476600</td>\n",
              "      <td>5533732657842394915</td>\n",
              "      <td>8388269026169219461</td>\n",
              "      <td>100.0</td>\n",
              "      <td>89.0</td>\n",
              "      <td>80.0</td>\n",
              "      <td>ЕГЭ</td>\n",
              "      <td>4877310761925081124</td>\n",
              "    </tr>\n",
              "    <tr>\n",
              "      <th>4</th>\n",
              "      <td>5943608672516320930</td>\n",
              "      <td>М</td>\n",
              "      <td>15601729049989747827</td>\n",
              "      <td>ВИ</td>\n",
              "      <td>70786669040476600</td>\n",
              "      <td>5533732657842394915</td>\n",
              "      <td>8388269026169219461</td>\n",
              "      <td>84.0</td>\n",
              "      <td>86.0</td>\n",
              "      <td>91.0</td>\n",
              "      <td>ЕГЭ</td>\n",
              "      <td>4877310761925081124</td>\n",
              "    </tr>\n",
              "  </tbody>\n",
              "</table>\n",
              "</div>"
            ],
            "text/plain": [
              "                    ISU GENDER           CITIZENSHIP EXAM_TYPE  \\\n",
              "0   8746993777733478780      Ж  15601729049989747827       ЕГЭ   \n",
              "1  18279003839105282485      М  15601729049989747827        ВИ   \n",
              "2  17601399077733331421      М  15601729049989747827        ВИ   \n",
              "3   4111128904589594590      М  15601729049989747827        ВИ   \n",
              "4   5943608672516320930      М  15601729049989747827        ВИ   \n",
              "\n",
              "      EXAM_SUBJECT_1       EXAM_SUBJECT_2       EXAM_SUBJECT_3  \\\n",
              "0  70786669040476600  5533732657842394915  8388269026169219461   \n",
              "1  70786669040476600  5533732657842394915  8388269026169219461   \n",
              "2  70786669040476600  5533732657842394915  8388269026169219461   \n",
              "3  70786669040476600  5533732657842394915  8388269026169219461   \n",
              "4  70786669040476600  5533732657842394915  8388269026169219461   \n",
              "\n",
              "   ADMITTED_EXAM_1  ADMITTED_EXAM_2  ADMITTED_EXAM_3  \\\n",
              "0             88.0             91.0             81.0   \n",
              "1             84.0             89.0             96.0   \n",
              "2             66.0             78.0             93.0   \n",
              "3            100.0             89.0             80.0   \n",
              "4             84.0             86.0             91.0   \n",
              "\n",
              "  ADMITTED_SUBJECT_PRIZE_LEVEL            REGION_ID  \n",
              "0                          ЕГЭ  4877310761925081124  \n",
              "1                          ЕГЭ  4877310761925081124  \n",
              "2                          ЕГЭ  4877310761925081124  \n",
              "3                          ЕГЭ  4877310761925081124  \n",
              "4                          ЕГЭ  4877310761925081124  "
            ]
          },
          "execution_count": 24,
          "metadata": {},
          "output_type": "execute_result"
        }
      ],
      "source": [
        "comp_portrait = pd.read_csv('/content/drive/MyDrive/comp_portrait.csv')\n",
        "comp_portrait.head()"
      ]
    },
    {
      "cell_type": "markdown",
      "id": "c2aa73e0",
      "metadata": {
        "id": "c2aa73e0"
      },
      "source": [
        "- ISU - UID студента\n",
        "- GENDER - пол\n",
        "- CITIZENSHIP - гражданство\n",
        "- EXAM_TYPE - форма зачисления (ЕГЭ, олимпиада, ВИ - вступительные испытания)\n",
        "- EXAM_SUBJECT_1 - первый экзамен ЕГЭ\n",
        "- EXAM_SUBJECT_2 - второй экзамен ЕГЭ\n",
        "- EXAM_SUBJECT_3 - третий экзамен ЕГЭ\n",
        "- ADMITTED_EXAM_1 - баллы за 1 экзамен ЕГЭ\n",
        "- ADMITTED_EXAM_2 - баллы за 2 экзамен ЕГЭ\n",
        "- ADMITTED_EXAM_3 - баллы за 3 экзамен ЕГЭ\n",
        "- ADMITTED_SUBJECT_PRIZE_LEVEL - уровень олимпиады (если есть)\n",
        "- REGION_ID - номер региона"
      ]
    },
    {
      "cell_type": "code",
      "execution_count": null,
      "id": "3209bee1",
      "metadata": {
        "colab": {
          "base_uri": "https://localhost:8080/"
        },
        "id": "3209bee1",
        "outputId": "2172b1e3-de51-44c2-a2d8-dff072db8edd"
      },
      "outputs": [
        {
          "name": "stdout",
          "output_type": "stream",
          "text": [
            "<class 'pandas.core.frame.DataFrame'>\n",
            "RangeIndex: 8583 entries, 0 to 8582\n",
            "Data columns (total 12 columns):\n",
            " #   Column                        Non-Null Count  Dtype  \n",
            "---  ------                        --------------  -----  \n",
            " 0   ISU                           8583 non-null   uint64 \n",
            " 1   GENDER                        8583 non-null   object \n",
            " 2   CITIZENSHIP                   8583 non-null   uint64 \n",
            " 3   EXAM_TYPE                     8582 non-null   object \n",
            " 4   EXAM_SUBJECT_1                8583 non-null   uint64 \n",
            " 5   EXAM_SUBJECT_2                8583 non-null   uint64 \n",
            " 6   EXAM_SUBJECT_3                8583 non-null   uint64 \n",
            " 7   ADMITTED_EXAM_1               7404 non-null   float64\n",
            " 8   ADMITTED_EXAM_2               7404 non-null   float64\n",
            " 9   ADMITTED_EXAM_3               7404 non-null   float64\n",
            " 10  ADMITTED_SUBJECT_PRIZE_LEVEL  8583 non-null   object \n",
            " 11  REGION_ID                     8583 non-null   uint64 \n",
            "dtypes: float64(3), object(3), uint64(6)\n",
            "memory usage: 804.8+ KB\n"
          ]
        }
      ],
      "source": [
        "comp_portrait.info()"
      ]
    },
    {
      "cell_type": "markdown",
      "id": "32284158",
      "metadata": {
        "id": "32284158"
      },
      "source": [
        "Видим пропущенные значения, обработаем их позже"
      ]
    },
    {
      "cell_type": "code",
      "execution_count": null,
      "id": "b3a2d747",
      "metadata": {
        "colab": {
          "base_uri": "https://localhost:8080/"
        },
        "id": "b3a2d747",
        "outputId": "2ed2f8db-6239-4b6d-8167-d4a72c5b84a1"
      },
      "outputs": [
        {
          "data": {
            "text/plain": [
              "(8583, 12)"
            ]
          },
          "execution_count": 26,
          "metadata": {},
          "output_type": "execute_result"
        }
      ],
      "source": [
        "comp_portrait.shape"
      ]
    },
    {
      "cell_type": "markdown",
      "id": "888b6559",
      "metadata": {
        "id": "888b6559"
      },
      "source": [
        "Присоединим comp_portrait к df"
      ]
    },
    {
      "cell_type": "code",
      "execution_count": null,
      "id": "69ffd39e",
      "metadata": {
        "colab": {
          "base_uri": "https://localhost:8080/",
          "height": 270
        },
        "id": "69ffd39e",
        "outputId": "9c758f84-090e-4489-fe68-25f61d73eb66"
      },
      "outputs": [
        {
          "data": {
            "text/html": [
              "<div>\n",
              "<style scoped>\n",
              "    .dataframe tbody tr th:only-of-type {\n",
              "        vertical-align: middle;\n",
              "    }\n",
              "\n",
              "    .dataframe tbody tr th {\n",
              "        vertical-align: top;\n",
              "    }\n",
              "\n",
              "    .dataframe thead th {\n",
              "        text-align: right;\n",
              "    }\n",
              "</style>\n",
              "<table border=\"1\" class=\"dataframe\">\n",
              "  <thead>\n",
              "    <tr style=\"text-align: right;\">\n",
              "      <th></th>\n",
              "      <th>ISU</th>\n",
              "      <th>ST_YEAR</th>\n",
              "      <th>SEMESTER</th>\n",
              "      <th>DISC_ID</th>\n",
              "      <th>TYPE_NAME</th>\n",
              "      <th>DEBT</th>\n",
              "      <th>GENDER</th>\n",
              "      <th>CITIZENSHIP</th>\n",
              "      <th>EXAM_TYPE</th>\n",
              "      <th>EXAM_SUBJECT_1</th>\n",
              "      <th>EXAM_SUBJECT_2</th>\n",
              "      <th>EXAM_SUBJECT_3</th>\n",
              "      <th>ADMITTED_EXAM_1</th>\n",
              "      <th>ADMITTED_EXAM_2</th>\n",
              "      <th>ADMITTED_EXAM_3</th>\n",
              "      <th>ADMITTED_SUBJECT_PRIZE_LEVEL</th>\n",
              "      <th>REGION_ID</th>\n",
              "    </tr>\n",
              "  </thead>\n",
              "  <tbody>\n",
              "    <tr>\n",
              "      <th>0</th>\n",
              "      <td>17623928044460629977</td>\n",
              "      <td>2020</td>\n",
              "      <td>1</td>\n",
              "      <td>10502311854018326223</td>\n",
              "      <td>Зачет</td>\n",
              "      <td>0</td>\n",
              "      <td>М</td>\n",
              "      <td>15601729049989747827</td>\n",
              "      <td>ЕГЭ</td>\n",
              "      <td>70786669040476600</td>\n",
              "      <td>5533732657842394915</td>\n",
              "      <td>8388269026169219461</td>\n",
              "      <td>78.0</td>\n",
              "      <td>79.0</td>\n",
              "      <td>91.0</td>\n",
              "      <td>ЕГЭ</td>\n",
              "      <td>7805492244297918082</td>\n",
              "    </tr>\n",
              "    <tr>\n",
              "      <th>1</th>\n",
              "      <td>17623928044460629977</td>\n",
              "      <td>2020</td>\n",
              "      <td>1</td>\n",
              "      <td>1601392918367593206</td>\n",
              "      <td>Зачет</td>\n",
              "      <td>0</td>\n",
              "      <td>М</td>\n",
              "      <td>15601729049989747827</td>\n",
              "      <td>ЕГЭ</td>\n",
              "      <td>70786669040476600</td>\n",
              "      <td>5533732657842394915</td>\n",
              "      <td>8388269026169219461</td>\n",
              "      <td>78.0</td>\n",
              "      <td>79.0</td>\n",
              "      <td>91.0</td>\n",
              "      <td>ЕГЭ</td>\n",
              "      <td>7805492244297918082</td>\n",
              "    </tr>\n",
              "    <tr>\n",
              "      <th>2</th>\n",
              "      <td>17623928044460629977</td>\n",
              "      <td>2020</td>\n",
              "      <td>1</td>\n",
              "      <td>9559803959325174929</td>\n",
              "      <td>Зачет</td>\n",
              "      <td>0</td>\n",
              "      <td>М</td>\n",
              "      <td>15601729049989747827</td>\n",
              "      <td>ЕГЭ</td>\n",
              "      <td>70786669040476600</td>\n",
              "      <td>5533732657842394915</td>\n",
              "      <td>8388269026169219461</td>\n",
              "      <td>78.0</td>\n",
              "      <td>79.0</td>\n",
              "      <td>91.0</td>\n",
              "      <td>ЕГЭ</td>\n",
              "      <td>7805492244297918082</td>\n",
              "    </tr>\n",
              "    <tr>\n",
              "      <th>3</th>\n",
              "      <td>17623928044460629977</td>\n",
              "      <td>2020</td>\n",
              "      <td>1</td>\n",
              "      <td>8955667882044263414</td>\n",
              "      <td>Зачет</td>\n",
              "      <td>0</td>\n",
              "      <td>М</td>\n",
              "      <td>15601729049989747827</td>\n",
              "      <td>ЕГЭ</td>\n",
              "      <td>70786669040476600</td>\n",
              "      <td>5533732657842394915</td>\n",
              "      <td>8388269026169219461</td>\n",
              "      <td>78.0</td>\n",
              "      <td>79.0</td>\n",
              "      <td>91.0</td>\n",
              "      <td>ЕГЭ</td>\n",
              "      <td>7805492244297918082</td>\n",
              "    </tr>\n",
              "    <tr>\n",
              "      <th>4</th>\n",
              "      <td>17623928044460629977</td>\n",
              "      <td>2020</td>\n",
              "      <td>1</td>\n",
              "      <td>17741967398854095262</td>\n",
              "      <td>Экзамен</td>\n",
              "      <td>0</td>\n",
              "      <td>М</td>\n",
              "      <td>15601729049989747827</td>\n",
              "      <td>ЕГЭ</td>\n",
              "      <td>70786669040476600</td>\n",
              "      <td>5533732657842394915</td>\n",
              "      <td>8388269026169219461</td>\n",
              "      <td>78.0</td>\n",
              "      <td>79.0</td>\n",
              "      <td>91.0</td>\n",
              "      <td>ЕГЭ</td>\n",
              "      <td>7805492244297918082</td>\n",
              "    </tr>\n",
              "  </tbody>\n",
              "</table>\n",
              "</div>"
            ],
            "text/plain": [
              "                    ISU  ST_YEAR  SEMESTER               DISC_ID TYPE_NAME  \\\n",
              "0  17623928044460629977     2020         1  10502311854018326223     Зачет   \n",
              "1  17623928044460629977     2020         1   1601392918367593206     Зачет   \n",
              "2  17623928044460629977     2020         1   9559803959325174929     Зачет   \n",
              "3  17623928044460629977     2020         1   8955667882044263414     Зачет   \n",
              "4  17623928044460629977     2020         1  17741967398854095262   Экзамен   \n",
              "\n",
              "   DEBT GENDER           CITIZENSHIP EXAM_TYPE     EXAM_SUBJECT_1  \\\n",
              "0     0      М  15601729049989747827       ЕГЭ  70786669040476600   \n",
              "1     0      М  15601729049989747827       ЕГЭ  70786669040476600   \n",
              "2     0      М  15601729049989747827       ЕГЭ  70786669040476600   \n",
              "3     0      М  15601729049989747827       ЕГЭ  70786669040476600   \n",
              "4     0      М  15601729049989747827       ЕГЭ  70786669040476600   \n",
              "\n",
              "        EXAM_SUBJECT_2       EXAM_SUBJECT_3  ADMITTED_EXAM_1  ADMITTED_EXAM_2  \\\n",
              "0  5533732657842394915  8388269026169219461             78.0             79.0   \n",
              "1  5533732657842394915  8388269026169219461             78.0             79.0   \n",
              "2  5533732657842394915  8388269026169219461             78.0             79.0   \n",
              "3  5533732657842394915  8388269026169219461             78.0             79.0   \n",
              "4  5533732657842394915  8388269026169219461             78.0             79.0   \n",
              "\n",
              "   ADMITTED_EXAM_3 ADMITTED_SUBJECT_PRIZE_LEVEL            REGION_ID  \n",
              "0             91.0                          ЕГЭ  7805492244297918082  \n",
              "1             91.0                          ЕГЭ  7805492244297918082  \n",
              "2             91.0                          ЕГЭ  7805492244297918082  \n",
              "3             91.0                          ЕГЭ  7805492244297918082  \n",
              "4             91.0                          ЕГЭ  7805492244297918082  "
            ]
          },
          "execution_count": 27,
          "metadata": {},
          "output_type": "execute_result"
        }
      ],
      "source": [
        "df = pd.merge(train, comp_portrait, on='ISU')\n",
        "df.head()"
      ]
    },
    {
      "cell_type": "code",
      "execution_count": null,
      "id": "f6ffd2ed",
      "metadata": {
        "colab": {
          "base_uri": "https://localhost:8080/"
        },
        "id": "f6ffd2ed",
        "outputId": "dae1e0ab-1402-4f78-d57e-d21c1eb679ba"
      },
      "outputs": [
        {
          "data": {
            "text/plain": [
              "(178899, 17)"
            ]
          },
          "execution_count": 28,
          "metadata": {},
          "output_type": "execute_result"
        }
      ],
      "source": [
        "df.shape"
      ]
    },
    {
      "cell_type": "markdown",
      "id": "f54b7c02",
      "metadata": {
        "id": "f54b7c02"
      },
      "source": [
        "## comp_marks.csv"
      ]
    },
    {
      "cell_type": "code",
      "execution_count": null,
      "id": "8ad25bcc",
      "metadata": {
        "colab": {
          "base_uri": "https://localhost:8080/",
          "height": 206
        },
        "id": "8ad25bcc",
        "outputId": "316d8402-387e-4ed7-d553-01b302bf4fd9"
      },
      "outputs": [
        {
          "data": {
            "text/html": [
              "<div>\n",
              "<style scoped>\n",
              "    .dataframe tbody tr th:only-of-type {\n",
              "        vertical-align: middle;\n",
              "    }\n",
              "\n",
              "    .dataframe tbody tr th {\n",
              "        vertical-align: top;\n",
              "    }\n",
              "\n",
              "    .dataframe thead th {\n",
              "        text-align: right;\n",
              "    }\n",
              "</style>\n",
              "<table border=\"1\" class=\"dataframe\">\n",
              "  <thead>\n",
              "    <tr style=\"text-align: right;\">\n",
              "      <th></th>\n",
              "      <th>ISU</th>\n",
              "      <th>ST_YEAR</th>\n",
              "      <th>SEMESTER</th>\n",
              "      <th>TYPE_NAME</th>\n",
              "      <th>MARK</th>\n",
              "      <th>MAIN_PLAN</th>\n",
              "      <th>DISC_ID</th>\n",
              "      <th>PRED_ID</th>\n",
              "    </tr>\n",
              "  </thead>\n",
              "  <tbody>\n",
              "    <tr>\n",
              "      <th>0</th>\n",
              "      <td>17623928044460629977</td>\n",
              "      <td>2020</td>\n",
              "      <td>1</td>\n",
              "      <td>Зачет</td>\n",
              "      <td>зачет</td>\n",
              "      <td>4664712865904477750</td>\n",
              "      <td>10502311854018326223</td>\n",
              "      <td>5087927234000983963</td>\n",
              "    </tr>\n",
              "    <tr>\n",
              "      <th>1</th>\n",
              "      <td>17623928044460629977</td>\n",
              "      <td>2020</td>\n",
              "      <td>1</td>\n",
              "      <td>Зачет</td>\n",
              "      <td>зачет</td>\n",
              "      <td>4664712865904477750</td>\n",
              "      <td>1601392918367593206</td>\n",
              "      <td>5087927234000983963</td>\n",
              "    </tr>\n",
              "    <tr>\n",
              "      <th>2</th>\n",
              "      <td>17623928044460629977</td>\n",
              "      <td>2020</td>\n",
              "      <td>1</td>\n",
              "      <td>Зачет</td>\n",
              "      <td>зачет</td>\n",
              "      <td>4664712865904477750</td>\n",
              "      <td>9559803959325174929</td>\n",
              "      <td>5087927234000983963</td>\n",
              "    </tr>\n",
              "    <tr>\n",
              "      <th>3</th>\n",
              "      <td>17623928044460629977</td>\n",
              "      <td>2020</td>\n",
              "      <td>1</td>\n",
              "      <td>Зачет</td>\n",
              "      <td>зачет</td>\n",
              "      <td>4664712865904477750</td>\n",
              "      <td>8955667882044263414</td>\n",
              "      <td>5087927234000983963</td>\n",
              "    </tr>\n",
              "    <tr>\n",
              "      <th>4</th>\n",
              "      <td>17623928044460629977</td>\n",
              "      <td>2020</td>\n",
              "      <td>1</td>\n",
              "      <td>Экзамен</td>\n",
              "      <td>3</td>\n",
              "      <td>4664712865904477750</td>\n",
              "      <td>17741967398854095262</td>\n",
              "      <td>5087927234000983963</td>\n",
              "    </tr>\n",
              "  </tbody>\n",
              "</table>\n",
              "</div>"
            ],
            "text/plain": [
              "                    ISU  ST_YEAR  SEMESTER TYPE_NAME   MARK  \\\n",
              "0  17623928044460629977     2020         1     Зачет  зачет   \n",
              "1  17623928044460629977     2020         1     Зачет  зачет   \n",
              "2  17623928044460629977     2020         1     Зачет  зачет   \n",
              "3  17623928044460629977     2020         1     Зачет  зачет   \n",
              "4  17623928044460629977     2020         1   Экзамен      3   \n",
              "\n",
              "             MAIN_PLAN               DISC_ID              PRED_ID  \n",
              "0  4664712865904477750  10502311854018326223  5087927234000983963  \n",
              "1  4664712865904477750   1601392918367593206  5087927234000983963  \n",
              "2  4664712865904477750   9559803959325174929  5087927234000983963  \n",
              "3  4664712865904477750   8955667882044263414  5087927234000983963  \n",
              "4  4664712865904477750  17741967398854095262  5087927234000983963  "
            ]
          },
          "execution_count": 29,
          "metadata": {},
          "output_type": "execute_result"
        }
      ],
      "source": [
        "comp_marks = pd.read_csv('/content/drive/MyDrive/comp_marks.csv')\n",
        "comp_marks.drop_duplicates(inplace=True)\n",
        "comp_marks.head()"
      ]
    },
    {
      "cell_type": "markdown",
      "id": "fb02fc4d",
      "metadata": {
        "id": "fb02fc4d"
      },
      "source": [
        "- ISU - UID студента\n",
        "- ST_YEAR - год начала курса (первое число из формата 2020/2021)\n",
        "- SEMESTER - фактический семестр, в котором получена оценка\n",
        "- TYPE_NAME - форма отчетности\n",
        "- MARK - оценка (или зачет/незачет)\n",
        "- MAIN_PLAN - учебный план\n",
        "- DISC_ID - UID дисциплины\n",
        "- PRED_ID - UID преподавателя"
      ]
    },
    {
      "cell_type": "code",
      "execution_count": null,
      "id": "3021fa24",
      "metadata": {
        "colab": {
          "base_uri": "https://localhost:8080/"
        },
        "id": "3021fa24",
        "outputId": "3cc69bcc-a397-4a5a-a03d-62907b330c5a"
      },
      "outputs": [
        {
          "name": "stdout",
          "output_type": "stream",
          "text": [
            "<class 'pandas.core.frame.DataFrame'>\n",
            "Int64Index: 182793 entries, 0 to 182794\n",
            "Data columns (total 8 columns):\n",
            " #   Column     Non-Null Count   Dtype \n",
            "---  ------     --------------   ----- \n",
            " 0   ISU        182793 non-null  uint64\n",
            " 1   ST_YEAR    182793 non-null  int64 \n",
            " 2   SEMESTER   182793 non-null  int64 \n",
            " 3   TYPE_NAME  182793 non-null  object\n",
            " 4   MARK       182206 non-null  object\n",
            " 5   MAIN_PLAN  182793 non-null  uint64\n",
            " 6   DISC_ID    182793 non-null  uint64\n",
            " 7   PRED_ID    182793 non-null  uint64\n",
            "dtypes: int64(2), object(2), uint64(4)\n",
            "memory usage: 12.6+ MB\n"
          ]
        }
      ],
      "source": [
        "comp_marks.info()"
      ]
    },
    {
      "cell_type": "code",
      "execution_count": null,
      "id": "37d534f3",
      "metadata": {
        "colab": {
          "base_uri": "https://localhost:8080/"
        },
        "id": "37d534f3",
        "outputId": "87146c7f-da1f-4cb5-fde8-e9d3a1c3eb42"
      },
      "outputs": [
        {
          "data": {
            "text/plain": [
              "(182793, 8)"
            ]
          },
          "execution_count": 31,
          "metadata": {},
          "output_type": "execute_result"
        }
      ],
      "source": [
        "comp_marks.shape"
      ]
    },
    {
      "cell_type": "markdown",
      "id": "b7c694a0",
      "metadata": {
        "id": "b7c694a0"
      },
      "source": [
        "Видим, что в столбце MARK есть пропущенные значения. Заполнять target статистиками не очень хочется, поэтому просто удалим эти строки"
      ]
    },
    {
      "cell_type": "code",
      "execution_count": null,
      "id": "9b2e8b04",
      "metadata": {
        "id": "9b2e8b04"
      },
      "outputs": [],
      "source": [
        "comp_marks.dropna(inplace=True)"
      ]
    },
    {
      "cell_type": "markdown",
      "id": "a6d39c40",
      "metadata": {
        "id": "a6d39c40"
      },
      "source": [
        "Проверим, уникально ли идентифицируется каждая строка полями ISU, DISC_ID, SEMESTER, ST_YEAR, TYPE_NAME и MARK"
      ]
    },
    {
      "cell_type": "code",
      "execution_count": null,
      "id": "3d321325",
      "metadata": {
        "colab": {
          "base_uri": "https://localhost:8080/",
          "height": 455
        },
        "id": "3d321325",
        "outputId": "34beeb35-21ce-474c-bc3e-13f7e8db6810"
      },
      "outputs": [
        {
          "data": {
            "text/html": [
              "<div>\n",
              "<style scoped>\n",
              "    .dataframe tbody tr th:only-of-type {\n",
              "        vertical-align: middle;\n",
              "    }\n",
              "\n",
              "    .dataframe tbody tr th {\n",
              "        vertical-align: top;\n",
              "    }\n",
              "\n",
              "    .dataframe thead th {\n",
              "        text-align: right;\n",
              "    }\n",
              "</style>\n",
              "<table border=\"1\" class=\"dataframe\">\n",
              "  <thead>\n",
              "    <tr style=\"text-align: right;\">\n",
              "      <th></th>\n",
              "      <th></th>\n",
              "      <th></th>\n",
              "      <th></th>\n",
              "      <th></th>\n",
              "      <th></th>\n",
              "      <th>0</th>\n",
              "    </tr>\n",
              "    <tr>\n",
              "      <th>ISU</th>\n",
              "      <th>DISC_ID</th>\n",
              "      <th>SEMESTER</th>\n",
              "      <th>ST_YEAR</th>\n",
              "      <th>TYPE_NAME</th>\n",
              "      <th>MARK</th>\n",
              "      <th></th>\n",
              "    </tr>\n",
              "  </thead>\n",
              "  <tbody>\n",
              "    <tr>\n",
              "      <th rowspan=\"4\" valign=\"top\">89667946269696082</th>\n",
              "      <th>3974502934019510056</th>\n",
              "      <th>1</th>\n",
              "      <th>2019</th>\n",
              "      <th>Экзамен</th>\n",
              "      <th>4</th>\n",
              "      <td>2</td>\n",
              "    </tr>\n",
              "    <tr>\n",
              "      <th>7454837725181691115</th>\n",
              "      <th>1</th>\n",
              "      <th>2019</th>\n",
              "      <th>Экзамен</th>\n",
              "      <th>3</th>\n",
              "      <td>2</td>\n",
              "    </tr>\n",
              "    <tr>\n",
              "      <th>7835846297793492094</th>\n",
              "      <th>1</th>\n",
              "      <th>2019</th>\n",
              "      <th>Зачет</th>\n",
              "      <th>зачет</th>\n",
              "      <td>2</td>\n",
              "    </tr>\n",
              "    <tr>\n",
              "      <th>9028324525774925341</th>\n",
              "      <th>1</th>\n",
              "      <th>2019</th>\n",
              "      <th>Зачет</th>\n",
              "      <th>зачет</th>\n",
              "      <td>2</td>\n",
              "    </tr>\n",
              "    <tr>\n",
              "      <th>100263122180698976</th>\n",
              "      <th>1601392918367593206</th>\n",
              "      <th>1</th>\n",
              "      <th>2018</th>\n",
              "      <th>Зачет</th>\n",
              "      <th>зачет</th>\n",
              "      <td>2</td>\n",
              "    </tr>\n",
              "    <tr>\n",
              "      <th>...</th>\n",
              "      <th>...</th>\n",
              "      <th>...</th>\n",
              "      <th>...</th>\n",
              "      <th>...</th>\n",
              "      <th>...</th>\n",
              "      <td>...</td>\n",
              "    </tr>\n",
              "    <tr>\n",
              "      <th rowspan=\"5\" valign=\"top\">18403892705421388107</th>\n",
              "      <th>7835846297793492094</th>\n",
              "      <th>2</th>\n",
              "      <th>2019</th>\n",
              "      <th>Зачет</th>\n",
              "      <th>зачет</th>\n",
              "      <td>2</td>\n",
              "    </tr>\n",
              "    <tr>\n",
              "      <th rowspan=\"2\" valign=\"top\">9028324525774925341</th>\n",
              "      <th>1</th>\n",
              "      <th>2019</th>\n",
              "      <th>Зачет</th>\n",
              "      <th>зачет</th>\n",
              "      <td>2</td>\n",
              "    </tr>\n",
              "    <tr>\n",
              "      <th>2</th>\n",
              "      <th>2019</th>\n",
              "      <th>Зачет</th>\n",
              "      <th>зачет</th>\n",
              "      <td>2</td>\n",
              "    </tr>\n",
              "    <tr>\n",
              "      <th>13199182807431031308</th>\n",
              "      <th>2</th>\n",
              "      <th>2019</th>\n",
              "      <th>Экзамен</th>\n",
              "      <th>3</th>\n",
              "      <td>2</td>\n",
              "    </tr>\n",
              "    <tr>\n",
              "      <th>13789771458674529179</th>\n",
              "      <th>2</th>\n",
              "      <th>2019</th>\n",
              "      <th>Зачет</th>\n",
              "      <th>зачет</th>\n",
              "      <td>2</td>\n",
              "    </tr>\n",
              "  </tbody>\n",
              "</table>\n",
              "<p>6250 rows × 1 columns</p>\n",
              "</div>"
            ],
            "text/plain": [
              "                                                                            0\n",
              "ISU                  DISC_ID              SEMESTER ST_YEAR TYPE_NAME MARK    \n",
              "89667946269696082    3974502934019510056  1        2019    Экзамен   4      2\n",
              "                     7454837725181691115  1        2019    Экзамен   3      2\n",
              "                     7835846297793492094  1        2019    Зачет     зачет  2\n",
              "                     9028324525774925341  1        2019    Зачет     зачет  2\n",
              "100263122180698976   1601392918367593206  1        2018    Зачет     зачет  2\n",
              "...                                                                        ..\n",
              "18403892705421388107 7835846297793492094  2        2019    Зачет     зачет  2\n",
              "                     9028324525774925341  1        2019    Зачет     зачет  2\n",
              "                                          2        2019    Зачет     зачет  2\n",
              "                     13199182807431031308 2        2019    Экзамен   3      2\n",
              "                     13789771458674529179 2        2019    Зачет     зачет  2\n",
              "\n",
              "[6250 rows x 1 columns]"
            ]
          },
          "execution_count": 33,
          "metadata": {},
          "output_type": "execute_result"
        }
      ],
      "source": [
        "test = pd.DataFrame(comp_marks.groupby(by=['ISU', 'DISC_ID', 'SEMESTER', \n",
        "                                           'ST_YEAR', 'TYPE_NAME', 'MARK']).size())\n",
        "test[test[0]>1]"
      ]
    },
    {
      "cell_type": "markdown",
      "id": "6bde5c1d",
      "metadata": {
        "id": "6bde5c1d"
      },
      "source": [
        "Видим, что нет. Взглянем на первый объект, чтобы лучше понять, что это означает"
      ]
    },
    {
      "cell_type": "code",
      "execution_count": null,
      "id": "d3f1eb38",
      "metadata": {
        "colab": {
          "base_uri": "https://localhost:8080/",
          "height": 112
        },
        "id": "d3f1eb38",
        "outputId": "b93ac09b-e5d8-4e01-d098-bc586a4e89c2"
      },
      "outputs": [
        {
          "data": {
            "text/html": [
              "<div>\n",
              "<style scoped>\n",
              "    .dataframe tbody tr th:only-of-type {\n",
              "        vertical-align: middle;\n",
              "    }\n",
              "\n",
              "    .dataframe tbody tr th {\n",
              "        vertical-align: top;\n",
              "    }\n",
              "\n",
              "    .dataframe thead th {\n",
              "        text-align: right;\n",
              "    }\n",
              "</style>\n",
              "<table border=\"1\" class=\"dataframe\">\n",
              "  <thead>\n",
              "    <tr style=\"text-align: right;\">\n",
              "      <th></th>\n",
              "      <th>ISU</th>\n",
              "      <th>ST_YEAR</th>\n",
              "      <th>SEMESTER</th>\n",
              "      <th>TYPE_NAME</th>\n",
              "      <th>MARK</th>\n",
              "      <th>MAIN_PLAN</th>\n",
              "      <th>DISC_ID</th>\n",
              "      <th>PRED_ID</th>\n",
              "    </tr>\n",
              "  </thead>\n",
              "  <tbody>\n",
              "    <tr>\n",
              "      <th>32429</th>\n",
              "      <td>89667946269696082</td>\n",
              "      <td>2019</td>\n",
              "      <td>1</td>\n",
              "      <td>Экзамен</td>\n",
              "      <td>4</td>\n",
              "      <td>10080731777079285074</td>\n",
              "      <td>3974502934019510056</td>\n",
              "      <td>5087927234000983963</td>\n",
              "    </tr>\n",
              "    <tr>\n",
              "      <th>41656</th>\n",
              "      <td>89667946269696082</td>\n",
              "      <td>2019</td>\n",
              "      <td>1</td>\n",
              "      <td>Экзамен</td>\n",
              "      <td>4</td>\n",
              "      <td>10782470634773039372</td>\n",
              "      <td>3974502934019510056</td>\n",
              "      <td>10404421190345341785</td>\n",
              "    </tr>\n",
              "  </tbody>\n",
              "</table>\n",
              "</div>"
            ],
            "text/plain": [
              "                     ISU  ST_YEAR  SEMESTER TYPE_NAME MARK  \\\n",
              "32429  89667946269696082     2019         1   Экзамен    4   \n",
              "41656  89667946269696082     2019         1   Экзамен    4   \n",
              "\n",
              "                  MAIN_PLAN              DISC_ID               PRED_ID  \n",
              "32429  10080731777079285074  3974502934019510056   5087927234000983963  \n",
              "41656  10782470634773039372  3974502934019510056  10404421190345341785  "
            ]
          },
          "execution_count": 34,
          "metadata": {},
          "output_type": "execute_result"
        }
      ],
      "source": [
        "comp_marks[\n",
        "    (comp_marks['SEMESTER'] == 1) &\n",
        "    (comp_marks['DISC_ID'] == 3974502934019510056) &\n",
        "    (comp_marks['ST_YEAR'] == 2019) &\n",
        "    (comp_marks['TYPE_NAME'] == 'Экзамен') &\n",
        "    (comp_marks['ISU'] == 89667946269696082)\n",
        "]"
      ]
    },
    {
      "cell_type": "markdown",
      "id": "45360073",
      "metadata": {
        "id": "45360073"
      },
      "source": [
        "Объекты различаются по полям PRED_ID и MAIN_PLAN. В принципе, такая ситуация возможна, если, например, предмет принимают два преподавателя, а также если один предмет принадлежит разным учебным планам.\n",
        "\n",
        "Если заглянуть в файл baseline, предоставленный организаторами соревнования, можно увидеть, что в качестве уникального идентификатора попытки они используют 5 полей (те самые поля, которые включены в train за исключением target-метки). Это значит, что если объекты по этим 5 полям, а также в target-метке совпадают, то мы можем смело говорить о том, что они описывают одну и ту же попытку.\n",
        "\n",
        "Нам нужно каким-то образом схлопнуть такие объекты в один - как вариант, использовать бинаризацию, а затем группировку с суммированием по соотвутствующим столбцам. Так, в нашем случае будет уже не два объекта, а один, в котором будут проставлены единицы в признаках MAIN_PLAN_10080731777079285074, MAIN_PLAN_10782470634773039372, PRED_ID_5087927234000983963 и PRED_ID_10404421190345341785, а во всех других бинарных признаках - нули.\n",
        "\n",
        "Проблема состоит в том, что джоинить потом по бинаризованным столбцам - та ещё задачка. Поэтому посмотрим для начала датафрейм comp_disc, а затем вернёмся к этому этапу"
      ]
    },
    {
      "cell_type": "markdown",
      "id": "72a6611a",
      "metadata": {
        "id": "72a6611a"
      },
      "source": [
        "## comp_disc.csv"
      ]
    },
    {
      "cell_type": "code",
      "execution_count": null,
      "id": "86056255",
      "metadata": {
        "colab": {
          "base_uri": "https://localhost:8080/",
          "height": 206
        },
        "id": "86056255",
        "outputId": "80970a08-f93a-489a-cdfe-e69c81077b63"
      },
      "outputs": [
        {
          "data": {
            "text/html": [
              "<div>\n",
              "<style scoped>\n",
              "    .dataframe tbody tr th:only-of-type {\n",
              "        vertical-align: middle;\n",
              "    }\n",
              "\n",
              "    .dataframe tbody tr th {\n",
              "        vertical-align: top;\n",
              "    }\n",
              "\n",
              "    .dataframe thead th {\n",
              "        text-align: right;\n",
              "    }\n",
              "</style>\n",
              "<table border=\"1\" class=\"dataframe\">\n",
              "  <thead>\n",
              "    <tr style=\"text-align: right;\">\n",
              "      <th></th>\n",
              "      <th>PLAN_ID</th>\n",
              "      <th>DISC_ID</th>\n",
              "      <th>СHOICE</th>\n",
              "      <th>SEMESTER</th>\n",
              "      <th>DISC_NAME</th>\n",
              "      <th>DISC_DEP</th>\n",
              "      <th>KEYWORD_NAMES</th>\n",
              "    </tr>\n",
              "  </thead>\n",
              "  <tbody>\n",
              "    <tr>\n",
              "      <th>0</th>\n",
              "      <td>13019929768422386211</td>\n",
              "      <td>12540082885330665258</td>\n",
              "      <td>1.0</td>\n",
              "      <td>6.0</td>\n",
              "      <td>Методы криптографии</td>\n",
              "      <td>8139328495281102994</td>\n",
              "      <td>криптография, криптография, криптография, клас...</td>\n",
              "    </tr>\n",
              "    <tr>\n",
              "      <th>1</th>\n",
              "      <td>13019929768422386211</td>\n",
              "      <td>8471500331110227546</td>\n",
              "      <td>1.0</td>\n",
              "      <td>6.0</td>\n",
              "      <td>Анализ социальных сетей</td>\n",
              "      <td>8139328495281102994</td>\n",
              "      <td>технологии работы информацией, алгоритмы обраб...</td>\n",
              "    </tr>\n",
              "    <tr>\n",
              "      <th>2</th>\n",
              "      <td>13019929768422386211</td>\n",
              "      <td>11786710099399385350</td>\n",
              "      <td>1.0</td>\n",
              "      <td>6.0</td>\n",
              "      <td>Эффективное участие в научных и практических к...</td>\n",
              "      <td>1687590892619214362</td>\n",
              "      <td>NaN</td>\n",
              "    </tr>\n",
              "    <tr>\n",
              "      <th>3</th>\n",
              "      <td>13019929768422386211</td>\n",
              "      <td>18074319180892552096</td>\n",
              "      <td>1.0</td>\n",
              "      <td>6.0</td>\n",
              "      <td>Управление карьерой</td>\n",
              "      <td>1687590892619214362</td>\n",
              "      <td>NaN</td>\n",
              "    </tr>\n",
              "    <tr>\n",
              "      <th>4</th>\n",
              "      <td>13019929768422386211</td>\n",
              "      <td>17709308778630417516</td>\n",
              "      <td>1.0</td>\n",
              "      <td>6.0</td>\n",
              "      <td>Обработка изображений</td>\n",
              "      <td>8139328495281102994</td>\n",
              "      <td>классическое машинное обучение, генерация изоб...</td>\n",
              "    </tr>\n",
              "  </tbody>\n",
              "</table>\n",
              "</div>"
            ],
            "text/plain": [
              "                PLAN_ID               DISC_ID  СHOICE  SEMESTER  \\\n",
              "0  13019929768422386211  12540082885330665258     1.0       6.0   \n",
              "1  13019929768422386211   8471500331110227546     1.0       6.0   \n",
              "2  13019929768422386211  11786710099399385350     1.0       6.0   \n",
              "3  13019929768422386211  18074319180892552096     1.0       6.0   \n",
              "4  13019929768422386211  17709308778630417516     1.0       6.0   \n",
              "\n",
              "                                           DISC_NAME             DISC_DEP  \\\n",
              "0                                Методы криптографии  8139328495281102994   \n",
              "1                            Анализ социальных сетей  8139328495281102994   \n",
              "2  Эффективное участие в научных и практических к...  1687590892619214362   \n",
              "3                                Управление карьерой  1687590892619214362   \n",
              "4                              Обработка изображений  8139328495281102994   \n",
              "\n",
              "                                       KEYWORD_NAMES  \n",
              "0  криптография, криптография, криптография, клас...  \n",
              "1  технологии работы информацией, алгоритмы обраб...  \n",
              "2                                                NaN  \n",
              "3                                                NaN  \n",
              "4  классическое машинное обучение, генерация изоб...  "
            ]
          },
          "execution_count": 35,
          "metadata": {},
          "output_type": "execute_result"
        }
      ],
      "source": [
        "comp_disc = pd.read_csv('/content/drive/MyDrive/comp_disc.csv')\n",
        "comp_disc.head()"
      ]
    },
    {
      "cell_type": "markdown",
      "id": "6bb57cc8",
      "metadata": {
        "id": "6bb57cc8"
      },
      "source": [
        "- PLAN_ID - UID учебного плана (то же что и MAIN_PLAN - значения в этих колонках соответствуют друг другу и могут быть использованы для сопоставления таблиц)\n",
        "- DISC_ID - UID дисциплины\n",
        "- СHOICE - выборность дисциплины\n",
        "- SEMESTER - семестр проведения дисциплины в данном учебном плане\n",
        "- DISC_NAME - название дисциплины\n",
        "- DISC_DEP - факультет-реализатор дисциплины"
      ]
    },
    {
      "cell_type": "code",
      "execution_count": null,
      "id": "596a5899",
      "metadata": {
        "colab": {
          "base_uri": "https://localhost:8080/"
        },
        "id": "596a5899",
        "outputId": "1e38d01b-a7f5-466d-e546-fddeeff31db5"
      },
      "outputs": [
        {
          "name": "stdout",
          "output_type": "stream",
          "text": [
            "<class 'pandas.core.frame.DataFrame'>\n",
            "RangeIndex: 22517 entries, 0 to 22516\n",
            "Data columns (total 7 columns):\n",
            " #   Column         Non-Null Count  Dtype  \n",
            "---  ------         --------------  -----  \n",
            " 0   PLAN_ID        22517 non-null  uint64 \n",
            " 1   DISC_ID        22517 non-null  uint64 \n",
            " 2   СHOICE         22517 non-null  float64\n",
            " 3   SEMESTER       22517 non-null  float64\n",
            " 4   DISC_NAME      22517 non-null  object \n",
            " 5   DISC_DEP       22517 non-null  uint64 \n",
            " 6   KEYWORD_NAMES  13759 non-null  object \n",
            "dtypes: float64(2), object(2), uint64(3)\n",
            "memory usage: 1.2+ MB\n"
          ]
        }
      ],
      "source": [
        "comp_disc.info()"
      ]
    },
    {
      "cell_type": "code",
      "execution_count": null,
      "id": "d2ed4b9b",
      "metadata": {
        "colab": {
          "base_uri": "https://localhost:8080/"
        },
        "id": "d2ed4b9b",
        "outputId": "22d5d8b2-c67d-4b8e-a0b0-105254827561"
      },
      "outputs": [
        {
          "data": {
            "text/plain": [
              "(22517, 7)"
            ]
          },
          "execution_count": 37,
          "metadata": {},
          "output_type": "execute_result"
        }
      ],
      "source": [
        "comp_disc.shape"
      ]
    },
    {
      "cell_type": "markdown",
      "id": "6e8ba9a9",
      "metadata": {
        "id": "6e8ba9a9"
      },
      "source": [
        "Удалим столбец DISC_NAME, т.к. у нас уже есть DISC_ID, а также столбец KEYWORD_NAMES, т.к. он содержит почти половину пропущенных значений"
      ]
    },
    {
      "cell_type": "code",
      "execution_count": null,
      "id": "64eaefb7",
      "metadata": {
        "id": "64eaefb7"
      },
      "outputs": [],
      "source": [
        "comp_disc.drop(columns=['DISC_NAME', 'KEYWORD_NAMES'], inplace=True)"
      ]
    },
    {
      "cell_type": "markdown",
      "id": "f4f3a5e9",
      "metadata": {
        "id": "f4f3a5e9"
      },
      "source": [
        "Удалим образовавшиеся дубликаты (строки, которые отличались только по полю KEYWORD_NAMES)"
      ]
    },
    {
      "cell_type": "code",
      "execution_count": null,
      "id": "8d9d3d95",
      "metadata": {
        "id": "8d9d3d95"
      },
      "outputs": [],
      "source": [
        "comp_disc.drop_duplicates(inplace=True)"
      ]
    },
    {
      "cell_type": "markdown",
      "id": "b7582918",
      "metadata": {
        "id": "b7582918"
      },
      "source": [
        "Проверим, уникально ли идентифицируется каждая строка полями PLAN_ID, DISC_ID и SEMESTER"
      ]
    },
    {
      "cell_type": "code",
      "execution_count": null,
      "id": "0154d065",
      "metadata": {
        "colab": {
          "base_uri": "https://localhost:8080/",
          "height": 175
        },
        "id": "0154d065",
        "outputId": "d52f184f-f5b7-4d72-e2ac-2591123a9c0f"
      },
      "outputs": [
        {
          "data": {
            "text/html": [
              "<div>\n",
              "<style scoped>\n",
              "    .dataframe tbody tr th:only-of-type {\n",
              "        vertical-align: middle;\n",
              "    }\n",
              "\n",
              "    .dataframe tbody tr th {\n",
              "        vertical-align: top;\n",
              "    }\n",
              "\n",
              "    .dataframe thead th {\n",
              "        text-align: right;\n",
              "    }\n",
              "</style>\n",
              "<table border=\"1\" class=\"dataframe\">\n",
              "  <thead>\n",
              "    <tr style=\"text-align: right;\">\n",
              "      <th></th>\n",
              "      <th></th>\n",
              "      <th></th>\n",
              "      <th>0</th>\n",
              "    </tr>\n",
              "    <tr>\n",
              "      <th>PLAN_ID</th>\n",
              "      <th>DISC_ID</th>\n",
              "      <th>SEMESTER</th>\n",
              "      <th></th>\n",
              "    </tr>\n",
              "  </thead>\n",
              "  <tbody>\n",
              "    <tr>\n",
              "      <th>5928068423167434299</th>\n",
              "      <th>8803870721775400102</th>\n",
              "      <th>1.0</th>\n",
              "      <td>2</td>\n",
              "    </tr>\n",
              "    <tr>\n",
              "      <th rowspan=\"2\" valign=\"top\">9525771375887488353</th>\n",
              "      <th>7808003831249892566</th>\n",
              "      <th>2.0</th>\n",
              "      <td>2</td>\n",
              "    </tr>\n",
              "    <tr>\n",
              "      <th>8669037893956957554</th>\n",
              "      <th>2.0</th>\n",
              "      <td>2</td>\n",
              "    </tr>\n",
              "  </tbody>\n",
              "</table>\n",
              "</div>"
            ],
            "text/plain": [
              "                                                  0\n",
              "PLAN_ID             DISC_ID             SEMESTER   \n",
              "5928068423167434299 8803870721775400102 1.0       2\n",
              "9525771375887488353 7808003831249892566 2.0       2\n",
              "                    8669037893956957554 2.0       2"
            ]
          },
          "execution_count": 40,
          "metadata": {},
          "output_type": "execute_result"
        }
      ],
      "source": [
        "test = pd.DataFrame(comp_disc.groupby(by=['PLAN_ID', 'DISC_ID', 'SEMESTER']).size())\n",
        "test[test[0]>1]"
      ]
    },
    {
      "cell_type": "markdown",
      "id": "fe0fca54",
      "metadata": {
        "id": "fe0fca54"
      },
      "source": [
        "Видим, что нет. Отдельно посмотрим на эти строки"
      ]
    },
    {
      "cell_type": "code",
      "execution_count": null,
      "id": "6555503f",
      "metadata": {
        "colab": {
          "base_uri": "https://localhost:8080/",
          "height": 112
        },
        "id": "6555503f",
        "outputId": "d56798eb-5d15-4a4b-8dd6-416b24941d9d"
      },
      "outputs": [
        {
          "data": {
            "text/html": [
              "<div>\n",
              "<style scoped>\n",
              "    .dataframe tbody tr th:only-of-type {\n",
              "        vertical-align: middle;\n",
              "    }\n",
              "\n",
              "    .dataframe tbody tr th {\n",
              "        vertical-align: top;\n",
              "    }\n",
              "\n",
              "    .dataframe thead th {\n",
              "        text-align: right;\n",
              "    }\n",
              "</style>\n",
              "<table border=\"1\" class=\"dataframe\">\n",
              "  <thead>\n",
              "    <tr style=\"text-align: right;\">\n",
              "      <th></th>\n",
              "      <th>PLAN_ID</th>\n",
              "      <th>DISC_ID</th>\n",
              "      <th>СHOICE</th>\n",
              "      <th>SEMESTER</th>\n",
              "      <th>DISC_DEP</th>\n",
              "    </tr>\n",
              "  </thead>\n",
              "  <tbody>\n",
              "    <tr>\n",
              "      <th>19944</th>\n",
              "      <td>5928068423167434299</td>\n",
              "      <td>8803870721775400102</td>\n",
              "      <td>1.0</td>\n",
              "      <td>1.0</td>\n",
              "      <td>8738509941414530019</td>\n",
              "    </tr>\n",
              "    <tr>\n",
              "      <th>19945</th>\n",
              "      <td>5928068423167434299</td>\n",
              "      <td>8803870721775400102</td>\n",
              "      <td>0.0</td>\n",
              "      <td>1.0</td>\n",
              "      <td>8738509941414530019</td>\n",
              "    </tr>\n",
              "  </tbody>\n",
              "</table>\n",
              "</div>"
            ],
            "text/plain": [
              "                   PLAN_ID              DISC_ID  СHOICE  SEMESTER  \\\n",
              "19944  5928068423167434299  8803870721775400102     1.0       1.0   \n",
              "19945  5928068423167434299  8803870721775400102     0.0       1.0   \n",
              "\n",
              "                  DISC_DEP  \n",
              "19944  8738509941414530019  \n",
              "19945  8738509941414530019  "
            ]
          },
          "execution_count": 41,
          "metadata": {},
          "output_type": "execute_result"
        }
      ],
      "source": [
        "comp_disc[\n",
        "    (comp_disc['PLAN_ID'] == 5928068423167434299) &\n",
        "    (comp_disc['DISC_ID'] == 8803870721775400102) &\n",
        "    (comp_disc['SEMESTER'] == 1.0) &\n",
        "    (comp_disc['DISC_DEP'] == 8738509941414530019)\n",
        "]"
      ]
    },
    {
      "cell_type": "code",
      "execution_count": null,
      "id": "e1a5a761",
      "metadata": {
        "colab": {
          "base_uri": "https://localhost:8080/",
          "height": 112
        },
        "id": "e1a5a761",
        "outputId": "63fc4e4e-964d-4b74-d5f7-7d53c10875b2"
      },
      "outputs": [
        {
          "data": {
            "text/html": [
              "<div>\n",
              "<style scoped>\n",
              "    .dataframe tbody tr th:only-of-type {\n",
              "        vertical-align: middle;\n",
              "    }\n",
              "\n",
              "    .dataframe tbody tr th {\n",
              "        vertical-align: top;\n",
              "    }\n",
              "\n",
              "    .dataframe thead th {\n",
              "        text-align: right;\n",
              "    }\n",
              "</style>\n",
              "<table border=\"1\" class=\"dataframe\">\n",
              "  <thead>\n",
              "    <tr style=\"text-align: right;\">\n",
              "      <th></th>\n",
              "      <th>PLAN_ID</th>\n",
              "      <th>DISC_ID</th>\n",
              "      <th>СHOICE</th>\n",
              "      <th>SEMESTER</th>\n",
              "      <th>DISC_DEP</th>\n",
              "    </tr>\n",
              "  </thead>\n",
              "  <tbody>\n",
              "    <tr>\n",
              "      <th>13864</th>\n",
              "      <td>9525771375887488353</td>\n",
              "      <td>7808003831249892566</td>\n",
              "      <td>1.0</td>\n",
              "      <td>2.0</td>\n",
              "      <td>8738509941414530019</td>\n",
              "    </tr>\n",
              "    <tr>\n",
              "      <th>13865</th>\n",
              "      <td>9525771375887488353</td>\n",
              "      <td>7808003831249892566</td>\n",
              "      <td>0.0</td>\n",
              "      <td>2.0</td>\n",
              "      <td>8738509941414530019</td>\n",
              "    </tr>\n",
              "  </tbody>\n",
              "</table>\n",
              "</div>"
            ],
            "text/plain": [
              "                   PLAN_ID              DISC_ID  СHOICE  SEMESTER  \\\n",
              "13864  9525771375887488353  7808003831249892566     1.0       2.0   \n",
              "13865  9525771375887488353  7808003831249892566     0.0       2.0   \n",
              "\n",
              "                  DISC_DEP  \n",
              "13864  8738509941414530019  \n",
              "13865  8738509941414530019  "
            ]
          },
          "execution_count": 42,
          "metadata": {},
          "output_type": "execute_result"
        }
      ],
      "source": [
        "comp_disc[\n",
        "    (comp_disc['PLAN_ID'] == 9525771375887488353) &\n",
        "    (comp_disc['DISC_ID'] == 7808003831249892566) &\n",
        "    (comp_disc['SEMESTER'] == 2.0) &\n",
        "    (comp_disc['DISC_DEP'] == 8738509941414530019)\n",
        "]"
      ]
    },
    {
      "cell_type": "code",
      "execution_count": null,
      "id": "10cc7ad2",
      "metadata": {
        "colab": {
          "base_uri": "https://localhost:8080/",
          "height": 112
        },
        "id": "10cc7ad2",
        "outputId": "51d8b37a-cd86-4684-fb81-39fa30f440b4"
      },
      "outputs": [
        {
          "data": {
            "text/html": [
              "<div>\n",
              "<style scoped>\n",
              "    .dataframe tbody tr th:only-of-type {\n",
              "        vertical-align: middle;\n",
              "    }\n",
              "\n",
              "    .dataframe tbody tr th {\n",
              "        vertical-align: top;\n",
              "    }\n",
              "\n",
              "    .dataframe thead th {\n",
              "        text-align: right;\n",
              "    }\n",
              "</style>\n",
              "<table border=\"1\" class=\"dataframe\">\n",
              "  <thead>\n",
              "    <tr style=\"text-align: right;\">\n",
              "      <th></th>\n",
              "      <th>PLAN_ID</th>\n",
              "      <th>DISC_ID</th>\n",
              "      <th>СHOICE</th>\n",
              "      <th>SEMESTER</th>\n",
              "      <th>DISC_DEP</th>\n",
              "    </tr>\n",
              "  </thead>\n",
              "  <tbody>\n",
              "    <tr>\n",
              "      <th>13862</th>\n",
              "      <td>9525771375887488353</td>\n",
              "      <td>8669037893956957554</td>\n",
              "      <td>1.0</td>\n",
              "      <td>2.0</td>\n",
              "      <td>8738509941414530019</td>\n",
              "    </tr>\n",
              "    <tr>\n",
              "      <th>13863</th>\n",
              "      <td>9525771375887488353</td>\n",
              "      <td>8669037893956957554</td>\n",
              "      <td>0.0</td>\n",
              "      <td>2.0</td>\n",
              "      <td>8738509941414530019</td>\n",
              "    </tr>\n",
              "  </tbody>\n",
              "</table>\n",
              "</div>"
            ],
            "text/plain": [
              "                   PLAN_ID              DISC_ID  СHOICE  SEMESTER  \\\n",
              "13862  9525771375887488353  8669037893956957554     1.0       2.0   \n",
              "13863  9525771375887488353  8669037893956957554     0.0       2.0   \n",
              "\n",
              "                  DISC_DEP  \n",
              "13862  8738509941414530019  \n",
              "13863  8738509941414530019  "
            ]
          },
          "execution_count": 43,
          "metadata": {},
          "output_type": "execute_result"
        }
      ],
      "source": [
        "comp_disc[\n",
        "    (comp_disc['PLAN_ID'] == 9525771375887488353) &\n",
        "    (comp_disc['DISC_ID'] == 8669037893956957554) &\n",
        "    (comp_disc['SEMESTER'] == 2.0) &\n",
        "    (comp_disc['DISC_DEP'] == 8738509941414530019)\n",
        "]"
      ]
    },
    {
      "cell_type": "markdown",
      "id": "020b1897",
      "metadata": {
        "id": "020b1897"
      },
      "source": [
        "Таким образом, в этих парах строки различаются только по признаку CHOICE. Они противоречат друг другу, поэтому удалим их"
      ]
    },
    {
      "cell_type": "code",
      "execution_count": null,
      "id": "617f4861",
      "metadata": {
        "id": "617f4861"
      },
      "outputs": [],
      "source": [
        "comp_disc.drop(df.index[[19944, 19945, 13864, 13865, 13862, 13863]], inplace=True)"
      ]
    },
    {
      "cell_type": "markdown",
      "id": "180e6587",
      "metadata": {
        "id": "180e6587"
      },
      "source": [
        "Ещё раз проверим, что столбцы PLAN_ID, DISC_ID и SEMESTER уникально идентифицируют каждую строку"
      ]
    },
    {
      "cell_type": "code",
      "execution_count": null,
      "id": "fb066e51",
      "metadata": {
        "colab": {
          "base_uri": "https://localhost:8080/",
          "height": 81
        },
        "id": "fb066e51",
        "outputId": "3d482b6a-6d7d-4192-9632-70b02fbd1a04"
      },
      "outputs": [
        {
          "data": {
            "text/html": [
              "<div>\n",
              "<style scoped>\n",
              "    .dataframe tbody tr th:only-of-type {\n",
              "        vertical-align: middle;\n",
              "    }\n",
              "\n",
              "    .dataframe tbody tr th {\n",
              "        vertical-align: top;\n",
              "    }\n",
              "\n",
              "    .dataframe thead th {\n",
              "        text-align: right;\n",
              "    }\n",
              "</style>\n",
              "<table border=\"1\" class=\"dataframe\">\n",
              "  <thead>\n",
              "    <tr style=\"text-align: right;\">\n",
              "      <th></th>\n",
              "      <th></th>\n",
              "      <th></th>\n",
              "      <th>0</th>\n",
              "    </tr>\n",
              "    <tr>\n",
              "      <th>PLAN_ID</th>\n",
              "      <th>DISC_ID</th>\n",
              "      <th>SEMESTER</th>\n",
              "      <th></th>\n",
              "    </tr>\n",
              "  </thead>\n",
              "  <tbody>\n",
              "  </tbody>\n",
              "</table>\n",
              "</div>"
            ],
            "text/plain": [
              "Empty DataFrame\n",
              "Columns: [0]\n",
              "Index: []"
            ]
          },
          "execution_count": 45,
          "metadata": {},
          "output_type": "execute_result"
        }
      ],
      "source": [
        "test = pd.DataFrame(comp_disc.groupby(by=['PLAN_ID', 'DISC_ID', 'SEMESTER']).size())\n",
        "test[test[0]>1]"
      ]
    },
    {
      "cell_type": "markdown",
      "id": "4ce89f90",
      "metadata": {
        "id": "4ce89f90"
      },
      "source": [
        "Видим, что всё в порядке"
      ]
    },
    {
      "cell_type": "markdown",
      "id": "161b2abd",
      "metadata": {
        "id": "161b2abd"
      },
      "source": [
        "Присоединим comp_disc к comp_marks"
      ]
    },
    {
      "cell_type": "code",
      "execution_count": null,
      "id": "e57ae0e8",
      "metadata": {
        "colab": {
          "base_uri": "https://localhost:8080/",
          "height": 206
        },
        "id": "e57ae0e8",
        "outputId": "608eef12-c00c-4e48-acd7-fff780516bf0"
      },
      "outputs": [
        {
          "data": {
            "text/html": [
              "<div>\n",
              "<style scoped>\n",
              "    .dataframe tbody tr th:only-of-type {\n",
              "        vertical-align: middle;\n",
              "    }\n",
              "\n",
              "    .dataframe tbody tr th {\n",
              "        vertical-align: top;\n",
              "    }\n",
              "\n",
              "    .dataframe thead th {\n",
              "        text-align: right;\n",
              "    }\n",
              "</style>\n",
              "<table border=\"1\" class=\"dataframe\">\n",
              "  <thead>\n",
              "    <tr style=\"text-align: right;\">\n",
              "      <th></th>\n",
              "      <th>ISU</th>\n",
              "      <th>ST_YEAR</th>\n",
              "      <th>SEMESTER</th>\n",
              "      <th>TYPE_NAME</th>\n",
              "      <th>MARK</th>\n",
              "      <th>MAIN_PLAN</th>\n",
              "      <th>DISC_ID</th>\n",
              "      <th>PRED_ID</th>\n",
              "      <th>СHOICE</th>\n",
              "      <th>DISC_DEP</th>\n",
              "    </tr>\n",
              "  </thead>\n",
              "  <tbody>\n",
              "    <tr>\n",
              "      <th>0</th>\n",
              "      <td>17623928044460629977</td>\n",
              "      <td>2020</td>\n",
              "      <td>1</td>\n",
              "      <td>Зачет</td>\n",
              "      <td>зачет</td>\n",
              "      <td>4664712865904477750</td>\n",
              "      <td>10502311854018326223</td>\n",
              "      <td>5087927234000983963</td>\n",
              "      <td>0.0</td>\n",
              "      <td>5077682191738720383</td>\n",
              "    </tr>\n",
              "    <tr>\n",
              "      <th>1</th>\n",
              "      <td>16373558259905320371</td>\n",
              "      <td>2020</td>\n",
              "      <td>1</td>\n",
              "      <td>Зачет</td>\n",
              "      <td>зачет</td>\n",
              "      <td>4664712865904477750</td>\n",
              "      <td>10502311854018326223</td>\n",
              "      <td>4153126429887436865</td>\n",
              "      <td>0.0</td>\n",
              "      <td>5077682191738720383</td>\n",
              "    </tr>\n",
              "    <tr>\n",
              "      <th>2</th>\n",
              "      <td>9464810043552925003</td>\n",
              "      <td>2020</td>\n",
              "      <td>1</td>\n",
              "      <td>Зачет</td>\n",
              "      <td>зачет</td>\n",
              "      <td>4664712865904477750</td>\n",
              "      <td>10502311854018326223</td>\n",
              "      <td>4153126429887436865</td>\n",
              "      <td>0.0</td>\n",
              "      <td>5077682191738720383</td>\n",
              "    </tr>\n",
              "    <tr>\n",
              "      <th>3</th>\n",
              "      <td>15871173322760135366</td>\n",
              "      <td>2020</td>\n",
              "      <td>1</td>\n",
              "      <td>Зачет</td>\n",
              "      <td>зачет</td>\n",
              "      <td>4664712865904477750</td>\n",
              "      <td>10502311854018326223</td>\n",
              "      <td>4153126429887436865</td>\n",
              "      <td>0.0</td>\n",
              "      <td>5077682191738720383</td>\n",
              "    </tr>\n",
              "    <tr>\n",
              "      <th>4</th>\n",
              "      <td>5765721226963909264</td>\n",
              "      <td>2020</td>\n",
              "      <td>1</td>\n",
              "      <td>Зачет</td>\n",
              "      <td>зачет</td>\n",
              "      <td>4664712865904477750</td>\n",
              "      <td>10502311854018326223</td>\n",
              "      <td>4153126429887436865</td>\n",
              "      <td>0.0</td>\n",
              "      <td>5077682191738720383</td>\n",
              "    </tr>\n",
              "  </tbody>\n",
              "</table>\n",
              "</div>"
            ],
            "text/plain": [
              "                    ISU  ST_YEAR  SEMESTER TYPE_NAME   MARK  \\\n",
              "0  17623928044460629977     2020         1     Зачет  зачет   \n",
              "1  16373558259905320371     2020         1     Зачет  зачет   \n",
              "2   9464810043552925003     2020         1     Зачет  зачет   \n",
              "3  15871173322760135366     2020         1     Зачет  зачет   \n",
              "4   5765721226963909264     2020         1     Зачет  зачет   \n",
              "\n",
              "             MAIN_PLAN               DISC_ID              PRED_ID  СHOICE  \\\n",
              "0  4664712865904477750  10502311854018326223  5087927234000983963     0.0   \n",
              "1  4664712865904477750  10502311854018326223  4153126429887436865     0.0   \n",
              "2  4664712865904477750  10502311854018326223  4153126429887436865     0.0   \n",
              "3  4664712865904477750  10502311854018326223  4153126429887436865     0.0   \n",
              "4  4664712865904477750  10502311854018326223  4153126429887436865     0.0   \n",
              "\n",
              "              DISC_DEP  \n",
              "0  5077682191738720383  \n",
              "1  5077682191738720383  \n",
              "2  5077682191738720383  \n",
              "3  5077682191738720383  \n",
              "4  5077682191738720383  "
            ]
          },
          "execution_count": 46,
          "metadata": {},
          "output_type": "execute_result"
        }
      ],
      "source": [
        "comp_disc.rename(columns={\"PLAN_ID\": \"MAIN_PLAN\"}, inplace=True)\n",
        "\n",
        "comp_marks = pd.merge(comp_marks, comp_disc, on=['SEMESTER', 'DISC_ID', 'MAIN_PLAN'])\n",
        "comp_marks.head()"
      ]
    },
    {
      "cell_type": "code",
      "execution_count": null,
      "id": "c2bb91eb",
      "metadata": {
        "colab": {
          "base_uri": "https://localhost:8080/"
        },
        "id": "c2bb91eb",
        "outputId": "d5150572-ccd9-42c0-fd39-2c49aab75c9c"
      },
      "outputs": [
        {
          "data": {
            "text/plain": [
              "(182198, 10)"
            ]
          },
          "execution_count": 47,
          "metadata": {},
          "output_type": "execute_result"
        }
      ],
      "source": [
        "comp_marks.shape"
      ]
    },
    {
      "cell_type": "markdown",
      "id": "97c1c1d7",
      "metadata": {
        "id": "97c1c1d7"
      },
      "source": [
        "## Бинаризация"
      ]
    },
    {
      "cell_type": "markdown",
      "id": "931bc0e2",
      "metadata": {
        "id": "931bc0e2"
      },
      "source": [
        "Итак, вернёимя к comp_marks и бинаризуем столбцы MAIN_PLAN и PRED_ID"
      ]
    },
    {
      "cell_type": "code",
      "execution_count": null,
      "id": "ca029480",
      "metadata": {
        "id": "ca029480"
      },
      "outputs": [],
      "source": [
        "comp_marks = pd.get_dummies(data=comp_marks, columns=['MAIN_PLAN', 'PRED_ID', 'СHOICE', 'DISC_DEP'])"
      ]
    },
    {
      "cell_type": "markdown",
      "id": "b0789c4a",
      "metadata": {
        "id": "b0789c4a"
      },
      "source": [
        "Теперь схлопнем все неуникальные по оставшимся признакам строки в одну, чтобы добиться нужного эффекта"
      ]
    },
    {
      "cell_type": "code",
      "execution_count": null,
      "id": "5112e514",
      "metadata": {
        "id": "5112e514"
      },
      "outputs": [],
      "source": [
        "comp_marks = pd.DataFrame(comp_marks.\n",
        "                          groupby(by=['ISU', 'ST_YEAR', 'SEMESTER', 'TYPE_NAME',\n",
        "                                      'DISC_ID', 'MARK']).sum())"
      ]
    },
    {
      "cell_type": "markdown",
      "id": "2035bfd3",
      "metadata": {
        "id": "2035bfd3"
      },
      "source": [
        "У нас могли получиться не бинарные фичи, поэтому заменим все положительные целые числа в ячейках на 1"
      ]
    },
    {
      "cell_type": "code",
      "execution_count": null,
      "id": "427b6c7f",
      "metadata": {
        "id": "427b6c7f"
      },
      "outputs": [],
      "source": [
        "comp_marks = comp_marks.applymap(lambda x: 1 if x>0 else 0)"
      ]
    },
    {
      "cell_type": "markdown",
      "id": "ea0de0b1",
      "metadata": {
        "id": "ea0de0b1"
      },
      "source": [
        "Теперь нужно поработать с target-меткой. Посмотрим, какие конкретно значения в ней лежат"
      ]
    },
    {
      "cell_type": "code",
      "execution_count": null,
      "id": "1e3b2770",
      "metadata": {
        "colab": {
          "base_uri": "https://localhost:8080/"
        },
        "id": "1e3b2770",
        "outputId": "99cf577d-6015-407e-8e7b-ef671367f637"
      },
      "outputs": [
        {
          "data": {
            "text/plain": [
              "array(['зачет', '4', '5', '3', 'осв', '2', 'незач', 'неявка'],\n",
              "      dtype=object)"
            ]
          },
          "execution_count": 51,
          "metadata": {},
          "output_type": "execute_result"
        }
      ],
      "source": [
        "comp_marks.reset_index(inplace=True)\n",
        "comp_marks['MARK'].unique()"
      ]
    },
    {
      "cell_type": "markdown",
      "id": "6b7ce0e9",
      "metadata": {
        "id": "6b7ce0e9"
      },
      "source": [
        "Удалим строки со значением 'осв', т.к. они не говорят о наличии или отсутствии задолженности. Как правило, в вузах в таких случаях дают дополнительную попытку"
      ]
    },
    {
      "cell_type": "code",
      "execution_count": null,
      "id": "fdd19e1d",
      "metadata": {
        "id": "fdd19e1d"
      },
      "outputs": [],
      "source": [
        "comp_marks = comp_marks[comp_marks['MARK'] != 'осв']"
      ]
    },
    {
      "cell_type": "markdown",
      "id": "d06968c7",
      "metadata": {
        "id": "d06968c7"
      },
      "source": [
        "Преобразуем столбец MARK"
      ]
    },
    {
      "cell_type": "code",
      "execution_count": null,
      "id": "c5134878",
      "metadata": {
        "id": "c5134878"
      },
      "outputs": [],
      "source": [
        "comp_marks['MARK'] =comp_marks['MARK'].apply(lambda x:\n",
        "                                             1 if x in [2, 'незач', 'неявка'] else 0)\n",
        "comp_marks.rename(columns={\"MARK\": \"DEBT\"}, inplace=True)"
      ]
    },
    {
      "cell_type": "code",
      "execution_count": null,
      "id": "fe550448",
      "metadata": {
        "colab": {
          "base_uri": "https://localhost:8080/"
        },
        "id": "fe550448",
        "outputId": "a1b98988-cbbd-4b34-b0b6-83e927e810de"
      },
      "outputs": [
        {
          "data": {
            "text/plain": [
              "array([0, 1], dtype=int64)"
            ]
          },
          "execution_count": 54,
          "metadata": {},
          "output_type": "execute_result"
        }
      ],
      "source": [
        "comp_marks['DEBT'].unique()"
      ]
    },
    {
      "cell_type": "code",
      "execution_count": null,
      "id": "8691f738",
      "metadata": {
        "colab": {
          "base_uri": "https://localhost:8080/",
          "height": 317
        },
        "id": "8691f738",
        "outputId": "f909b3c6-d2dd-4d21-aeed-8e7940690a56"
      },
      "outputs": [
        {
          "data": {
            "text/html": [
              "<div>\n",
              "<style scoped>\n",
              "    .dataframe tbody tr th:only-of-type {\n",
              "        vertical-align: middle;\n",
              "    }\n",
              "\n",
              "    .dataframe tbody tr th {\n",
              "        vertical-align: top;\n",
              "    }\n",
              "\n",
              "    .dataframe thead th {\n",
              "        text-align: right;\n",
              "    }\n",
              "</style>\n",
              "<table border=\"1\" class=\"dataframe\">\n",
              "  <thead>\n",
              "    <tr style=\"text-align: right;\">\n",
              "      <th></th>\n",
              "      <th>ISU</th>\n",
              "      <th>ST_YEAR</th>\n",
              "      <th>SEMESTER</th>\n",
              "      <th>TYPE_NAME</th>\n",
              "      <th>DISC_ID</th>\n",
              "      <th>DEBT</th>\n",
              "      <th>MAIN_PLAN_5283359639739198</th>\n",
              "      <th>MAIN_PLAN_146705075719526806</th>\n",
              "      <th>MAIN_PLAN_268128140399877465</th>\n",
              "      <th>MAIN_PLAN_552722027248308867</th>\n",
              "      <th>...</th>\n",
              "      <th>DISC_DEP_12719755822715044906</th>\n",
              "      <th>DISC_DEP_12779834774062657273</th>\n",
              "      <th>DISC_DEP_12795149246808839444</th>\n",
              "      <th>DISC_DEP_12866670834530293829</th>\n",
              "      <th>DISC_DEP_12896073176567118977</th>\n",
              "      <th>DISC_DEP_13705271043836613455</th>\n",
              "      <th>DISC_DEP_16131140458546037814</th>\n",
              "      <th>DISC_DEP_16828277449727897492</th>\n",
              "      <th>DISC_DEP_17522523368314118110</th>\n",
              "      <th>DISC_DEP_18446744073709551615</th>\n",
              "    </tr>\n",
              "  </thead>\n",
              "  <tbody>\n",
              "    <tr>\n",
              "      <th>0</th>\n",
              "      <td>999504425170639</td>\n",
              "      <td>2018</td>\n",
              "      <td>1</td>\n",
              "      <td>Зачет</td>\n",
              "      <td>1447999327144393299</td>\n",
              "      <td>0</td>\n",
              "      <td>0</td>\n",
              "      <td>0</td>\n",
              "      <td>0</td>\n",
              "      <td>0</td>\n",
              "      <td>...</td>\n",
              "      <td>0</td>\n",
              "      <td>0</td>\n",
              "      <td>0</td>\n",
              "      <td>0</td>\n",
              "      <td>0</td>\n",
              "      <td>0</td>\n",
              "      <td>0</td>\n",
              "      <td>1</td>\n",
              "      <td>0</td>\n",
              "      <td>0</td>\n",
              "    </tr>\n",
              "    <tr>\n",
              "      <th>1</th>\n",
              "      <td>999504425170639</td>\n",
              "      <td>2018</td>\n",
              "      <td>1</td>\n",
              "      <td>Зачет</td>\n",
              "      <td>1601392918367593206</td>\n",
              "      <td>0</td>\n",
              "      <td>0</td>\n",
              "      <td>0</td>\n",
              "      <td>0</td>\n",
              "      <td>0</td>\n",
              "      <td>...</td>\n",
              "      <td>0</td>\n",
              "      <td>0</td>\n",
              "      <td>0</td>\n",
              "      <td>0</td>\n",
              "      <td>0</td>\n",
              "      <td>0</td>\n",
              "      <td>0</td>\n",
              "      <td>0</td>\n",
              "      <td>0</td>\n",
              "      <td>0</td>\n",
              "    </tr>\n",
              "    <tr>\n",
              "      <th>2</th>\n",
              "      <td>999504425170639</td>\n",
              "      <td>2018</td>\n",
              "      <td>1</td>\n",
              "      <td>Зачет</td>\n",
              "      <td>7835846297793492094</td>\n",
              "      <td>0</td>\n",
              "      <td>0</td>\n",
              "      <td>0</td>\n",
              "      <td>0</td>\n",
              "      <td>0</td>\n",
              "      <td>...</td>\n",
              "      <td>0</td>\n",
              "      <td>0</td>\n",
              "      <td>0</td>\n",
              "      <td>0</td>\n",
              "      <td>0</td>\n",
              "      <td>0</td>\n",
              "      <td>0</td>\n",
              "      <td>0</td>\n",
              "      <td>0</td>\n",
              "      <td>0</td>\n",
              "    </tr>\n",
              "    <tr>\n",
              "      <th>3</th>\n",
              "      <td>999504425170639</td>\n",
              "      <td>2018</td>\n",
              "      <td>1</td>\n",
              "      <td>Зачет</td>\n",
              "      <td>9028324525774925341</td>\n",
              "      <td>0</td>\n",
              "      <td>0</td>\n",
              "      <td>0</td>\n",
              "      <td>0</td>\n",
              "      <td>0</td>\n",
              "      <td>...</td>\n",
              "      <td>0</td>\n",
              "      <td>0</td>\n",
              "      <td>0</td>\n",
              "      <td>0</td>\n",
              "      <td>0</td>\n",
              "      <td>0</td>\n",
              "      <td>0</td>\n",
              "      <td>0</td>\n",
              "      <td>0</td>\n",
              "      <td>0</td>\n",
              "    </tr>\n",
              "    <tr>\n",
              "      <th>4</th>\n",
              "      <td>999504425170639</td>\n",
              "      <td>2018</td>\n",
              "      <td>1</td>\n",
              "      <td>Курсовой проект</td>\n",
              "      <td>15184687608032834671</td>\n",
              "      <td>0</td>\n",
              "      <td>0</td>\n",
              "      <td>0</td>\n",
              "      <td>0</td>\n",
              "      <td>0</td>\n",
              "      <td>...</td>\n",
              "      <td>0</td>\n",
              "      <td>1</td>\n",
              "      <td>0</td>\n",
              "      <td>0</td>\n",
              "      <td>0</td>\n",
              "      <td>0</td>\n",
              "      <td>0</td>\n",
              "      <td>0</td>\n",
              "      <td>0</td>\n",
              "      <td>0</td>\n",
              "    </tr>\n",
              "  </tbody>\n",
              "</table>\n",
              "<p>5 rows × 880 columns</p>\n",
              "</div>"
            ],
            "text/plain": [
              "               ISU  ST_YEAR  SEMESTER        TYPE_NAME               DISC_ID  \\\n",
              "0  999504425170639     2018         1            Зачет   1447999327144393299   \n",
              "1  999504425170639     2018         1            Зачет   1601392918367593206   \n",
              "2  999504425170639     2018         1            Зачет   7835846297793492094   \n",
              "3  999504425170639     2018         1            Зачет   9028324525774925341   \n",
              "4  999504425170639     2018         1  Курсовой проект  15184687608032834671   \n",
              "\n",
              "   DEBT  MAIN_PLAN_5283359639739198  MAIN_PLAN_146705075719526806  \\\n",
              "0     0                           0                             0   \n",
              "1     0                           0                             0   \n",
              "2     0                           0                             0   \n",
              "3     0                           0                             0   \n",
              "4     0                           0                             0   \n",
              "\n",
              "   MAIN_PLAN_268128140399877465  MAIN_PLAN_552722027248308867  ...  \\\n",
              "0                             0                             0  ...   \n",
              "1                             0                             0  ...   \n",
              "2                             0                             0  ...   \n",
              "3                             0                             0  ...   \n",
              "4                             0                             0  ...   \n",
              "\n",
              "   DISC_DEP_12719755822715044906  DISC_DEP_12779834774062657273  \\\n",
              "0                              0                              0   \n",
              "1                              0                              0   \n",
              "2                              0                              0   \n",
              "3                              0                              0   \n",
              "4                              0                              1   \n",
              "\n",
              "   DISC_DEP_12795149246808839444  DISC_DEP_12866670834530293829  \\\n",
              "0                              0                              0   \n",
              "1                              0                              0   \n",
              "2                              0                              0   \n",
              "3                              0                              0   \n",
              "4                              0                              0   \n",
              "\n",
              "   DISC_DEP_12896073176567118977  DISC_DEP_13705271043836613455  \\\n",
              "0                              0                              0   \n",
              "1                              0                              0   \n",
              "2                              0                              0   \n",
              "3                              0                              0   \n",
              "4                              0                              0   \n",
              "\n",
              "   DISC_DEP_16131140458546037814  DISC_DEP_16828277449727897492  \\\n",
              "0                              0                              1   \n",
              "1                              0                              0   \n",
              "2                              0                              0   \n",
              "3                              0                              0   \n",
              "4                              0                              0   \n",
              "\n",
              "   DISC_DEP_17522523368314118110  DISC_DEP_18446744073709551615  \n",
              "0                              0                              0  \n",
              "1                              0                              0  \n",
              "2                              0                              0  \n",
              "3                              0                              0  \n",
              "4                              0                              0  \n",
              "\n",
              "[5 rows x 880 columns]"
            ]
          },
          "execution_count": 55,
          "metadata": {},
          "output_type": "execute_result"
        }
      ],
      "source": [
        "comp_marks.head()"
      ]
    },
    {
      "cell_type": "markdown",
      "id": "7b33a199",
      "metadata": {
        "id": "7b33a199"
      },
      "source": [
        "Присоединим comp_marks к df"
      ]
    },
    {
      "cell_type": "code",
      "execution_count": null,
      "id": "348ab2d3",
      "metadata": {
        "colab": {
          "base_uri": "https://localhost:8080/",
          "height": 300
        },
        "id": "348ab2d3",
        "outputId": "0c59dce6-3768-421a-dcb7-52e58457fecd"
      },
      "outputs": [
        {
          "data": {
            "text/html": [
              "<div>\n",
              "<style scoped>\n",
              "    .dataframe tbody tr th:only-of-type {\n",
              "        vertical-align: middle;\n",
              "    }\n",
              "\n",
              "    .dataframe tbody tr th {\n",
              "        vertical-align: top;\n",
              "    }\n",
              "\n",
              "    .dataframe thead th {\n",
              "        text-align: right;\n",
              "    }\n",
              "</style>\n",
              "<table border=\"1\" class=\"dataframe\">\n",
              "  <thead>\n",
              "    <tr style=\"text-align: right;\">\n",
              "      <th></th>\n",
              "      <th>ISU</th>\n",
              "      <th>ST_YEAR</th>\n",
              "      <th>SEMESTER</th>\n",
              "      <th>DISC_ID</th>\n",
              "      <th>TYPE_NAME</th>\n",
              "      <th>DEBT</th>\n",
              "      <th>GENDER</th>\n",
              "      <th>CITIZENSHIP</th>\n",
              "      <th>EXAM_TYPE</th>\n",
              "      <th>EXAM_SUBJECT_1</th>\n",
              "      <th>...</th>\n",
              "      <th>DISC_DEP_12719755822715044906</th>\n",
              "      <th>DISC_DEP_12779834774062657273</th>\n",
              "      <th>DISC_DEP_12795149246808839444</th>\n",
              "      <th>DISC_DEP_12866670834530293829</th>\n",
              "      <th>DISC_DEP_12896073176567118977</th>\n",
              "      <th>DISC_DEP_13705271043836613455</th>\n",
              "      <th>DISC_DEP_16131140458546037814</th>\n",
              "      <th>DISC_DEP_16828277449727897492</th>\n",
              "      <th>DISC_DEP_17522523368314118110</th>\n",
              "      <th>DISC_DEP_18446744073709551615</th>\n",
              "    </tr>\n",
              "  </thead>\n",
              "  <tbody>\n",
              "    <tr>\n",
              "      <th>0</th>\n",
              "      <td>17623928044460629977</td>\n",
              "      <td>2020</td>\n",
              "      <td>1</td>\n",
              "      <td>10502311854018326223</td>\n",
              "      <td>Зачет</td>\n",
              "      <td>0</td>\n",
              "      <td>М</td>\n",
              "      <td>15601729049989747827</td>\n",
              "      <td>ЕГЭ</td>\n",
              "      <td>70786669040476600</td>\n",
              "      <td>...</td>\n",
              "      <td>0</td>\n",
              "      <td>0</td>\n",
              "      <td>0</td>\n",
              "      <td>0</td>\n",
              "      <td>0</td>\n",
              "      <td>0</td>\n",
              "      <td>0</td>\n",
              "      <td>0</td>\n",
              "      <td>0</td>\n",
              "      <td>0</td>\n",
              "    </tr>\n",
              "    <tr>\n",
              "      <th>1</th>\n",
              "      <td>17623928044460629977</td>\n",
              "      <td>2020</td>\n",
              "      <td>1</td>\n",
              "      <td>1601392918367593206</td>\n",
              "      <td>Зачет</td>\n",
              "      <td>0</td>\n",
              "      <td>М</td>\n",
              "      <td>15601729049989747827</td>\n",
              "      <td>ЕГЭ</td>\n",
              "      <td>70786669040476600</td>\n",
              "      <td>...</td>\n",
              "      <td>0</td>\n",
              "      <td>0</td>\n",
              "      <td>0</td>\n",
              "      <td>0</td>\n",
              "      <td>0</td>\n",
              "      <td>0</td>\n",
              "      <td>0</td>\n",
              "      <td>0</td>\n",
              "      <td>0</td>\n",
              "      <td>0</td>\n",
              "    </tr>\n",
              "    <tr>\n",
              "      <th>2</th>\n",
              "      <td>17623928044460629977</td>\n",
              "      <td>2020</td>\n",
              "      <td>1</td>\n",
              "      <td>9559803959325174929</td>\n",
              "      <td>Зачет</td>\n",
              "      <td>0</td>\n",
              "      <td>М</td>\n",
              "      <td>15601729049989747827</td>\n",
              "      <td>ЕГЭ</td>\n",
              "      <td>70786669040476600</td>\n",
              "      <td>...</td>\n",
              "      <td>0</td>\n",
              "      <td>0</td>\n",
              "      <td>0</td>\n",
              "      <td>0</td>\n",
              "      <td>0</td>\n",
              "      <td>0</td>\n",
              "      <td>0</td>\n",
              "      <td>0</td>\n",
              "      <td>0</td>\n",
              "      <td>0</td>\n",
              "    </tr>\n",
              "    <tr>\n",
              "      <th>3</th>\n",
              "      <td>17623928044460629977</td>\n",
              "      <td>2020</td>\n",
              "      <td>1</td>\n",
              "      <td>8955667882044263414</td>\n",
              "      <td>Зачет</td>\n",
              "      <td>0</td>\n",
              "      <td>М</td>\n",
              "      <td>15601729049989747827</td>\n",
              "      <td>ЕГЭ</td>\n",
              "      <td>70786669040476600</td>\n",
              "      <td>...</td>\n",
              "      <td>0</td>\n",
              "      <td>0</td>\n",
              "      <td>0</td>\n",
              "      <td>0</td>\n",
              "      <td>0</td>\n",
              "      <td>0</td>\n",
              "      <td>0</td>\n",
              "      <td>0</td>\n",
              "      <td>0</td>\n",
              "      <td>0</td>\n",
              "    </tr>\n",
              "    <tr>\n",
              "      <th>4</th>\n",
              "      <td>17623928044460629977</td>\n",
              "      <td>2020</td>\n",
              "      <td>1</td>\n",
              "      <td>17741967398854095262</td>\n",
              "      <td>Экзамен</td>\n",
              "      <td>0</td>\n",
              "      <td>М</td>\n",
              "      <td>15601729049989747827</td>\n",
              "      <td>ЕГЭ</td>\n",
              "      <td>70786669040476600</td>\n",
              "      <td>...</td>\n",
              "      <td>0</td>\n",
              "      <td>0</td>\n",
              "      <td>0</td>\n",
              "      <td>0</td>\n",
              "      <td>0</td>\n",
              "      <td>0</td>\n",
              "      <td>0</td>\n",
              "      <td>0</td>\n",
              "      <td>0</td>\n",
              "      <td>0</td>\n",
              "    </tr>\n",
              "  </tbody>\n",
              "</table>\n",
              "<p>5 rows × 891 columns</p>\n",
              "</div>"
            ],
            "text/plain": [
              "                    ISU  ST_YEAR  SEMESTER               DISC_ID TYPE_NAME  \\\n",
              "0  17623928044460629977     2020         1  10502311854018326223     Зачет   \n",
              "1  17623928044460629977     2020         1   1601392918367593206     Зачет   \n",
              "2  17623928044460629977     2020         1   9559803959325174929     Зачет   \n",
              "3  17623928044460629977     2020         1   8955667882044263414     Зачет   \n",
              "4  17623928044460629977     2020         1  17741967398854095262   Экзамен   \n",
              "\n",
              "   DEBT GENDER           CITIZENSHIP EXAM_TYPE     EXAM_SUBJECT_1  ...  \\\n",
              "0     0      М  15601729049989747827       ЕГЭ  70786669040476600  ...   \n",
              "1     0      М  15601729049989747827       ЕГЭ  70786669040476600  ...   \n",
              "2     0      М  15601729049989747827       ЕГЭ  70786669040476600  ...   \n",
              "3     0      М  15601729049989747827       ЕГЭ  70786669040476600  ...   \n",
              "4     0      М  15601729049989747827       ЕГЭ  70786669040476600  ...   \n",
              "\n",
              "   DISC_DEP_12719755822715044906  DISC_DEP_12779834774062657273  \\\n",
              "0                              0                              0   \n",
              "1                              0                              0   \n",
              "2                              0                              0   \n",
              "3                              0                              0   \n",
              "4                              0                              0   \n",
              "\n",
              "   DISC_DEP_12795149246808839444  DISC_DEP_12866670834530293829  \\\n",
              "0                              0                              0   \n",
              "1                              0                              0   \n",
              "2                              0                              0   \n",
              "3                              0                              0   \n",
              "4                              0                              0   \n",
              "\n",
              "   DISC_DEP_12896073176567118977 DISC_DEP_13705271043836613455  \\\n",
              "0                              0                             0   \n",
              "1                              0                             0   \n",
              "2                              0                             0   \n",
              "3                              0                             0   \n",
              "4                              0                             0   \n",
              "\n",
              "   DISC_DEP_16131140458546037814  DISC_DEP_16828277449727897492  \\\n",
              "0                              0                              0   \n",
              "1                              0                              0   \n",
              "2                              0                              0   \n",
              "3                              0                              0   \n",
              "4                              0                              0   \n",
              "\n",
              "   DISC_DEP_17522523368314118110  DISC_DEP_18446744073709551615  \n",
              "0                              0                              0  \n",
              "1                              0                              0  \n",
              "2                              0                              0  \n",
              "3                              0                              0  \n",
              "4                              0                              0  \n",
              "\n",
              "[5 rows x 891 columns]"
            ]
          },
          "execution_count": 56,
          "metadata": {},
          "output_type": "execute_result"
        }
      ],
      "source": [
        "df = pd.merge(df, comp_marks, on=['ISU', 'ST_YEAR', 'SEMESTER', 'TYPE_NAME', 'DISC_ID', 'DEBT'])\n",
        "df.head()"
      ]
    },
    {
      "cell_type": "markdown",
      "id": "03afd4c6",
      "metadata": {
        "id": "03afd4c6"
      },
      "source": [
        " # Знакомство с датафреймом + преобразования признаков"
      ]
    },
    {
      "cell_type": "markdown",
      "id": "eae196f0",
      "metadata": {
        "id": "eae196f0"
      },
      "source": [
        "## Основная информация"
      ]
    },
    {
      "cell_type": "markdown",
      "id": "3840eb03",
      "metadata": {
        "id": "3840eb03"
      },
      "source": [
        "Размер датафрейма"
      ]
    },
    {
      "cell_type": "code",
      "execution_count": null,
      "id": "4a032022",
      "metadata": {
        "colab": {
          "base_uri": "https://localhost:8080/"
        },
        "id": "4a032022",
        "outputId": "7a199858-6047-4cb4-f21d-cff2ed3bbc5b"
      },
      "outputs": [
        {
          "data": {
            "text/plain": [
              "(170890, 891)"
            ]
          },
          "execution_count": 57,
          "metadata": {},
          "output_type": "execute_result"
        }
      ],
      "source": [
        "df.shape"
      ]
    },
    {
      "cell_type": "markdown",
      "id": "40ab56d4",
      "metadata": {
        "id": "40ab56d4"
      },
      "source": [
        "Общая сводка"
      ]
    },
    {
      "cell_type": "code",
      "execution_count": null,
      "id": "28d1bdf5",
      "metadata": {
        "colab": {
          "base_uri": "https://localhost:8080/"
        },
        "id": "28d1bdf5",
        "outputId": "c82edc14-2816-4ce6-8f86-2b1b15c3f579"
      },
      "outputs": [
        {
          "name": "stdout",
          "output_type": "stream",
          "text": [
            "<class 'pandas.core.frame.DataFrame'>\n",
            "Int64Index: 170890 entries, 0 to 170889\n",
            "Columns: 891 entries, ISU to DISC_DEP_18446744073709551615\n",
            "dtypes: float64(3), int64(877), object(4), uint64(7)\n",
            "memory usage: 1.1+ GB\n"
          ]
        }
      ],
      "source": [
        "df.info()"
      ]
    },
    {
      "cell_type": "markdown",
      "id": "b6d18bf4",
      "metadata": {
        "id": "b6d18bf4"
      },
      "source": [
        "## Заполнение пропусков"
      ]
    },
    {
      "cell_type": "markdown",
      "id": "aef8dbb9",
      "metadata": {
        "id": "aef8dbb9"
      },
      "source": [
        "Помним, что у нас были пропуски в столбцах ADMITTED_EXAM. Это столбцы типа float. Заметим, что их значения - баллы за егэ, которые, вообще говоря, не могут быть дробными. Поэтому возьмём в качестве заполнителя медиану по всем значениям."
      ]
    },
    {
      "cell_type": "code",
      "execution_count": null,
      "id": "54122f1c",
      "metadata": {
        "id": "54122f1c"
      },
      "outputs": [],
      "source": [
        "df.ADMITTED_EXAM_1  = df.ADMITTED_EXAM_1 .fillna(df.ADMITTED_EXAM_1.median())\n",
        "df.ADMITTED_EXAM_2  = df.ADMITTED_EXAM_2.fillna(df.ADMITTED_EXAM_2.median())\n",
        "df.ADMITTED_EXAM_3  = df.ADMITTED_EXAM_3 .fillna(df.ADMITTED_EXAM_3.median())"
      ]
    },
    {
      "cell_type": "markdown",
      "id": "bccfd4e2",
      "metadata": {
        "id": "bccfd4e2"
      },
      "source": [
        "## Изменение типов столбцов"
      ]
    },
    {
      "cell_type": "markdown",
      "id": "4ba337b1",
      "metadata": {
        "id": "4ba337b1"
      },
      "source": [
        "Признаки DISC_ID, TYPE_NAME, GENDER, CITIZENSHIP, EXAM_TYPE, EXAM_SUBJECT_1, EXAM_SUBJECT_2, EXAM_SUBJECT_3, ADMITTED_SUBJECT_PRIZE_LEVEL, REGION_ID являются категориальными. Приведем их к категориальному типу"
      ]
    },
    {
      "cell_type": "code",
      "execution_count": null,
      "id": "8b911334",
      "metadata": {
        "id": "8b911334"
      },
      "outputs": [],
      "source": [
        "for col in ['DISC_ID', 'TYPE_NAME', 'GENDER', 'CITIZENSHIP', \n",
        "            'EXAM_TYPE', 'EXAM_SUBJECT_1', 'EXAM_SUBJECT_2', \n",
        "            'EXAM_SUBJECT_3', 'ADMITTED_SUBJECT_PRIZE_LEVEL', 'REGION_ID']:\n",
        "    \n",
        "    df[col] = df[col].astype('category')"
      ]
    },
    {
      "cell_type": "markdown",
      "id": "3a8b9c55",
      "metadata": {
        "id": "3a8b9c55"
      },
      "source": [
        "Посмотрим описательные статистики по float столбцам"
      ]
    },
    {
      "cell_type": "code",
      "execution_count": null,
      "id": "009d32f3",
      "metadata": {
        "colab": {
          "base_uri": "https://localhost:8080/"
        },
        "id": "009d32f3",
        "outputId": "3664ee77-a0ce-44ba-91cc-6d659ee1b5ae"
      },
      "outputs": [
        {
          "data": {
            "text/html": [
              "<div>\n",
              "<style scoped>\n",
              "    .dataframe tbody tr th:only-of-type {\n",
              "        vertical-align: middle;\n",
              "    }\n",
              "\n",
              "    .dataframe tbody tr th {\n",
              "        vertical-align: top;\n",
              "    }\n",
              "\n",
              "    .dataframe thead th {\n",
              "        text-align: right;\n",
              "    }\n",
              "</style>\n",
              "<table border=\"1\" class=\"dataframe\">\n",
              "  <thead>\n",
              "    <tr style=\"text-align: right;\">\n",
              "      <th></th>\n",
              "      <th>ADMITTED_EXAM_1</th>\n",
              "      <th>ADMITTED_EXAM_2</th>\n",
              "      <th>ADMITTED_EXAM_3</th>\n",
              "    </tr>\n",
              "  </thead>\n",
              "  <tbody>\n",
              "    <tr>\n",
              "      <th>count</th>\n",
              "      <td>170890.000000</td>\n",
              "      <td>170890.000000</td>\n",
              "      <td>170890.000000</td>\n",
              "    </tr>\n",
              "    <tr>\n",
              "      <th>mean</th>\n",
              "      <td>80.275341</td>\n",
              "      <td>82.608713</td>\n",
              "      <td>87.204412</td>\n",
              "    </tr>\n",
              "    <tr>\n",
              "      <th>std</th>\n",
              "      <td>9.437942</td>\n",
              "      <td>15.049345</td>\n",
              "      <td>8.802641</td>\n",
              "    </tr>\n",
              "    <tr>\n",
              "      <th>min</th>\n",
              "      <td>0.000000</td>\n",
              "      <td>0.000000</td>\n",
              "      <td>0.000000</td>\n",
              "    </tr>\n",
              "    <tr>\n",
              "      <th>25%</th>\n",
              "      <td>74.000000</td>\n",
              "      <td>79.000000</td>\n",
              "      <td>82.000000</td>\n",
              "    </tr>\n",
              "    <tr>\n",
              "      <th>50%</th>\n",
              "      <td>80.000000</td>\n",
              "      <td>84.000000</td>\n",
              "      <td>89.000000</td>\n",
              "    </tr>\n",
              "    <tr>\n",
              "      <th>75%</th>\n",
              "      <td>86.000000</td>\n",
              "      <td>91.000000</td>\n",
              "      <td>94.000000</td>\n",
              "    </tr>\n",
              "    <tr>\n",
              "      <th>max</th>\n",
              "      <td>100.000000</td>\n",
              "      <td>100.000000</td>\n",
              "      <td>100.000000</td>\n",
              "    </tr>\n",
              "  </tbody>\n",
              "</table>\n",
              "</div>"
            ],
            "text/plain": [
              "       ADMITTED_EXAM_1  ADMITTED_EXAM_2  ADMITTED_EXAM_3\n",
              "count    170890.000000    170890.000000    170890.000000\n",
              "mean         80.275341        82.608713        87.204412\n",
              "std           9.437942        15.049345         8.802641\n",
              "min           0.000000         0.000000         0.000000\n",
              "25%          74.000000        79.000000        82.000000\n",
              "50%          80.000000        84.000000        89.000000\n",
              "75%          86.000000        91.000000        94.000000\n",
              "max         100.000000       100.000000       100.000000"
            ]
          },
          "execution_count": 61,
          "metadata": {},
          "output_type": "execute_result"
        }
      ],
      "source": [
        "df.describe(include=[\"float64\"])"
      ]
    },
    {
      "cell_type": "markdown",
      "id": "9dcd9cc4",
      "metadata": {
        "id": "9dcd9cc4"
      },
      "source": [
        "Посмотрим описательные статистики по category столбцам"
      ]
    },
    {
      "cell_type": "code",
      "execution_count": null,
      "id": "08e398d2",
      "metadata": {
        "colab": {
          "base_uri": "https://localhost:8080/"
        },
        "id": "08e398d2",
        "outputId": "b49b88ae-2fdc-420d-93b5-339ba0f3f2be"
      },
      "outputs": [
        {
          "data": {
            "text/html": [
              "<div>\n",
              "<style scoped>\n",
              "    .dataframe tbody tr th:only-of-type {\n",
              "        vertical-align: middle;\n",
              "    }\n",
              "\n",
              "    .dataframe tbody tr th {\n",
              "        vertical-align: top;\n",
              "    }\n",
              "\n",
              "    .dataframe thead th {\n",
              "        text-align: right;\n",
              "    }\n",
              "</style>\n",
              "<table border=\"1\" class=\"dataframe\">\n",
              "  <thead>\n",
              "    <tr style=\"text-align: right;\">\n",
              "      <th></th>\n",
              "      <th>DISC_ID</th>\n",
              "      <th>TYPE_NAME</th>\n",
              "      <th>GENDER</th>\n",
              "      <th>CITIZENSHIP</th>\n",
              "      <th>EXAM_TYPE</th>\n",
              "      <th>EXAM_SUBJECT_1</th>\n",
              "      <th>EXAM_SUBJECT_2</th>\n",
              "      <th>EXAM_SUBJECT_3</th>\n",
              "      <th>ADMITTED_SUBJECT_PRIZE_LEVEL</th>\n",
              "      <th>REGION_ID</th>\n",
              "    </tr>\n",
              "  </thead>\n",
              "  <tbody>\n",
              "    <tr>\n",
              "      <th>count</th>\n",
              "      <td>170890</td>\n",
              "      <td>170890</td>\n",
              "      <td>170890</td>\n",
              "      <td>170890</td>\n",
              "      <td>170890</td>\n",
              "      <td>170890</td>\n",
              "      <td>170890</td>\n",
              "      <td>170890</td>\n",
              "      <td>170890</td>\n",
              "      <td>170890</td>\n",
              "    </tr>\n",
              "    <tr>\n",
              "      <th>unique</th>\n",
              "      <td>946</td>\n",
              "      <td>4</td>\n",
              "      <td>2</td>\n",
              "      <td>11</td>\n",
              "      <td>3</td>\n",
              "      <td>6</td>\n",
              "      <td>8</td>\n",
              "      <td>5</td>\n",
              "      <td>6</td>\n",
              "      <td>85</td>\n",
              "    </tr>\n",
              "    <tr>\n",
              "      <th>top</th>\n",
              "      <td>9028324525774925341</td>\n",
              "      <td>Зачет</td>\n",
              "      <td>М</td>\n",
              "      <td>15601729049989747827</td>\n",
              "      <td>ЕГЭ</td>\n",
              "      <td>70786669040476600</td>\n",
              "      <td>5533732657842394915</td>\n",
              "      <td>8388269026169219461</td>\n",
              "      <td>ЕГЭ</td>\n",
              "      <td>4877310761925081124</td>\n",
              "    </tr>\n",
              "    <tr>\n",
              "      <th>freq</th>\n",
              "      <td>11209</td>\n",
              "      <td>86996</td>\n",
              "      <td>115644</td>\n",
              "      <td>164710</td>\n",
              "      <td>137305</td>\n",
              "      <td>169444</td>\n",
              "      <td>124988</td>\n",
              "      <td>166176</td>\n",
              "      <td>131980</td>\n",
              "      <td>56395</td>\n",
              "    </tr>\n",
              "  </tbody>\n",
              "</table>\n",
              "</div>"
            ],
            "text/plain": [
              "                    DISC_ID TYPE_NAME  GENDER           CITIZENSHIP EXAM_TYPE  \\\n",
              "count                170890    170890  170890                170890    170890   \n",
              "unique                  946         4       2                    11         3   \n",
              "top     9028324525774925341     Зачет       М  15601729049989747827       ЕГЭ   \n",
              "freq                  11209     86996  115644                164710    137305   \n",
              "\n",
              "           EXAM_SUBJECT_1       EXAM_SUBJECT_2       EXAM_SUBJECT_3  \\\n",
              "count              170890               170890               170890   \n",
              "unique                  6                    8                    5   \n",
              "top     70786669040476600  5533732657842394915  8388269026169219461   \n",
              "freq               169444               124988               166176   \n",
              "\n",
              "       ADMITTED_SUBJECT_PRIZE_LEVEL            REGION_ID  \n",
              "count                        170890               170890  \n",
              "unique                            6                   85  \n",
              "top                             ЕГЭ  4877310761925081124  \n",
              "freq                         131980                56395  "
            ]
          },
          "execution_count": 62,
          "metadata": {},
          "output_type": "execute_result"
        }
      ],
      "source": [
        "df.describe(include=\"category\")"
      ]
    },
    {
      "cell_type": "markdown",
      "id": "bce41931",
      "metadata": {
        "id": "bce41931"
      },
      "source": [
        "# Exploratory data analysis"
      ]
    },
    {
      "cell_type": "markdown",
      "id": "209fb27e",
      "metadata": {
        "id": "209fb27e"
      },
      "source": [
        "## Target"
      ]
    },
    {
      "cell_type": "markdown",
      "id": "febd125e",
      "metadata": {
        "id": "febd125e"
      },
      "source": [
        "Посмотрим распределение целевой переменной"
      ]
    },
    {
      "cell_type": "code",
      "execution_count": null,
      "id": "96744010",
      "metadata": {
        "colab": {
          "base_uri": "https://localhost:8080/",
          "height": 390
        },
        "id": "96744010",
        "outputId": "e3a73d1d-034d-4c06-b3fd-f949f03cc38c"
      },
      "outputs": [
        {
          "data": {
            "image/png": "[encoded data removed]",
            "text/plain": [
              "<Figure size 576x432 with 1 Axes>"
            ]
          },
          "metadata": {
            "needs_background": "light"
          },
          "output_type": "display_data"
        }
      ],
      "source": [
        "rcParams['figure.figsize'] = 8, 6\n",
        "\n",
        "# Функция, добавляющая подпись процентов на график barplot\n",
        "def plot_text(ax):\n",
        "    for p in ax.patches:\n",
        "        percentage = '{:.1f}%'.format(p.get_height())\n",
        "        ax.annotate(\n",
        "            percentage,  # текст\n",
        "            # координата xy\n",
        "            (p.get_x() + p.get_width() / 2., p.get_height()),\n",
        "            # центрирование\n",
        "            ha='center',\n",
        "            va='center',\n",
        "            xytext=(0, 10),\n",
        "            # точка смещения относительно координаты\n",
        "            textcoords='offset points',\n",
        "            fontsize=14)\n",
        "        \n",
        "# Датафрейм частот значений      \n",
        "norm_target = pd.DataFrame(df['DEBT'].value_counts(normalize=True).mul(100)\\\n",
        "                           .rename('percent')).reset_index()\n",
        "\n",
        "ax = sns.barplot(x='index', y='percent', data=norm_target)\n",
        "plot_text(ax)"
      ]
    },
    {
      "cell_type": "markdown",
      "id": "61a1d4ba",
      "metadata": {
        "id": "61a1d4ba"
      },
      "source": [
        "Видим сильный дисбаланс классов, это нужно будет учесть при обучении алгоритма"
      ]
    },
    {
      "cell_type": "markdown",
      "id": "fcc99c4b",
      "metadata": {
        "id": "fcc99c4b"
      },
      "source": [
        "Придумаем ряд гипотез, которые помогут нам лучше понять данные, и сразу же их проверим"
      ]
    },
    {
      "cell_type": "markdown",
      "id": "2c21c71b",
      "metadata": {
        "id": "2c21c71b"
      },
      "source": [
        "## 1 гипотеза"
      ]
    },
    {
      "cell_type": "markdown",
      "id": "a023f035",
      "metadata": {
        "id": "a023f035"
      },
      "source": [
        "Доля задолженностей у мужчин больше, чем у женщин (иными словами, вероятность того, что случайно выбранный объект с gender='М' будет принадлежать целевому классу больше вероятности того, что случайно выбранный объект с gender='Ж' будет принадлежать целевому классу)"
      ]
    },
    {
      "cell_type": "code",
      "execution_count": null,
      "id": "89b0a5bf",
      "metadata": {
        "colab": {
          "base_uri": "https://localhost:8080/",
          "height": 618
        },
        "id": "89b0a5bf",
        "outputId": "a5124a62-905e-4997-93bc-b8fac94dbef1"
      },
      "outputs": [
        {
          "data": {
            "text/plain": [
              "<Figure size 864x5760 with 0 Axes>"
            ]
          },
          "metadata": {},
          "output_type": "display_data"
        },
        {
          "data": {
            "image/png": "[encoded data removed]",
            "text/plain": [
              "<Figure size 618.375x576 with 1 Axes>"
            ]
          },
          "metadata": {
            "needs_background": "light"
          },
          "output_type": "display_data"
        }
      ],
      "source": [
        "fig = plt.gcf()\n",
        "fig.set_size_inches(12, 80)\n",
        "\n",
        "rcParams['figure.figsize'] = 8, 6\n",
        "\n",
        "temp_df_1 = df[df['GENDER']=='М']['DEBT']\\\n",
        "                .value_counts(normalize=True).rename('percent').reset_index()\n",
        "temp_df_1['GENDER'] = ['М'] * len(temp_df_1)\n",
        "\n",
        "temp_df_2 = df[df['GENDER']=='Ж']['DEBT']\\\n",
        "                .value_counts(normalize=True).rename('percent').reset_index()\n",
        "temp_df_2['GENDER'] = ['Ж'] * len(temp_df_2)\n",
        "\n",
        "\n",
        "target_values = pd.concat([temp_df_1, temp_df_2])\n",
        "target_values.rename(columns={\"index\": \"target\"}, inplace=True)\n",
        "target_values['percent']=target_values['percent']*100\n",
        "          \n",
        "g = sns.catplot(x='GENDER', y='percent', hue='target', data=target_values, kind='bar', height=8)\n",
        "plt.title('Распределение target в разрезе пола')\n",
        "\n",
        "plot_text(g.ax);"
      ]
    },
    {
      "cell_type": "markdown",
      "id": "103d56ff",
      "metadata": {
        "id": "103d56ff"
      },
      "source": [
        "Видим, что доля попыток, закончившихся задолженностью у мужчин почти в 2 раза больше, чем у женщин. Гипотеза подтвердилась, и можно сделать вывод, что пол является важным признаком в нашей задаче"
      ]
    },
    {
      "cell_type": "markdown",
      "id": "123c076b",
      "metadata": {
        "id": "123c076b"
      },
      "source": [
        "## 2 гипотеза"
      ]
    },
    {
      "cell_type": "markdown",
      "id": "2772069f",
      "metadata": {
        "id": "2772069f"
      },
      "source": [
        "Доля задолженностей у олимпиадников меньше, чем у тех, кто сдавал ЕГЭ или вступительные испытания.\n",
        "\n",
        "Это выглядит здравым предположением, так как задачи олимпиад обычно сложнее, и победители должны потратить на них много времени, параллельно готовясь к ЕГЭ/ ВИ. Даже людей, просто участвующих в олимпиадах обычно не очень много, и сложно представить, что те, кто в них побеждают, могут иметь плохие оценки в вузе"
      ]
    },
    {
      "cell_type": "code",
      "execution_count": null,
      "id": "4e7fb7ce",
      "metadata": {
        "colab": {
          "base_uri": "https://localhost:8080/",
          "height": 601
        },
        "id": "4e7fb7ce",
        "outputId": "8eba8112-639a-478a-bcdb-17b142c84ff1"
      },
      "outputs": [
        {
          "data": {
            "image/png": "[encoded data removed]",
            "text/plain": [
              "<Figure size 618.375x576 with 1 Axes>"
            ]
          },
          "metadata": {
            "needs_background": "light"
          },
          "output_type": "display_data"
        }
      ],
      "source": [
        "temp_df_1 = df[df['EXAM_TYPE']=='ЕГЭ']['DEBT']\\\n",
        "                .value_counts(normalize=True).rename('percent').reset_index()\n",
        "temp_df_1['EXAM_TYPE'] = ['ЕГЭ'] * len(temp_df_1)\n",
        "\n",
        "temp_df_2 = df[df['EXAM_TYPE']=='ВИ']['DEBT']\\\n",
        "                .value_counts(normalize=True).rename('percent').reset_index()\n",
        "temp_df_2['EXAM_TYPE'] = ['ВИ'] * len(temp_df_1)\n",
        "\n",
        "temp_df_3 = df[df['EXAM_TYPE']=='ОЛИМПИАДА']['DEBT']\\\n",
        "                .value_counts(normalize=True).rename('percent').reset_index()\n",
        "temp_df_3['EXAM_TYPE'] = ['ОЛИМПИАДА'] * len(temp_df_1)\n",
        "\n",
        "target_values = pd.concat([temp_df_1, temp_df_2, temp_df_3])\n",
        "target_values.rename(columns={\"index\": \"target\"}, inplace=True)\n",
        "target_values['percent']=target_values['percent']*100\n",
        "          \n",
        "g = sns.catplot(x='EXAM_TYPE', y='percent', hue='target', data=target_values, kind='bar', height=8)\n",
        "plt.title('Распределение target в разрезе типа экзамена')\n",
        "\n",
        "plot_text(g.ax);"
      ]
    },
    {
      "cell_type": "markdown",
      "id": "28015f72",
      "metadata": {
        "id": "28015f72"
      },
      "source": [
        "Вторая гипотеза тоже подтвердилась - видим, что олимпиадники более успешны относительно других каст, хоть они и обогнали сдающих ЕГЭ всего на 0.4%. При этом, у людей, поступающих по вступительным испытаниям, доля неудач значительно выше"
      ]
    },
    {
      "cell_type": "markdown",
      "id": "cdd97eb0",
      "metadata": {
        "id": "cdd97eb0"
      },
      "source": [
        "## 3 гипотеза"
      ]
    },
    {
      "cell_type": "markdown",
      "id": "1ea8aea3",
      "metadata": {
        "id": "1ea8aea3"
      },
      "source": [
        "На экзаменах неудачи случаются чаще, чем на зачётах/диф. зачётах/при сдаче курсовых проектов\n",
        "\n",
        "Экзамены в вузе, как правило, сложнее зачётов, и их нельзя сдавать много раз. Причём, в некоторых местах, если студент не сдал определённое кол-во зачётов, то к экзаменам его тоже не допустят. Аналогично, с курсовыми проектами - человек, не закрывший курсовую, автоматически получает 2 за экзамен. Поэтому логично предположить, что доля задолженностей выше для экзаменов, чем для других форм отчётности"
      ]
    },
    {
      "cell_type": "code",
      "execution_count": null,
      "id": "9750ab4b",
      "metadata": {
        "colab": {
          "base_uri": "https://localhost:8080/"
        },
        "id": "9750ab4b",
        "outputId": "be58ad6d-6e4d-471a-94af-1cfb838d3cf7"
      },
      "outputs": [
        {
          "data": {
            "text/plain": [
              "['Зачет', 'Экзамен', 'Курсовой проект', 'Дифференцированный зачет']\n",
              "Categories (4, object): ['Дифференцированный зачет', 'Зачет', 'Курсовой проект', 'Экзамен']"
            ]
          },
          "execution_count": 66,
          "metadata": {},
          "output_type": "execute_result"
        }
      ],
      "source": [
        "df['TYPE_NAME'].unique()"
      ]
    },
    {
      "cell_type": "code",
      "execution_count": null,
      "id": "297c0d06",
      "metadata": {
        "colab": {
          "base_uri": "https://localhost:8080/",
          "height": 601
        },
        "id": "297c0d06",
        "outputId": "2775aa38-993a-42b2-b885-948d803d34a8"
      },
      "outputs": [
        {
          "data": {
            "image/png": "[encoded data removed]",
            "text/plain": [
              "<Figure size 618.375x576 with 1 Axes>"
            ]
          },
          "metadata": {
            "needs_background": "light"
          },
          "output_type": "display_data"
        }
      ],
      "source": [
        "temp_df_1 = df[df['TYPE_NAME']=='Экзамен']['DEBT']\\\n",
        "                .value_counts(normalize=True).rename('percent').reset_index()\n",
        "temp_df_1['TYPE_NAME'] = ['Экзамен'] * len(temp_df_1)\n",
        "\n",
        "temp_df_2 = df[df['TYPE_NAME']=='Зачет']['DEBT']\\\n",
        "                .value_counts(normalize=True).rename('percent').reset_index()\n",
        "temp_df_2['TYPE_NAME'] = ['Зачет'] * len(temp_df_2)\n",
        "\n",
        "temp_df_3 = df[df['TYPE_NAME']=='Дифференцированный зачет']['DEBT']\\\n",
        "                .value_counts(normalize=True).rename('percent').reset_index()\n",
        "temp_df_3['TYPE_NAME'] = ['Дифференцированный зачет'] * len(temp_df_3)\n",
        "               \n",
        "temp_df_4 = df[df['TYPE_NAME']=='Курсовой проект']['DEBT']\\\n",
        "                .value_counts(normalize=True).rename('percent').reset_index()\n",
        "temp_df_4['TYPE_NAME'] = ['Курсовой проект'] * len(temp_df_4)\n",
        "               \n",
        "\n",
        "target_values = pd.concat([temp_df_1, temp_df_2, temp_df_3, temp_df_4])\n",
        "target_values.rename(columns={\"index\": \"target\"}, inplace=True)\n",
        "target_values['percent']=target_values['percent']*100\n",
        "          \n",
        "g = sns.catplot(x='TYPE_NAME', y='percent', hue='target',\n",
        "                data=target_values, kind='bar', height=8)\n",
        "plt.title('Распределение target в разрезе типа экзамена')\n",
        "\n",
        "plot_text(g.ax);"
      ]
    },
    {
      "cell_type": "markdown",
      "id": "3bfd090c",
      "metadata": {
        "id": "3bfd090c"
      },
      "source": [
        "Гипотеза не подтвердилась - видим, что наиболее проблемными являются зачёты, а наименее - курсовые проекты"
      ]
    },
    {
      "cell_type": "markdown",
      "id": "d2857e62",
      "metadata": {
        "id": "d2857e62"
      },
      "source": [
        "## 4 гипотеза"
      ]
    },
    {
      "cell_type": "markdown",
      "id": "bd9737e4",
      "metadata": {
        "id": "bd9737e4"
      },
      "source": [
        "Вероятность наличия задолженности обратно пропорциональна среднему баллу поступления. Иными словами, в разрезе target распределения среднего балла отличаются, при этом распределение для строк, соответствующих успешной попытке, должно быть смещено вправо (т.е. в сторону максимального балла)"
      ]
    },
    {
      "cell_type": "code",
      "execution_count": null,
      "id": "a8496008",
      "metadata": {
        "colab": {
          "base_uri": "https://localhost:8080/",
          "height": 431
        },
        "id": "a8496008",
        "outputId": "9597a596-7ef4-45f6-f1bd-6b6a29e8230f"
      },
      "outputs": [
        {
          "data": {
            "image/png": "[encoded data removed]",
            "text/plain": [
              "<Figure size 432.375x360 with 1 Axes>"
            ]
          },
          "metadata": {
            "needs_background": "light"
          },
          "output_type": "display_data"
        }
      ],
      "source": [
        "# Сформируем столбец среднего балла\n",
        "df['mean_score'] = (df['ADMITTED_EXAM_1'] + df['ADMITTED_EXAM_2'] + df['ADMITTED_EXAM_3'])/3\n",
        "\n",
        "sns.displot(\n",
        "    data={\n",
        "        \"DEBT 0\": df[df.DEBT == 0]['mean_score'],\n",
        "        \"DEBT 1\": df[df.DEBT == 1]['mean_score']\n",
        "    },\n",
        "    kind=\"kde\",\n",
        "    common_norm=False,  \n",
        ")\n",
        "\n",
        "plt.title('Распределение значений mean_score\\n', fontsize=20)\n",
        "plt.xlabel('mean_score', fontsize=14)\n",
        "plt.ylabel('Dentsity', fontsize=14);"
      ]
    },
    {
      "cell_type": "code",
      "execution_count": null,
      "id": "530807f3",
      "metadata": {
        "colab": {
          "base_uri": "https://localhost:8080/",
          "height": 436
        },
        "id": "530807f3",
        "outputId": "95e0ff75-d384-42fc-e1b4-2686e69ecf6d"
      },
      "outputs": [
        {
          "data": {
            "image/png": "[encoded data removed]",
            "text/plain": [
              "<Figure size 576x432 with 1 Axes>"
            ]
          },
          "metadata": {
            "needs_background": "light"
          },
          "output_type": "display_data"
        }
      ],
      "source": [
        "sns.boxplot(x='DEBT', y='mean_score', data=df)\n",
        "\n",
        "plt.title('Boxplot mean_score\\n', fontsize=20)\n",
        "plt.ylabel('mean_score', fontsize=14)\n",
        "plt.xlabel('DEBT', fontsize=14);"
      ]
    },
    {
      "cell_type": "markdown",
      "id": "49220d4b",
      "metadata": {
        "id": "49220d4b"
      },
      "source": [
        "Гипотеза в принципе подтвердилась - по первому графику видно, что синее распределение смещено вправо. Это значит, что попытки, заканчивающиеся задолженностью, чаще приходятся на людей, имеющих меньшие баллы при поступлении. Боксплот также демонстрирует смещение статистик, хоть и не очень сильное"
      ]
    },
    {
      "cell_type": "markdown",
      "id": "01aa99d3",
      "metadata": {
        "id": "01aa99d3"
      },
      "source": [
        "# Вывод и сохранение датафрейма"
      ]
    },
    {
      "cell_type": "markdown",
      "id": "6e7e9e5a",
      "metadata": {
        "id": "6e7e9e5a"
      },
      "source": [
        "В целом, данные выглядят хорошо. Все признаки, которые мы исследовали, имеют какую-то связь с таргетом, а значит, будут полезными при обучении моделей\n",
        "\n",
        "Выполним финальное преобразование - удалим признаки  'ISU' и 'ST_YEAR', так как мы не знаем их на новых данных, следовательно и при обучении они нам не понадобятся, после чего сохраним датафрейм для дальнейшего использования"
      ]
    },
    {
      "cell_type": "code",
      "execution_count": null,
      "id": "ee0d7c50",
      "metadata": {
        "id": "ee0d7c50"
      },
      "outputs": [],
      "source": [
        "df.drop(columns=['ISU', 'ST_YEAR'], inplace=True)"
      ]
    },
    {
      "cell_type": "markdown",
      "id": "efe07d10",
      "metadata": {
        "id": "efe07d10"
      },
      "source": [
        "Сохраним в формате parquet, чтобы не терять типы столбцов"
      ]
    },
    {
      "cell_type": "code",
      "execution_count": null,
      "id": "6556a51c",
      "metadata": {
        "id": "6556a51c"
      },
      "outputs": [],
      "source": [
        "df.to_parquet('/content/data_test3.parquet.gzip')"
      ]
    }
  ],
  "metadata": {
    "colab": {
      "collapsed_sections": [],
      "provenance": []
    },
    "kernelspec": {
      "display_name": "Python 3 (ipykernel)",
      "language": "python",
      "name": "python3"
    },
    "language_info": {
      "codemirror_mode": {
        "name": "ipython",
        "version": 3
      },
      "file_extension": ".py",
      "mimetype": "text/x-python",
      "name": "python",
      "nbconvert_exporter": "python",
      "pygments_lexer": "ipython3",
      "version": "3.9.12"
    }
  },
  "nbformat": 4,
  "nbformat_minor": 5
}