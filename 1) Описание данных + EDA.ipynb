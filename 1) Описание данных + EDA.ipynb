{
 "cells": [
  {
   "cell_type": "markdown",
   "id": "90634fee",
   "metadata": {},
   "source": [
    "# Описание задачи"
   ]
  },
  {
   "cell_type": "markdown",
   "id": "9cd456c2",
   "metadata": {},
   "source": [
    "Данные были взяты с соревнования ods, которое закончилось пару месяцев назад (https://ods.ai/competitions/learning-analytics)\n",
    "\n",
    "Я взял датафреймы train и comp_portrait и поставил задачу предсказания наличия у студента задолженности (по конкретной дисциплине в конкретный семестр) на основе имеющейся о нём информации непосредственно в момент поступления в вуз. \n",
    "\n",
    "Таким образом, target является бинарным признаком (1 - есть задолженность, 0 - нет задолженностей), и мы будем решать задачу бинарной классификации "
   ]
  },
  {
   "cell_type": "markdown",
   "id": "067080e7",
   "metadata": {},
   "source": [
    "# Импорт библиотек"
   ]
  },
  {
   "cell_type": "code",
   "execution_count": 123,
   "id": "4e7aafb0",
   "metadata": {},
   "outputs": [],
   "source": [
    "import pandas as pd\n",
    "import seaborn as sns\n",
    "import matplotlib.pyplot as plt\n",
    "from matplotlib import rcParams"
   ]
  },
  {
   "cell_type": "markdown",
   "id": "5175ed6f",
   "metadata": {},
   "source": [
    "# Считывание данных"
   ]
  },
  {
   "cell_type": "markdown",
   "id": "a0bed179",
   "metadata": {},
   "source": [
    "## train.csv"
   ]
  },
  {
   "cell_type": "code",
   "execution_count": 124,
   "id": "6aba0a0b",
   "metadata": {},
   "outputs": [
    {
     "data": {
      "text/html": [
       "<div>\n",
       "<style scoped>\n",
       "    .dataframe tbody tr th:only-of-type {\n",
       "        vertical-align: middle;\n",
       "    }\n",
       "\n",
       "    .dataframe tbody tr th {\n",
       "        vertical-align: top;\n",
       "    }\n",
       "\n",
       "    .dataframe thead th {\n",
       "        text-align: right;\n",
       "    }\n",
       "</style>\n",
       "<table border=\"1\" class=\"dataframe\">\n",
       "  <thead>\n",
       "    <tr style=\"text-align: right;\">\n",
       "      <th></th>\n",
       "      <th>ISU</th>\n",
       "      <th>ST_YEAR</th>\n",
       "      <th>SEMESTER</th>\n",
       "      <th>DISC_ID</th>\n",
       "      <th>TYPE_NAME</th>\n",
       "      <th>DEBT</th>\n",
       "    </tr>\n",
       "  </thead>\n",
       "  <tbody>\n",
       "    <tr>\n",
       "      <th>0</th>\n",
       "      <td>17623928044460629977</td>\n",
       "      <td>2020</td>\n",
       "      <td>1</td>\n",
       "      <td>10502311854018326223</td>\n",
       "      <td>Зачет</td>\n",
       "      <td>0</td>\n",
       "    </tr>\n",
       "    <tr>\n",
       "      <th>1</th>\n",
       "      <td>17623928044460629977</td>\n",
       "      <td>2020</td>\n",
       "      <td>1</td>\n",
       "      <td>1601392918367593206</td>\n",
       "      <td>Зачет</td>\n",
       "      <td>0</td>\n",
       "    </tr>\n",
       "    <tr>\n",
       "      <th>2</th>\n",
       "      <td>17623928044460629977</td>\n",
       "      <td>2020</td>\n",
       "      <td>1</td>\n",
       "      <td>9559803959325174929</td>\n",
       "      <td>Зачет</td>\n",
       "      <td>0</td>\n",
       "    </tr>\n",
       "    <tr>\n",
       "      <th>3</th>\n",
       "      <td>17623928044460629977</td>\n",
       "      <td>2020</td>\n",
       "      <td>1</td>\n",
       "      <td>8955667882044263414</td>\n",
       "      <td>Зачет</td>\n",
       "      <td>0</td>\n",
       "    </tr>\n",
       "    <tr>\n",
       "      <th>4</th>\n",
       "      <td>17623928044460629977</td>\n",
       "      <td>2020</td>\n",
       "      <td>1</td>\n",
       "      <td>17741967398854095262</td>\n",
       "      <td>Экзамен</td>\n",
       "      <td>0</td>\n",
       "    </tr>\n",
       "  </tbody>\n",
       "</table>\n",
       "</div>"
      ],
      "text/plain": [
       "                    ISU  ST_YEAR  SEMESTER               DISC_ID TYPE_NAME  \\\n",
       "0  17623928044460629977     2020         1  10502311854018326223     Зачет   \n",
       "1  17623928044460629977     2020         1   1601392918367593206     Зачет   \n",
       "2  17623928044460629977     2020         1   9559803959325174929     Зачет   \n",
       "3  17623928044460629977     2020         1   8955667882044263414     Зачет   \n",
       "4  17623928044460629977     2020         1  17741967398854095262   Экзамен   \n",
       "\n",
       "   DEBT  \n",
       "0     0  \n",
       "1     0  \n",
       "2     0  \n",
       "3     0  \n",
       "4     0  "
      ]
     },
     "execution_count": 124,
     "metadata": {},
     "output_type": "execute_result"
    }
   ],
   "source": [
    "train = pd.read_csv('train.csv')\n",
    "train.head()"
   ]
  },
  {
   "cell_type": "markdown",
   "id": "de0cf6ee",
   "metadata": {},
   "source": [
    "Таргет для обучения с оценками и количеством долгов студентов\n",
    "\n",
    "- ISU - UID студента\n",
    "- SEMESTER - семестр получения оценки\n",
    "- DISC_ID - UID дисциплины\n",
    "- DEBT - факт наличия долга (0 - отсутствие, 1 - наличие) - таргет"
   ]
  },
  {
   "cell_type": "markdown",
   "id": "7a226ce7",
   "metadata": {},
   "source": [
    "## comp_portrait.csv"
   ]
  },
  {
   "cell_type": "code",
   "execution_count": 125,
   "id": "341ec0ff",
   "metadata": {},
   "outputs": [
    {
     "data": {
      "text/html": [
       "<div>\n",
       "<style scoped>\n",
       "    .dataframe tbody tr th:only-of-type {\n",
       "        vertical-align: middle;\n",
       "    }\n",
       "\n",
       "    .dataframe tbody tr th {\n",
       "        vertical-align: top;\n",
       "    }\n",
       "\n",
       "    .dataframe thead th {\n",
       "        text-align: right;\n",
       "    }\n",
       "</style>\n",
       "<table border=\"1\" class=\"dataframe\">\n",
       "  <thead>\n",
       "    <tr style=\"text-align: right;\">\n",
       "      <th></th>\n",
       "      <th>ISU</th>\n",
       "      <th>GENDER</th>\n",
       "      <th>CITIZENSHIP</th>\n",
       "      <th>EXAM_TYPE</th>\n",
       "      <th>EXAM_SUBJECT_1</th>\n",
       "      <th>EXAM_SUBJECT_2</th>\n",
       "      <th>EXAM_SUBJECT_3</th>\n",
       "      <th>ADMITTED_EXAM_1</th>\n",
       "      <th>ADMITTED_EXAM_2</th>\n",
       "      <th>ADMITTED_EXAM_3</th>\n",
       "      <th>ADMITTED_SUBJECT_PRIZE_LEVEL</th>\n",
       "      <th>REGION_ID</th>\n",
       "    </tr>\n",
       "  </thead>\n",
       "  <tbody>\n",
       "    <tr>\n",
       "      <th>0</th>\n",
       "      <td>8746993777733478780</td>\n",
       "      <td>Ж</td>\n",
       "      <td>15601729049989747827</td>\n",
       "      <td>ЕГЭ</td>\n",
       "      <td>70786669040476600</td>\n",
       "      <td>5533732657842394915</td>\n",
       "      <td>8388269026169219461</td>\n",
       "      <td>88.0</td>\n",
       "      <td>91.0</td>\n",
       "      <td>81.0</td>\n",
       "      <td>ЕГЭ</td>\n",
       "      <td>4877310761925081124</td>\n",
       "    </tr>\n",
       "    <tr>\n",
       "      <th>1</th>\n",
       "      <td>18279003839105282485</td>\n",
       "      <td>М</td>\n",
       "      <td>15601729049989747827</td>\n",
       "      <td>ВИ</td>\n",
       "      <td>70786669040476600</td>\n",
       "      <td>5533732657842394915</td>\n",
       "      <td>8388269026169219461</td>\n",
       "      <td>84.0</td>\n",
       "      <td>89.0</td>\n",
       "      <td>96.0</td>\n",
       "      <td>ЕГЭ</td>\n",
       "      <td>4877310761925081124</td>\n",
       "    </tr>\n",
       "    <tr>\n",
       "      <th>2</th>\n",
       "      <td>17601399077733331421</td>\n",
       "      <td>М</td>\n",
       "      <td>15601729049989747827</td>\n",
       "      <td>ВИ</td>\n",
       "      <td>70786669040476600</td>\n",
       "      <td>5533732657842394915</td>\n",
       "      <td>8388269026169219461</td>\n",
       "      <td>66.0</td>\n",
       "      <td>78.0</td>\n",
       "      <td>93.0</td>\n",
       "      <td>ЕГЭ</td>\n",
       "      <td>4877310761925081124</td>\n",
       "    </tr>\n",
       "    <tr>\n",
       "      <th>3</th>\n",
       "      <td>4111128904589594590</td>\n",
       "      <td>М</td>\n",
       "      <td>15601729049989747827</td>\n",
       "      <td>ВИ</td>\n",
       "      <td>70786669040476600</td>\n",
       "      <td>5533732657842394915</td>\n",
       "      <td>8388269026169219461</td>\n",
       "      <td>100.0</td>\n",
       "      <td>89.0</td>\n",
       "      <td>80.0</td>\n",
       "      <td>ЕГЭ</td>\n",
       "      <td>4877310761925081124</td>\n",
       "    </tr>\n",
       "    <tr>\n",
       "      <th>4</th>\n",
       "      <td>5943608672516320930</td>\n",
       "      <td>М</td>\n",
       "      <td>15601729049989747827</td>\n",
       "      <td>ВИ</td>\n",
       "      <td>70786669040476600</td>\n",
       "      <td>5533732657842394915</td>\n",
       "      <td>8388269026169219461</td>\n",
       "      <td>84.0</td>\n",
       "      <td>86.0</td>\n",
       "      <td>91.0</td>\n",
       "      <td>ЕГЭ</td>\n",
       "      <td>4877310761925081124</td>\n",
       "    </tr>\n",
       "  </tbody>\n",
       "</table>\n",
       "</div>"
      ],
      "text/plain": [
       "                    ISU GENDER           CITIZENSHIP EXAM_TYPE  \\\n",
       "0   8746993777733478780      Ж  15601729049989747827       ЕГЭ   \n",
       "1  18279003839105282485      М  15601729049989747827        ВИ   \n",
       "2  17601399077733331421      М  15601729049989747827        ВИ   \n",
       "3   4111128904589594590      М  15601729049989747827        ВИ   \n",
       "4   5943608672516320930      М  15601729049989747827        ВИ   \n",
       "\n",
       "      EXAM_SUBJECT_1       EXAM_SUBJECT_2       EXAM_SUBJECT_3  \\\n",
       "0  70786669040476600  5533732657842394915  8388269026169219461   \n",
       "1  70786669040476600  5533732657842394915  8388269026169219461   \n",
       "2  70786669040476600  5533732657842394915  8388269026169219461   \n",
       "3  70786669040476600  5533732657842394915  8388269026169219461   \n",
       "4  70786669040476600  5533732657842394915  8388269026169219461   \n",
       "\n",
       "   ADMITTED_EXAM_1  ADMITTED_EXAM_2  ADMITTED_EXAM_3  \\\n",
       "0             88.0             91.0             81.0   \n",
       "1             84.0             89.0             96.0   \n",
       "2             66.0             78.0             93.0   \n",
       "3            100.0             89.0             80.0   \n",
       "4             84.0             86.0             91.0   \n",
       "\n",
       "  ADMITTED_SUBJECT_PRIZE_LEVEL            REGION_ID  \n",
       "0                          ЕГЭ  4877310761925081124  \n",
       "1                          ЕГЭ  4877310761925081124  \n",
       "2                          ЕГЭ  4877310761925081124  \n",
       "3                          ЕГЭ  4877310761925081124  \n",
       "4                          ЕГЭ  4877310761925081124  "
      ]
     },
     "execution_count": 125,
     "metadata": {},
     "output_type": "execute_result"
    }
   ],
   "source": [
    "comp_portrait = pd.read_csv('comp_portrait.csv')\n",
    "comp_portrait.head()"
   ]
  },
  {
   "cell_type": "markdown",
   "id": "c2aa73e0",
   "metadata": {},
   "source": [
    "- ISU - UID студента\n",
    "- GENDER - пол\n",
    "- CITIZENSHIP - гражданство\n",
    "- EXAM_TYPE - форма зачисления (ЕГЭ, олимпиада, ВИ - вступительные испытания)\n",
    "- EXAM_SUBJECT_1 - первый экзамен ЕГЭ\n",
    "- EXAM_SUBJECT_2 - второй экзамен ЕГЭ\n",
    "- EXAM_SUBJECT_3 - третий экзамен ЕГЭ\n",
    "- ADMITTED_EXAM_1 - баллы за 1 экзамен ЕГЭ\n",
    "- ADMITTED_EXAM_2 - баллы за 2 экзамен ЕГЭ\n",
    "- ADMITTED_EXAM_3 - баллы за 3 экзамен ЕГЭ\n",
    "- ADMITTED_SUBJECT_PRIZE_LEVEL - уровень олимпиады (если есть)\n",
    "- REGION_ID - номер региона"
   ]
  },
  {
   "cell_type": "markdown",
   "id": "143caec3",
   "metadata": {},
   "source": [
    "## Объединение датафреймов"
   ]
  },
  {
   "cell_type": "code",
   "execution_count": 126,
   "id": "69ffd39e",
   "metadata": {},
   "outputs": [
    {
     "data": {
      "text/html": [
       "<div>\n",
       "<style scoped>\n",
       "    .dataframe tbody tr th:only-of-type {\n",
       "        vertical-align: middle;\n",
       "    }\n",
       "\n",
       "    .dataframe tbody tr th {\n",
       "        vertical-align: top;\n",
       "    }\n",
       "\n",
       "    .dataframe thead th {\n",
       "        text-align: right;\n",
       "    }\n",
       "</style>\n",
       "<table border=\"1\" class=\"dataframe\">\n",
       "  <thead>\n",
       "    <tr style=\"text-align: right;\">\n",
       "      <th></th>\n",
       "      <th>ISU</th>\n",
       "      <th>ST_YEAR</th>\n",
       "      <th>SEMESTER</th>\n",
       "      <th>DISC_ID</th>\n",
       "      <th>TYPE_NAME</th>\n",
       "      <th>DEBT</th>\n",
       "      <th>GENDER</th>\n",
       "      <th>CITIZENSHIP</th>\n",
       "      <th>EXAM_TYPE</th>\n",
       "      <th>EXAM_SUBJECT_1</th>\n",
       "      <th>EXAM_SUBJECT_2</th>\n",
       "      <th>EXAM_SUBJECT_3</th>\n",
       "      <th>ADMITTED_EXAM_1</th>\n",
       "      <th>ADMITTED_EXAM_2</th>\n",
       "      <th>ADMITTED_EXAM_3</th>\n",
       "      <th>ADMITTED_SUBJECT_PRIZE_LEVEL</th>\n",
       "      <th>REGION_ID</th>\n",
       "    </tr>\n",
       "  </thead>\n",
       "  <tbody>\n",
       "    <tr>\n",
       "      <th>0</th>\n",
       "      <td>17623928044460629977</td>\n",
       "      <td>2020</td>\n",
       "      <td>1</td>\n",
       "      <td>10502311854018326223</td>\n",
       "      <td>Зачет</td>\n",
       "      <td>0</td>\n",
       "      <td>М</td>\n",
       "      <td>15601729049989747827</td>\n",
       "      <td>ЕГЭ</td>\n",
       "      <td>70786669040476600</td>\n",
       "      <td>5533732657842394915</td>\n",
       "      <td>8388269026169219461</td>\n",
       "      <td>78.0</td>\n",
       "      <td>79.0</td>\n",
       "      <td>91.0</td>\n",
       "      <td>ЕГЭ</td>\n",
       "      <td>7805492244297918082</td>\n",
       "    </tr>\n",
       "    <tr>\n",
       "      <th>1</th>\n",
       "      <td>17623928044460629977</td>\n",
       "      <td>2020</td>\n",
       "      <td>1</td>\n",
       "      <td>1601392918367593206</td>\n",
       "      <td>Зачет</td>\n",
       "      <td>0</td>\n",
       "      <td>М</td>\n",
       "      <td>15601729049989747827</td>\n",
       "      <td>ЕГЭ</td>\n",
       "      <td>70786669040476600</td>\n",
       "      <td>5533732657842394915</td>\n",
       "      <td>8388269026169219461</td>\n",
       "      <td>78.0</td>\n",
       "      <td>79.0</td>\n",
       "      <td>91.0</td>\n",
       "      <td>ЕГЭ</td>\n",
       "      <td>7805492244297918082</td>\n",
       "    </tr>\n",
       "    <tr>\n",
       "      <th>2</th>\n",
       "      <td>17623928044460629977</td>\n",
       "      <td>2020</td>\n",
       "      <td>1</td>\n",
       "      <td>9559803959325174929</td>\n",
       "      <td>Зачет</td>\n",
       "      <td>0</td>\n",
       "      <td>М</td>\n",
       "      <td>15601729049989747827</td>\n",
       "      <td>ЕГЭ</td>\n",
       "      <td>70786669040476600</td>\n",
       "      <td>5533732657842394915</td>\n",
       "      <td>8388269026169219461</td>\n",
       "      <td>78.0</td>\n",
       "      <td>79.0</td>\n",
       "      <td>91.0</td>\n",
       "      <td>ЕГЭ</td>\n",
       "      <td>7805492244297918082</td>\n",
       "    </tr>\n",
       "    <tr>\n",
       "      <th>3</th>\n",
       "      <td>17623928044460629977</td>\n",
       "      <td>2020</td>\n",
       "      <td>1</td>\n",
       "      <td>8955667882044263414</td>\n",
       "      <td>Зачет</td>\n",
       "      <td>0</td>\n",
       "      <td>М</td>\n",
       "      <td>15601729049989747827</td>\n",
       "      <td>ЕГЭ</td>\n",
       "      <td>70786669040476600</td>\n",
       "      <td>5533732657842394915</td>\n",
       "      <td>8388269026169219461</td>\n",
       "      <td>78.0</td>\n",
       "      <td>79.0</td>\n",
       "      <td>91.0</td>\n",
       "      <td>ЕГЭ</td>\n",
       "      <td>7805492244297918082</td>\n",
       "    </tr>\n",
       "    <tr>\n",
       "      <th>4</th>\n",
       "      <td>17623928044460629977</td>\n",
       "      <td>2020</td>\n",
       "      <td>1</td>\n",
       "      <td>17741967398854095262</td>\n",
       "      <td>Экзамен</td>\n",
       "      <td>0</td>\n",
       "      <td>М</td>\n",
       "      <td>15601729049989747827</td>\n",
       "      <td>ЕГЭ</td>\n",
       "      <td>70786669040476600</td>\n",
       "      <td>5533732657842394915</td>\n",
       "      <td>8388269026169219461</td>\n",
       "      <td>78.0</td>\n",
       "      <td>79.0</td>\n",
       "      <td>91.0</td>\n",
       "      <td>ЕГЭ</td>\n",
       "      <td>7805492244297918082</td>\n",
       "    </tr>\n",
       "  </tbody>\n",
       "</table>\n",
       "</div>"
      ],
      "text/plain": [
       "                    ISU  ST_YEAR  SEMESTER               DISC_ID TYPE_NAME  \\\n",
       "0  17623928044460629977     2020         1  10502311854018326223     Зачет   \n",
       "1  17623928044460629977     2020         1   1601392918367593206     Зачет   \n",
       "2  17623928044460629977     2020         1   9559803959325174929     Зачет   \n",
       "3  17623928044460629977     2020         1   8955667882044263414     Зачет   \n",
       "4  17623928044460629977     2020         1  17741967398854095262   Экзамен   \n",
       "\n",
       "   DEBT GENDER           CITIZENSHIP EXAM_TYPE     EXAM_SUBJECT_1  \\\n",
       "0     0      М  15601729049989747827       ЕГЭ  70786669040476600   \n",
       "1     0      М  15601729049989747827       ЕГЭ  70786669040476600   \n",
       "2     0      М  15601729049989747827       ЕГЭ  70786669040476600   \n",
       "3     0      М  15601729049989747827       ЕГЭ  70786669040476600   \n",
       "4     0      М  15601729049989747827       ЕГЭ  70786669040476600   \n",
       "\n",
       "        EXAM_SUBJECT_2       EXAM_SUBJECT_3  ADMITTED_EXAM_1  ADMITTED_EXAM_2  \\\n",
       "0  5533732657842394915  8388269026169219461             78.0             79.0   \n",
       "1  5533732657842394915  8388269026169219461             78.0             79.0   \n",
       "2  5533732657842394915  8388269026169219461             78.0             79.0   \n",
       "3  5533732657842394915  8388269026169219461             78.0             79.0   \n",
       "4  5533732657842394915  8388269026169219461             78.0             79.0   \n",
       "\n",
       "   ADMITTED_EXAM_3 ADMITTED_SUBJECT_PRIZE_LEVEL            REGION_ID  \n",
       "0             91.0                          ЕГЭ  7805492244297918082  \n",
       "1             91.0                          ЕГЭ  7805492244297918082  \n",
       "2             91.0                          ЕГЭ  7805492244297918082  \n",
       "3             91.0                          ЕГЭ  7805492244297918082  \n",
       "4             91.0                          ЕГЭ  7805492244297918082  "
      ]
     },
     "execution_count": 126,
     "metadata": {},
     "output_type": "execute_result"
    }
   ],
   "source": [
    "df = pd.merge(train, comp_portrait, on='ISU')\n",
    "\n",
    "df.head()"
   ]
  },
  {
   "cell_type": "markdown",
   "id": "03afd4c6",
   "metadata": {},
   "source": [
    " # Знакомство с датафреймом + преобразования признаков"
   ]
  },
  {
   "cell_type": "markdown",
   "id": "eae196f0",
   "metadata": {},
   "source": [
    "## Основная информация"
   ]
  },
  {
   "cell_type": "markdown",
   "id": "3840eb03",
   "metadata": {},
   "source": [
    "Размер датафрейма"
   ]
  },
  {
   "cell_type": "code",
   "execution_count": 127,
   "id": "4a032022",
   "metadata": {},
   "outputs": [
    {
     "data": {
      "text/plain": [
       "(178899, 17)"
      ]
     },
     "execution_count": 127,
     "metadata": {},
     "output_type": "execute_result"
    }
   ],
   "source": [
    "df.shape"
   ]
  },
  {
   "cell_type": "markdown",
   "id": "40ab56d4",
   "metadata": {},
   "source": [
    "Общая сводка"
   ]
  },
  {
   "cell_type": "code",
   "execution_count": 128,
   "id": "28d1bdf5",
   "metadata": {},
   "outputs": [
    {
     "name": "stdout",
     "output_type": "stream",
     "text": [
      "<class 'pandas.core.frame.DataFrame'>\n",
      "Int64Index: 178899 entries, 0 to 178898\n",
      "Data columns (total 17 columns):\n",
      " #   Column                        Non-Null Count   Dtype  \n",
      "---  ------                        --------------   -----  \n",
      " 0   ISU                           178899 non-null  uint64 \n",
      " 1   ST_YEAR                       178899 non-null  int64  \n",
      " 2   SEMESTER                      178899 non-null  int64  \n",
      " 3   DISC_ID                       178899 non-null  uint64 \n",
      " 4   TYPE_NAME                     178899 non-null  object \n",
      " 5   DEBT                          178899 non-null  int64  \n",
      " 6   GENDER                        178899 non-null  object \n",
      " 7   CITIZENSHIP                   178899 non-null  uint64 \n",
      " 8   EXAM_TYPE                     178899 non-null  object \n",
      " 9   EXAM_SUBJECT_1                178899 non-null  uint64 \n",
      " 10  EXAM_SUBJECT_2                178899 non-null  uint64 \n",
      " 11  EXAM_SUBJECT_3                178899 non-null  uint64 \n",
      " 12  ADMITTED_EXAM_1               149985 non-null  float64\n",
      " 13  ADMITTED_EXAM_2               149985 non-null  float64\n",
      " 14  ADMITTED_EXAM_3               149985 non-null  float64\n",
      " 15  ADMITTED_SUBJECT_PRIZE_LEVEL  178899 non-null  object \n",
      " 16  REGION_ID                     178899 non-null  uint64 \n",
      "dtypes: float64(3), int64(3), object(4), uint64(7)\n",
      "memory usage: 24.6+ MB\n"
     ]
    }
   ],
   "source": [
    "df.info()"
   ]
  },
  {
   "cell_type": "markdown",
   "id": "b6d18bf4",
   "metadata": {},
   "source": [
    "## Заполнение пропусков"
   ]
  },
  {
   "cell_type": "markdown",
   "id": "fd8a36ef",
   "metadata": {},
   "source": [
    "Пропущенные значения (более наглядно)"
   ]
  },
  {
   "cell_type": "code",
   "execution_count": 129,
   "id": "c28f5e51",
   "metadata": {},
   "outputs": [
    {
     "data": {
      "text/plain": [
       "ISU                                 0\n",
       "ST_YEAR                             0\n",
       "SEMESTER                            0\n",
       "DISC_ID                             0\n",
       "TYPE_NAME                           0\n",
       "DEBT                                0\n",
       "GENDER                              0\n",
       "CITIZENSHIP                         0\n",
       "EXAM_TYPE                           0\n",
       "EXAM_SUBJECT_1                      0\n",
       "EXAM_SUBJECT_2                      0\n",
       "EXAM_SUBJECT_3                      0\n",
       "ADMITTED_EXAM_1                 28914\n",
       "ADMITTED_EXAM_2                 28914\n",
       "ADMITTED_EXAM_3                 28914\n",
       "ADMITTED_SUBJECT_PRIZE_LEVEL        0\n",
       "REGION_ID                           0\n",
       "dtype: int64"
      ]
     },
     "execution_count": 129,
     "metadata": {},
     "output_type": "execute_result"
    }
   ],
   "source": [
    "df.isna().sum()"
   ]
  },
  {
   "cell_type": "markdown",
   "id": "aef8dbb9",
   "metadata": {},
   "source": [
    "Видим, что есть пропуски в столбцах типа float. Заметим, что их значения - баллы за егэ, которые, вообще говоря, не могут быть дробными. Поэтому возьмём в качестве заполнителя медиану по всем значениям."
   ]
  },
  {
   "cell_type": "code",
   "execution_count": 130,
   "id": "54122f1c",
   "metadata": {},
   "outputs": [],
   "source": [
    "df.ADMITTED_EXAM_1  = df.ADMITTED_EXAM_1 .fillna(df.ADMITTED_EXAM_1.median())\n",
    "df.ADMITTED_EXAM_2  = df.ADMITTED_EXAM_2.fillna(df.ADMITTED_EXAM_2.median())\n",
    "df.ADMITTED_EXAM_3  = df.ADMITTED_EXAM_3 .fillna(df.ADMITTED_EXAM_3.median())"
   ]
  },
  {
   "cell_type": "markdown",
   "id": "bccfd4e2",
   "metadata": {},
   "source": [
    "## Изменение типов столбцов"
   ]
  },
  {
   "cell_type": "markdown",
   "id": "4ba337b1",
   "metadata": {},
   "source": [
    "Признаки DISC_ID, TYPE_NAME, GENDER, CITIZENSHIP, EXAM_TYPE, EXAM_SUBJECT_1, EXAM_SUBJECT_2, EXAM_SUBJECT_3, ADMITTED_SUBJECT_PRIZE_LEVEL, REGION_ID являются категориальными. Приведем их к категориальному типу"
   ]
  },
  {
   "cell_type": "code",
   "execution_count": 131,
   "id": "8b911334",
   "metadata": {},
   "outputs": [],
   "source": [
    "for col in ['DISC_ID', 'TYPE_NAME', 'GENDER', 'CITIZENSHIP', \n",
    "            'EXAM_TYPE', 'EXAM_SUBJECT_1', 'EXAM_SUBJECT_2', \n",
    "            'EXAM_SUBJECT_3', 'ADMITTED_SUBJECT_PRIZE_LEVEL', 'REGION_ID']:\n",
    "    \n",
    "    df[col] = df[col].astype('category')"
   ]
  },
  {
   "cell_type": "markdown",
   "id": "3a8b9c55",
   "metadata": {},
   "source": [
    "Посмотрим описательные статистики по float столбцам"
   ]
  },
  {
   "cell_type": "code",
   "execution_count": 132,
   "id": "009d32f3",
   "metadata": {},
   "outputs": [
    {
     "data": {
      "text/html": [
       "<div>\n",
       "<style scoped>\n",
       "    .dataframe tbody tr th:only-of-type {\n",
       "        vertical-align: middle;\n",
       "    }\n",
       "\n",
       "    .dataframe tbody tr th {\n",
       "        vertical-align: top;\n",
       "    }\n",
       "\n",
       "    .dataframe thead th {\n",
       "        text-align: right;\n",
       "    }\n",
       "</style>\n",
       "<table border=\"1\" class=\"dataframe\">\n",
       "  <thead>\n",
       "    <tr style=\"text-align: right;\">\n",
       "      <th></th>\n",
       "      <th>ADMITTED_EXAM_1</th>\n",
       "      <th>ADMITTED_EXAM_2</th>\n",
       "      <th>ADMITTED_EXAM_3</th>\n",
       "    </tr>\n",
       "  </thead>\n",
       "  <tbody>\n",
       "    <tr>\n",
       "      <th>count</th>\n",
       "      <td>178899.000000</td>\n",
       "      <td>178899.000000</td>\n",
       "      <td>178899.000000</td>\n",
       "    </tr>\n",
       "    <tr>\n",
       "      <th>mean</th>\n",
       "      <td>80.254406</td>\n",
       "      <td>82.561149</td>\n",
       "      <td>87.092018</td>\n",
       "    </tr>\n",
       "    <tr>\n",
       "      <th>std</th>\n",
       "      <td>9.432596</td>\n",
       "      <td>15.055835</td>\n",
       "      <td>8.857600</td>\n",
       "    </tr>\n",
       "    <tr>\n",
       "      <th>min</th>\n",
       "      <td>0.000000</td>\n",
       "      <td>0.000000</td>\n",
       "      <td>0.000000</td>\n",
       "    </tr>\n",
       "    <tr>\n",
       "      <th>25%</th>\n",
       "      <td>74.000000</td>\n",
       "      <td>79.000000</td>\n",
       "      <td>82.000000</td>\n",
       "    </tr>\n",
       "    <tr>\n",
       "      <th>50%</th>\n",
       "      <td>80.000000</td>\n",
       "      <td>84.000000</td>\n",
       "      <td>89.000000</td>\n",
       "    </tr>\n",
       "    <tr>\n",
       "      <th>75%</th>\n",
       "      <td>86.000000</td>\n",
       "      <td>91.000000</td>\n",
       "      <td>94.000000</td>\n",
       "    </tr>\n",
       "    <tr>\n",
       "      <th>max</th>\n",
       "      <td>100.000000</td>\n",
       "      <td>100.000000</td>\n",
       "      <td>100.000000</td>\n",
       "    </tr>\n",
       "  </tbody>\n",
       "</table>\n",
       "</div>"
      ],
      "text/plain": [
       "       ADMITTED_EXAM_1  ADMITTED_EXAM_2  ADMITTED_EXAM_3\n",
       "count    178899.000000    178899.000000    178899.000000\n",
       "mean         80.254406        82.561149        87.092018\n",
       "std           9.432596        15.055835         8.857600\n",
       "min           0.000000         0.000000         0.000000\n",
       "25%          74.000000        79.000000        82.000000\n",
       "50%          80.000000        84.000000        89.000000\n",
       "75%          86.000000        91.000000        94.000000\n",
       "max         100.000000       100.000000       100.000000"
      ]
     },
     "execution_count": 132,
     "metadata": {},
     "output_type": "execute_result"
    }
   ],
   "source": [
    "df.describe(include=[\"float64\"])"
   ]
  },
  {
   "cell_type": "markdown",
   "id": "9dcd9cc4",
   "metadata": {},
   "source": [
    "Посмотрим описательные статистики по category столбцам"
   ]
  },
  {
   "cell_type": "code",
   "execution_count": 133,
   "id": "08e398d2",
   "metadata": {},
   "outputs": [
    {
     "data": {
      "text/html": [
       "<div>\n",
       "<style scoped>\n",
       "    .dataframe tbody tr th:only-of-type {\n",
       "        vertical-align: middle;\n",
       "    }\n",
       "\n",
       "    .dataframe tbody tr th {\n",
       "        vertical-align: top;\n",
       "    }\n",
       "\n",
       "    .dataframe thead th {\n",
       "        text-align: right;\n",
       "    }\n",
       "</style>\n",
       "<table border=\"1\" class=\"dataframe\">\n",
       "  <thead>\n",
       "    <tr style=\"text-align: right;\">\n",
       "      <th></th>\n",
       "      <th>DISC_ID</th>\n",
       "      <th>TYPE_NAME</th>\n",
       "      <th>GENDER</th>\n",
       "      <th>CITIZENSHIP</th>\n",
       "      <th>EXAM_TYPE</th>\n",
       "      <th>EXAM_SUBJECT_1</th>\n",
       "      <th>EXAM_SUBJECT_2</th>\n",
       "      <th>EXAM_SUBJECT_3</th>\n",
       "      <th>ADMITTED_SUBJECT_PRIZE_LEVEL</th>\n",
       "      <th>REGION_ID</th>\n",
       "    </tr>\n",
       "  </thead>\n",
       "  <tbody>\n",
       "    <tr>\n",
       "      <th>count</th>\n",
       "      <td>178899</td>\n",
       "      <td>178899</td>\n",
       "      <td>178899</td>\n",
       "      <td>178899</td>\n",
       "      <td>178899</td>\n",
       "      <td>178899</td>\n",
       "      <td>178899</td>\n",
       "      <td>178899</td>\n",
       "      <td>178899</td>\n",
       "      <td>178899</td>\n",
       "    </tr>\n",
       "    <tr>\n",
       "      <th>unique</th>\n",
       "      <td>949</td>\n",
       "      <td>4</td>\n",
       "      <td>2</td>\n",
       "      <td>11</td>\n",
       "      <td>3</td>\n",
       "      <td>6</td>\n",
       "      <td>8</td>\n",
       "      <td>6</td>\n",
       "      <td>6</td>\n",
       "      <td>85</td>\n",
       "    </tr>\n",
       "    <tr>\n",
       "      <th>top</th>\n",
       "      <td>9028324525774925341</td>\n",
       "      <td>Зачет</td>\n",
       "      <td>М</td>\n",
       "      <td>15601729049989747827</td>\n",
       "      <td>ЕГЭ</td>\n",
       "      <td>70786669040476600</td>\n",
       "      <td>5533732657842394915</td>\n",
       "      <td>8388269026169219461</td>\n",
       "      <td>ЕГЭ</td>\n",
       "      <td>4877310761925081124</td>\n",
       "    </tr>\n",
       "    <tr>\n",
       "      <th>freq</th>\n",
       "      <td>11535</td>\n",
       "      <td>89404</td>\n",
       "      <td>121886</td>\n",
       "      <td>172308</td>\n",
       "      <td>142915</td>\n",
       "      <td>177126</td>\n",
       "      <td>128505</td>\n",
       "      <td>170807</td>\n",
       "      <td>137781</td>\n",
       "      <td>58807</td>\n",
       "    </tr>\n",
       "  </tbody>\n",
       "</table>\n",
       "</div>"
      ],
      "text/plain": [
       "                    DISC_ID TYPE_NAME  GENDER           CITIZENSHIP EXAM_TYPE  \\\n",
       "count                178899    178899  178899                178899    178899   \n",
       "unique                  949         4       2                    11         3   \n",
       "top     9028324525774925341     Зачет       М  15601729049989747827       ЕГЭ   \n",
       "freq                  11535     89404  121886                172308    142915   \n",
       "\n",
       "           EXAM_SUBJECT_1       EXAM_SUBJECT_2       EXAM_SUBJECT_3  \\\n",
       "count              178899               178899               178899   \n",
       "unique                  6                    8                    6   \n",
       "top     70786669040476600  5533732657842394915  8388269026169219461   \n",
       "freq               177126               128505               170807   \n",
       "\n",
       "       ADMITTED_SUBJECT_PRIZE_LEVEL            REGION_ID  \n",
       "count                        178899               178899  \n",
       "unique                            6                   85  \n",
       "top                             ЕГЭ  4877310761925081124  \n",
       "freq                         137781                58807  "
      ]
     },
     "execution_count": 133,
     "metadata": {},
     "output_type": "execute_result"
    }
   ],
   "source": [
    "df.describe(include=\"category\")"
   ]
  },
  {
   "cell_type": "markdown",
   "id": "bce41931",
   "metadata": {},
   "source": [
    "# Exploratory data analysis"
   ]
  },
  {
   "cell_type": "markdown",
   "id": "209fb27e",
   "metadata": {},
   "source": [
    "## Target"
   ]
  },
  {
   "cell_type": "markdown",
   "id": "febd125e",
   "metadata": {},
   "source": [
    "Посмотрим распределение целевой переменной"
   ]
  },
  {
   "cell_type": "code",
   "execution_count": 134,
   "id": "96744010",
   "metadata": {},
   "outputs": [
    {
     "data": {
      "image/png": "[encoded data removed]",
      "text/plain": [
       "<Figure size 576x432 with 1 Axes>"
      ]
     },
     "metadata": {},
     "output_type": "display_data"
    }
   ],
   "source": [
    "rcParams['figure.figsize'] = 8, 6\n",
    "\n",
    "# Функция, добавляющая подпись процентов на график barplot\n",
    "def plot_text(ax):\n",
    "    for p in ax.patches:\n",
    "        percentage = '{:.1f}%'.format(p.get_height())\n",
    "        ax.annotate(\n",
    "            percentage,  # текст\n",
    "            # координата xy\n",
    "            (p.get_x() + p.get_width() / 2., p.get_height()),\n",
    "            # центрирование\n",
    "            ha='center',\n",
    "            va='center',\n",
    "            xytext=(0, 10),\n",
    "            # точка смещения относительно координаты\n",
    "            textcoords='offset points',\n",
    "            fontsize=14)\n",
    "        \n",
    "# Датафрейм частот значений      \n",
    "norm_target = pd.DataFrame(df['DEBT'].value_counts(normalize=True).mul(100)\\\n",
    "                           .rename('percent')).reset_index()\n",
    "\n",
    "ax = sns.barplot(x='index', y='percent', data=norm_target)\n",
    "plot_text(ax)"
   ]
  },
  {
   "cell_type": "markdown",
   "id": "61a1d4ba",
   "metadata": {},
   "source": [
    "Видим сильный дисбаланс классов, это нужно будет учесть при обучении алгоритма"
   ]
  },
  {
   "cell_type": "markdown",
   "id": "fcc99c4b",
   "metadata": {},
   "source": [
    "Придумаем ряд гипотез, которые помогут нам лучше понять данные, и сразу же их проверим"
   ]
  },
  {
   "cell_type": "markdown",
   "id": "2c21c71b",
   "metadata": {},
   "source": [
    "## 1 гипотеза"
   ]
  },
  {
   "cell_type": "markdown",
   "id": "a023f035",
   "metadata": {},
   "source": [
    "Доля задолженностей у мужчин больше, чем у женщин (иными словами, вероятность того, что случайно выбранный объект с gender='М' будет принадлежать целевому классу больше вероятности того, что случайно выбранный объект с gender='Ж' будет принадлежать целевому классу)"
   ]
  },
  {
   "cell_type": "code",
   "execution_count": 135,
   "id": "89b0a5bf",
   "metadata": {},
   "outputs": [
    {
     "data": {
      "text/plain": [
       "<Figure size 864x5760 with 0 Axes>"
      ]
     },
     "metadata": {},
     "output_type": "display_data"
    },
    {
     "data": {
      "image/png": "[encoded data removed]",
      "text/plain": [
       "<Figure size 621.725x576 with 1 Axes>"
      ]
     },
     "metadata": {},
     "output_type": "display_data"
    }
   ],
   "source": [
    "fig = plt.gcf()\n",
    "fig.set_size_inches(12, 80)\n",
    "\n",
    "rcParams['figure.figsize'] = 8, 6\n",
    "\n",
    "temp_df_1 = df[df['GENDER']=='М']['DEBT']\\\n",
    "                .value_counts(normalize=True).rename('percent').reset_index()\n",
    "temp_df_1['GENDER'] = ['М'] * len(temp_df_1)\n",
    "\n",
    "temp_df_2 = df[df['GENDER']=='Ж']['DEBT']\\\n",
    "                .value_counts(normalize=True).rename('percent').reset_index()\n",
    "temp_df_2['GENDER'] = ['Ж'] * len(temp_df_2)\n",
    "\n",
    "\n",
    "target_values = pd.concat([temp_df_1, temp_df_2])\n",
    "target_values.rename(columns={\"index\": \"target\"}, inplace=True)\n",
    "target_values['percent']=target_values['percent']*100\n",
    "          \n",
    "g = sns.catplot(x='GENDER', y='percent', hue='target', data=target_values, kind='bar', height=8)\n",
    "plt.title('Распределение target в разрезе пола')\n",
    "\n",
    "plot_text(g.ax);"
   ]
  },
  {
   "cell_type": "markdown",
   "id": "103d56ff",
   "metadata": {},
   "source": [
    "Видим, что доля попыток, закончившихся задолженностью у мужчин почти в 2 раза больше, чем у женщин. Гипотеза подтвердилась, и можно сделать вывод, что пол является важным признаком в нашей задаче"
   ]
  },
  {
   "cell_type": "markdown",
   "id": "123c076b",
   "metadata": {},
   "source": [
    "## 2 гипотеза"
   ]
  },
  {
   "cell_type": "markdown",
   "id": "2772069f",
   "metadata": {},
   "source": [
    "Доля задолженностей у олимпиадников меньше, чем у тех, кто сдавал ЕГЭ или вступительные испытания.\n",
    "\n",
    "Это выглядит здравым предположением, так как задачи олимпиад обычно сложнее, и победители должны потратить на них много времени, параллельно готовясь к ЕГЭ/ ВИ. Даже людей, просто участвующих в олимпиадах обычно не очень много, и сложно представить, что те, кто в них побеждают, могут иметь плохие оценки в вузе"
   ]
  },
  {
   "cell_type": "code",
   "execution_count": 136,
   "id": "4e7fb7ce",
   "metadata": {},
   "outputs": [
    {
     "data": {
      "image/png": "[encoded data removed]",
      "text/plain": [
       "<Figure size 621.725x576 with 1 Axes>"
      ]
     },
     "metadata": {},
     "output_type": "display_data"
    }
   ],
   "source": [
    "temp_df_1 = df[df['EXAM_TYPE']=='ЕГЭ']['DEBT']\\\n",
    "                .value_counts(normalize=True).rename('percent').reset_index()\n",
    "temp_df_1['EXAM_TYPE'] = ['ЕГЭ'] * len(temp_df_1)\n",
    "\n",
    "temp_df_2 = df[df['EXAM_TYPE']=='ВИ']['DEBT']\\\n",
    "                .value_counts(normalize=True).rename('percent').reset_index()\n",
    "temp_df_2['EXAM_TYPE'] = ['ВИ'] * len(temp_df_1)\n",
    "\n",
    "temp_df_3 = df[df['EXAM_TYPE']=='ОЛИМПИАДА']['DEBT']\\\n",
    "                .value_counts(normalize=True).rename('percent').reset_index()\n",
    "temp_df_3['EXAM_TYPE'] = ['ОЛИМПИАДА'] * len(temp_df_1)\n",
    "\n",
    "target_values = pd.concat([temp_df_1, temp_df_2, temp_df_3])\n",
    "target_values.rename(columns={\"index\": \"target\"}, inplace=True)\n",
    "target_values['percent']=target_values['percent']*100\n",
    "          \n",
    "g = sns.catplot(x='EXAM_TYPE', y='percent', hue='target', data=target_values, kind='bar', height=8)\n",
    "plt.title('Распределение target в разрезе типа экзамена')\n",
    "\n",
    "plot_text(g.ax);"
   ]
  },
  {
   "cell_type": "markdown",
   "id": "28015f72",
   "metadata": {},
   "source": [
    "Вторая гипотеза тоже подтвердилась - видим, что олимпиадники более успешны относительно других каст, хоть они и обогнали сдающих ЕГЭ всего на 0.2%. При этом, у людей, поступающих по вступительным испытаниям, доля неудач значительно выше"
   ]
  },
  {
   "cell_type": "markdown",
   "id": "cdd97eb0",
   "metadata": {},
   "source": [
    "## 3 гипотеза"
   ]
  },
  {
   "cell_type": "markdown",
   "id": "1ea8aea3",
   "metadata": {},
   "source": [
    "На экзаменах неудачи случаются чаще, чем на зачётах/диф. зачётах/при сдаче курсовых проектов\n",
    "\n",
    "Экзамены в вузе, как правило, сложнее зачётов, и их нельзя сдавать много раз. Причём, в некоторых местах, если студент не сдал определённое кол-во зачётов, то к экзаменам его тоже не допустят. Аналогично, с курсовыми проектами - человек, не закрывший курсовую, автоматически получает 2 за экзамен. Поэтому логично предположить, что доля задолженностей выше для экзаменов, чем для других форм отчётности"
   ]
  },
  {
   "cell_type": "code",
   "execution_count": 137,
   "id": "9750ab4b",
   "metadata": {},
   "outputs": [
    {
     "data": {
      "text/plain": [
       "['Зачет', 'Экзамен', 'Курсовой проект', 'Дифференцированный зачет']\n",
       "Categories (4, object): ['Дифференцированный зачет', 'Зачет', 'Курсовой проект', 'Экзамен']"
      ]
     },
     "execution_count": 137,
     "metadata": {},
     "output_type": "execute_result"
    }
   ],
   "source": [
    "df['TYPE_NAME'].unique()"
   ]
  },
  {
   "cell_type": "code",
   "execution_count": 138,
   "id": "297c0d06",
   "metadata": {},
   "outputs": [
    {
     "data": {
      "image/png": "[encoded data removed]",
      "text/plain": [
       "<Figure size 621.725x576 with 1 Axes>"
      ]
     },
     "metadata": {},
     "output_type": "display_data"
    }
   ],
   "source": [
    "temp_df_1 = df[df['TYPE_NAME']=='Экзамен']['DEBT']\\\n",
    "                .value_counts(normalize=True).rename('percent').reset_index()\n",
    "temp_df_1['TYPE_NAME'] = ['Экзамен'] * len(temp_df_1)\n",
    "\n",
    "temp_df_2 = df[df['TYPE_NAME']=='Зачет']['DEBT']\\\n",
    "                .value_counts(normalize=True).rename('percent').reset_index()\n",
    "temp_df_2['TYPE_NAME'] = ['Зачет'] * len(temp_df_2)\n",
    "\n",
    "temp_df_3 = df[df['TYPE_NAME']=='Дифференцированный зачет']['DEBT']\\\n",
    "                .value_counts(normalize=True).rename('percent').reset_index()\n",
    "temp_df_3['TYPE_NAME'] = ['Дифференцированный зачет'] * len(temp_df_3)\n",
    "               \n",
    "temp_df_4 = df[df['TYPE_NAME']=='Курсовой проект']['DEBT']\\\n",
    "                .value_counts(normalize=True).rename('percent').reset_index()\n",
    "temp_df_4['TYPE_NAME'] = ['Курсовой проект'] * len(temp_df_4)\n",
    "               \n",
    "\n",
    "target_values = pd.concat([temp_df_1, temp_df_2, temp_df_3, temp_df_4])\n",
    "target_values.rename(columns={\"index\": \"target\"}, inplace=True)\n",
    "target_values['percent']=target_values['percent']*100\n",
    "          \n",
    "g = sns.catplot(x='TYPE_NAME', y='percent', hue='target',\n",
    "                data=target_values, kind='bar', height=8)\n",
    "plt.title('Распределение target в разрезе типа экзамена')\n",
    "\n",
    "plot_text(g.ax);"
   ]
  },
  {
   "cell_type": "markdown",
   "id": "3bfd090c",
   "metadata": {},
   "source": [
    "Гипотеза не подтвердилась - видим, что наиболее проблемными являются диф. зачёты, хотя экзамены обогнали их всего на 0.1%. При этом менее проблемными являются курсовые проекты, и уже после них обычные зачёты"
   ]
  },
  {
   "cell_type": "markdown",
   "id": "d2857e62",
   "metadata": {},
   "source": [
    "## 4 гипотеза"
   ]
  },
  {
   "cell_type": "markdown",
   "id": "bd9737e4",
   "metadata": {},
   "source": [
    "Вероятность наличия задолженности обратно пропорциональна среднему баллу поступления. Иными словами, в разрезе target распределения среднего балла отличаются, при этом распределение для строк, соответствующих успешной попытке, должно быть смещено вправо (т.е. в сторону максимального балла)"
   ]
  },
  {
   "cell_type": "code",
   "execution_count": 139,
   "id": "a8496008",
   "metadata": {},
   "outputs": [
    {
     "data": {
      "image/png": "[encoded data removed]",
      "text/plain": [
       "<Figure size 437.85x360 with 1 Axes>"
      ]
     },
     "metadata": {},
     "output_type": "display_data"
    }
   ],
   "source": [
    "# Сформируем столбец среднего балла\n",
    "df['mean_score'] = (df['ADMITTED_EXAM_1'] + df['ADMITTED_EXAM_2'] + df['ADMITTED_EXAM_3'])/3\n",
    "\n",
    "sns.displot(\n",
    "    data={\n",
    "        \"DEBT 0\": df[df.DEBT == 0]['mean_score'],\n",
    "        \"DEBT 1\": df[df.DEBT == 1]['mean_score']\n",
    "    },\n",
    "    kind=\"kde\",\n",
    "    common_norm=False,  \n",
    ")\n",
    "\n",
    "plt.title('Распределение значений mean_score\\n', fontsize=20)\n",
    "plt.xlabel('mean_score', fontsize=14)\n",
    "plt.ylabel('Dentsity', fontsize=14);"
   ]
  },
  {
   "cell_type": "code",
   "execution_count": 140,
   "id": "530807f3",
   "metadata": {},
   "outputs": [
    {
     "data": {
      "image/png": "[encoded data removed]",
      "text/plain": [
       "<Figure size 576x432 with 1 Axes>"
      ]
     },
     "metadata": {},
     "output_type": "display_data"
    }
   ],
   "source": [
    "sns.boxplot(x='DEBT', y='mean_score', data=df)\n",
    "\n",
    "plt.title('Boxplot mean_score\\n', fontsize=20)\n",
    "plt.ylabel('mean_score', fontsize=14)\n",
    "plt.xlabel('DEBT', fontsize=14);"
   ]
  },
  {
   "cell_type": "markdown",
   "id": "49220d4b",
   "metadata": {},
   "source": [
    "Гипотеза в принципе подтвердилась - по первому графику видно, что синее распределение смещено вправо. Это значит, что попытки, заканчивающиеся задолженностью, чаще приходятся на людей, имеющих меньшие баллы при поступлении. Боксплот также демонстрирует смещение статистик, хоть и не очень сильное"
   ]
  },
  {
   "cell_type": "markdown",
   "id": "01aa99d3",
   "metadata": {},
   "source": [
    "# Вывод и сохранение датафрейма"
   ]
  },
  {
   "cell_type": "markdown",
   "id": "6e7e9e5a",
   "metadata": {},
   "source": [
    "В целом, данные выглядят хорошо. Все признаки, которые мы исследовали, имеют какую-то связь с таргетом, а значит, будут полезными при обучении моделей\n",
    "\n",
    "Хоть в соревновании, из которого взяты датафреймы, решение оценивают по метрике f1, мы, как вольные художники, будем ориентироваться на roc_auc. Это тот критерий качества, на который я бы смотрел в реальной жизни, т.к. мне очень сложно представить ситуацию, в которой нам бы понадобилось предсказывать задолженности с той же эффективностью, что и их отсутствие. Скорее, нам важно как более полно найти целевой класс, чтобы как-то с ним поработать (в зависимости от проекта - предложить психологическую помощь, сделать рассылку на смену направления и т.д. Это примеры задач, для которых более критичным является пропуск объекта целевого класса, чем ошибочное отнесение нецелевого к целевому)\n",
    "\n",
    "Выполним финальное преобразование - удалим признаки  'ISU' и 'ST_YEAR', так как мы не знаем их на новых данных, следовательно и при обучении они нам не понадобятся, после чего сохраним датафрейм для дальнейшего использования"
   ]
  },
  {
   "cell_type": "code",
   "execution_count": 141,
   "id": "ee0d7c50",
   "metadata": {},
   "outputs": [],
   "source": [
    "df.drop(columns=['ISU', 'ST_YEAR'], inplace=True)"
   ]
  },
  {
   "cell_type": "markdown",
   "id": "efe07d10",
   "metadata": {},
   "source": [
    "Сохраним в формате pickle, чтобы не терять типы столбцов"
   ]
  },
  {
   "cell_type": "code",
   "execution_count": 142,
   "id": "47d29709",
   "metadata": {},
   "outputs": [],
   "source": [
    "df.to_pickle('data.pickle')"
   ]
  }
 ],
 "metadata": {
  "kernelspec": {
   "display_name": "Python 3 (ipykernel)",
   "language": "python",
   "name": "python3"
  },
  "language_info": {
   "codemirror_mode": {
    "name": "ipython",
    "version": 3
   },
   "file_extension": ".py",
   "mimetype": "text/x-python",
   "name": "python",
   "nbconvert_exporter": "python",
   "pygments_lexer": "ipython3",
   "version": "3.9.12"
  }
 },
 "nbformat": 4,
 "nbformat_minor": 5
}
